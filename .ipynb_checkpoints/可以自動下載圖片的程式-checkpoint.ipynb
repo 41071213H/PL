{
 "cells": [
  {
   "cell_type": "code",
   "execution_count": 11,
   "id": "48bb20fa",
   "metadata": {},
   "outputs": [
    {
     "name": "stdout",
     "output_type": "stream",
     "text": [
      "[<img alt=\"450-Square-Foot Studio Los Angeles Rental Apartment Photos | Apartment Therapy\" loading=\"lazy\" src=\"https://i.pinimg.com/474x/43/7c/50/437c50d2427e9e439f55c1ec5919508b.jpg\" style=\"width:100%;height:100%;object-fit:cover\"/>, <img alt=\"Jessie Ann\" class=\"hCL kVc L4E MIw\" importance=\"auto\" loading=\"auto\" src=\"https://i.pinimg.com/30x30_RS/40/08/3b/40083b5c8bfac587dbcda0ccdf143e45.jpg\"/>, <img alt=\"At Home with Design Crew: Neutral Meets Glam in a Small-Space Studio Apartment in NYC - Front + Main\" loading=\"lazy\" src=\"https://i.pinimg.com/474x/26/0b/92/260b92bc2309e7195eaa359bedccfe1a.jpg\" style=\"width:100%;height:100%;object-fit:cover\"/>, <img alt=\"Paisley Park Interiors\" class=\"hCL kVc L4E MIw\" importance=\"auto\" loading=\"auto\" src=\"https://i.pinimg.com/30x30_RS/e8/6f/ea/e86fea4b766bfdda4f751d46fc1d26b6.jpg\"/>, <img alt=\"5 Tips for Styling a Studio Apartment — Moda Misfit\" loading=\"lazy\" src=\"https://i.pinimg.com/474x/6b/64/3a/6b643a56a49fe93f85c2a26f32b72c6d.jpg\" style=\"width:100%;height:100%;object-fit:cover\"/>, <img alt=\"Jessica Hulsey\" class=\"hCL kVc L4E MIw\" importance=\"auto\" loading=\"auto\" src=\"https://i.pinimg.com/30x30_RS/49/b6/aa/49b6aa4c661ba1003c797a4edbfb68a7.jpg\"/>, <img alt=\"La rentrée approche. Pour les étudiants qui prennent leur premier appartement et leur envol, c'est un peu différent puisqu'avant de penser au cours, il y a tout l'emménagement qui est à prévoir. Et cela peut être assez déroutant quand on n'a pas l'habitude. J'ai déjà consacré plusieurs articles sur cette thématique. On a déjà eu l'occasion de parler de mobilier (pour les petits appartements &amp; studio). On a aussi abordé la question du confort parce que petit [...] La suite sur le blog\" loading=\"lazy\" src=\"https://i.pinimg.com/474x/b5/d1/11/b5d111ecd3539715207c4582e4cd4f61.jpg\" style=\"width:100%;height:100%;object-fit:cover\"/>, <img alt=\"Cocon - déco • slow • nomade\" class=\"hCL kVc L4E MIw\" importance=\"auto\" loading=\"auto\" src=\"https://i.pinimg.com/30x30_RS/0d/73/be/0d73be2e41ff1f50bd0fd50d555a25ec.jpg\"/>, <img alt=\"Brooklyn studio apartment tour\" loading=\"lazy\" src=\"https://i.pinimg.com/474x/2f/b5/ef/2fb5efc215b81e852f87f1ae9ee61c38.jpg\" style=\"width:100%;height:100%;object-fit:cover\"/>, <img alt=\"Akalei Star\" class=\"hCL kVc L4E MIw\" importance=\"auto\" loading=\"auto\" src=\"https://i.pinimg.com/30x30_RS/ed/b2/b7/edb2b7da048bd2cc5fcac59224c6b718.jpg\"/>, <img alt=\"At Home with Design Crew: Neutral Meets Glam in a Small-Space Studio Apartment in NYC - Front + Main\" loading=\"lazy\" src=\"https://i.pinimg.com/474x/d5/a8/57/d5a8574a5d441015b1cf42845de7c2d8.jpg\" style=\"width:100%;height:100%;object-fit:cover\"/>, <img alt=\"Découvrez comment fabriquer un porte manteau à - de 30€ grâce aux conseils de nos décorateurs ! #deco #diy #diydeco #portemanteau #studio\" loading=\"lazy\" src=\"https://i.pinimg.com/474x/a2/01/e7/a201e7ea8cb1d4d05e8bd1e96b4acc6d.jpg\" style=\"width:100%;height:100%;object-fit:cover\"/>, <img alt=\"RHINOV\" class=\"hCL kVc L4E MIw\" importance=\"auto\" loading=\"auto\" src=\"https://i.pinimg.com/30x30_RS/8f/46/85/8f4685fec9174bb8d8d94296a4ae6e94.jpg\"/>, <img alt=\"500 Square Foot Chicago Studio Apartment Photos | Apartment Therapy\" loading=\"lazy\" src=\"https://i.pinimg.com/474x/52/73/b8/5273b801052a7a98a0e9c879aa1c5906.jpg\" style=\"width:100%;height:100%;object-fit:cover\"/>, <img alt=\"400-Square-Foot Brooklyn Studio Apartment | Apartment Therapy\" loading=\"lazy\" src=\"https://i.pinimg.com/474x/49/78/fe/4978feb520198ffec83ec4af9dc37396.jpg\" style=\"width:100%;height:100%;object-fit:cover\"/>, <img alt=\"Amanda Jones\" class=\"hCL kVc L4E MIw\" importance=\"auto\" loading=\"auto\" src=\"https://i.pinimg.com/30x30_RS/84/01/b8/8401b8ca3405dab0f3f5bfc601d17f32.jpg\"/>, <img alt=\"Try this out! Hang your printables, artwork, photography or prints on wood panels. Its an inexpensive way to hang and display wall decor.\" loading=\"lazy\" src=\"https://i.pinimg.com/474x/82/4d/fe/824dfee3584d0bf1f7a499345a4765a7.jpg\" style=\"width:100%;height:100%;object-fit:cover\"/>, <img alt=\"Lacie's Home\" class=\"hCL kVc L4E MIw\" importance=\"auto\" loading=\"auto\" src=\"https://i.pinimg.com/30x30_RS/4e/fd/f0/4efdf07e98ca9df5a24b987eed5e0d91.jpg\"/>]\n",
      "img0.png下載成功\n",
      "img1.png下載成功\n",
      "img2.png下載成功\n",
      "img3.png下載成功\n",
      "img4.png下載成功\n",
      "img5.png下載成功\n",
      "img6.png下載成功\n",
      "img7.png下載成功\n",
      "img8.png下載成功\n",
      "img9.png下載成功\n",
      "img10.png下載成功\n",
      "img11.png下載成功\n",
      "img12.png下載成功\n",
      "img13.png下載成功\n",
      "img14.png下載成功\n",
      "img15.png下載成功\n",
      "img16.png下載成功\n",
      "img17.png下載成功\n",
      "下載完成\n"
     ]
    }
   ],
   "source": [
    "import requests                                                             #用來對網站發出請求的套件\n",
    "import os                                                                   #用來處理資料夾的套件\n",
    "import bs4                                                                  #用來解析HTML的套件\n",
    "\n",
    "def saveImage(postUrl):                                                     #建立函式方便使用\n",
    "    request = requests.get(postUrl)                                         #對網頁發出請求\n",
    "    data = bs4.BeautifulSoup(request.text, \"html.parser\")                   #以HTML格式解析網頁原始碼\n",
    "    imageData = data.find_all('img')  \n",
    "    print(imageData)\n",
    "    #抓取所有有<img>標籤內的資料\n",
    "    path = r\"image\"                                #存放照片的路徑\n",
    "    if (os.path.exists(path) == False):                                     #判斷主資料夾是否存在\n",
    "        os.makedirs(path)                                                   #不存在就建立一個\n",
    "    imgList = []                                                            #建立LIST用來放圖片URL\n",
    "    lenth = len(imageData)                                                  #建立變數紀錄imageData內有幾筆資料\n",
    "    for x in range(lenth):                                                  #建立用來迴圈放全部圖片URL 有幾個就放幾次\n",
    "        imgList.insert(x,imageData[x].attrs[\"src\"])                         #抓到src內的圖片連結並新增進imgList內\n",
    "    for i in range(lenth):                                                  #用來印出全部圖片\n",
    "        getImage = requests.get(imgList[i])                                 #抓取圖片URL\n",
    "        image = getImage.content                                            #將圖片資訊轉成二進位制\n",
    "        imageSave = open(path+\"\\img\"+str(i)+\".png\",\"wb\")                    #建立檔案\n",
    "        imageSave.write(image)                                              #將圖片資訊寫入檔案內\n",
    "        imageSave.close()                                                   #關檔\n",
    "        print(\"img\"+str(i)+\".png\"+\"下載成功\")                                #告知該圖片儲存成功\n",
    "postUrl = \"https://www.pinterest.com/ideas/small-studio-apartment/938830059670/\"          #欲抓取圖片之網頁的URL\n",
    "saveImage(postUrl)                                                          #執行函式\n",
    "print(\"下載完成\")                                                            #告知程式結束"
   ]
  },
  {
   "cell_type": "code",
   "execution_count": null,
   "id": "e43fdf8c",
   "metadata": {},
   "outputs": [],
   "source": []
  }
 ],
 "metadata": {
  "kernelspec": {
   "display_name": "Python 3 (ipykernel)",
   "language": "python",
   "name": "python3"
  },
  "language_info": {
   "codemirror_mode": {
    "name": "ipython",
    "version": 3
   },
   "file_extension": ".py",
   "mimetype": "text/x-python",
   "name": "python",
   "nbconvert_exporter": "python",
   "pygments_lexer": "ipython3",
   "version": "3.9.12"
  }
 },
 "nbformat": 4,
 "nbformat_minor": 5
}
