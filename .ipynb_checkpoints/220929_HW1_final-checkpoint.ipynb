{
 "cells": [
  {
   "cell_type": "code",
   "execution_count": 1,
   "id": "307d34dc",
   "metadata": {},
   "outputs": [],
   "source": [
    "\n",
    "#分析內容：師大合唱團的新生名單及參加迎新、試音活動的人是否有符合，若是其中有一些資料不符合，可能需要特別了解一下個別情況。\n",
    "\n",
    "#資料內容：\n",
    "##新生名單>chorus new member>cnm\n",
    "##試音名單>chorus audition form>caf\n",
    "##迎新名單>chorus welcome form>cwf\n"
   ]
  },
  {
   "cell_type": "code",
   "execution_count": 2,
   "id": "cbf0e2a7",
   "metadata": {},
   "outputs": [],
   "source": [
    "import pandas as pd  #使用pandas套件\n",
    "\n",
    "cnm = pd.read_csv(\"cnm.csv\", encoding='big5')\n",
    "caf = pd.read_csv(\"caf.csv\", encoding='big5')\n",
    "cwf = pd.read_csv(\"cwf.csv\", encoding='big5')\n",
    "#讀入csv檔"
   ]
  },
  {
   "cell_type": "code",
   "execution_count": 3,
   "id": "39579715",
   "metadata": {},
   "outputs": [
    {
     "name": "stdout",
     "output_type": "stream",
     "text": [
      "   新生名單\n",
      "40  黃禮佑\n",
      "41  劉力誠\n",
      "42   蕭佑\n",
      "43  林欣楷\n",
      "44  詹鈞揚\n",
      "   試音名單\n",
      "39  方心慈\n",
      "40  鄭昕霈\n",
      "41  楊卿雲\n",
      "42  蔡晉瑞\n",
      "43  申蕎榕\n",
      "                迎新名單\n",
      "28               謝語遙\n",
      "29               林沛瑢\n",
      "30                陳姮\n",
      "31               陳士祈\n",
      "32  Marybelle Garcia\n"
     ]
    }
   ],
   "source": [
    "print(cnm.tail())\n",
    "print(caf.tail())\n",
    "print(cwf.tail())\n",
    "#確認三個檔案是否正確讀入"
   ]
  },
  {
   "cell_type": "code",
   "execution_count": 4,
   "id": "6a07077e",
   "metadata": {},
   "outputs": [
    {
     "name": "stdout",
     "output_type": "stream",
     "text": [
      "新生名單: 45 試音名單: 44 迎新名單: 33\n"
     ]
    }
   ],
   "source": [
    "print(\"新生名單:\",len(cnm),\"試音名單:\",len(caf),\"迎新名單:\",len(cwf))\n",
    "#確認每個名單的數量"
   ]
  },
  {
   "cell_type": "code",
   "execution_count": 5,
   "id": "cd6fc071",
   "metadata": {},
   "outputs": [
    {
     "name": "stdout",
     "output_type": "stream",
     "text": [
      "  新生名單\n",
      "0  于千惠\n",
      "1  安欣怡\n",
      "2  許傑玫\n",
      "3   瀅熙\n",
      "4  陳士祈\n",
      "  試音名單\n",
      "0  林璇彩\n",
      "1  吳彥儀\n",
      "2  李丞桓\n",
      "3  洪婉晴\n",
      "4  傅晨寧\n",
      "  迎新名單\n",
      "0  林璇彩\n",
      "1  吳彥儀\n",
      "2  李丞桓\n",
      "3  詹鈞揚\n",
      "4  何柏萱\n"
     ]
    }
   ],
   "source": [
    "cnm_df = cnm.drop_duplicates(subset=['新生名單'])\n",
    "print(cnm_df.head())\n",
    "caf_df = caf.drop_duplicates(subset=['試音名單'])\n",
    "print(caf_df.head())\n",
    "cwf_df = cwf.drop_duplicates(subset=['迎新名單'])\n",
    "print(cwf_df.head())\n",
    "#除去可能重複的"
   ]
  },
  {
   "cell_type": "code",
   "execution_count": 6,
   "id": "092bb01b",
   "metadata": {},
   "outputs": [
    {
     "name": "stdout",
     "output_type": "stream",
     "text": [
      "新生名單: 45 試音名單: 44 迎新名單: 33\n"
     ]
    }
   ],
   "source": [
    "print(\"新生名單:\",len(cnm_df),\"試音名單:\",len(caf_df),\"迎新名單:\",len(cwf_df))\n",
    "#再確認每個名單的數量，看起來是都沒有重複"
   ]
  },
  {
   "cell_type": "code",
   "execution_count": 7,
   "id": "e18018ca",
   "metadata": {},
   "outputs": [
    {
     "data": {
      "text/html": [
       "<div>\n",
       "<style scoped>\n",
       "    .dataframe tbody tr th:only-of-type {\n",
       "        vertical-align: middle;\n",
       "    }\n",
       "\n",
       "    .dataframe tbody tr th {\n",
       "        vertical-align: top;\n",
       "    }\n",
       "\n",
       "    .dataframe thead th {\n",
       "        text-align: right;\n",
       "    }\n",
       "</style>\n",
       "<table border=\"1\" class=\"dataframe\">\n",
       "  <thead>\n",
       "    <tr style=\"text-align: right;\">\n",
       "      <th></th>\n",
       "      <th>新生名單</th>\n",
       "    </tr>\n",
       "  </thead>\n",
       "  <tbody>\n",
       "    <tr>\n",
       "      <th>0</th>\n",
       "      <td>于千惠</td>\n",
       "    </tr>\n",
       "    <tr>\n",
       "      <th>1</th>\n",
       "      <td>安欣怡</td>\n",
       "    </tr>\n",
       "    <tr>\n",
       "      <th>2</th>\n",
       "      <td>許傑玫</td>\n",
       "    </tr>\n",
       "    <tr>\n",
       "      <th>3</th>\n",
       "      <td>瀅熙</td>\n",
       "    </tr>\n",
       "    <tr>\n",
       "      <th>4</th>\n",
       "      <td>陳士祈</td>\n",
       "    </tr>\n",
       "    <tr>\n",
       "      <th>5</th>\n",
       "      <td>鄭欣恬</td>\n",
       "    </tr>\n",
       "    <tr>\n",
       "      <th>6</th>\n",
       "      <td>王婉薰</td>\n",
       "    </tr>\n",
       "    <tr>\n",
       "      <th>7</th>\n",
       "      <td>張憶文</td>\n",
       "    </tr>\n",
       "    <tr>\n",
       "      <th>8</th>\n",
       "      <td>旭奇</td>\n",
       "    </tr>\n",
       "    <tr>\n",
       "      <th>9</th>\n",
       "      <td>謝語遙</td>\n",
       "    </tr>\n",
       "    <tr>\n",
       "      <th>10</th>\n",
       "      <td>郭惠茹</td>\n",
       "    </tr>\n",
       "    <tr>\n",
       "      <th>11</th>\n",
       "      <td>陳姮</td>\n",
       "    </tr>\n",
       "    <tr>\n",
       "      <th>12</th>\n",
       "      <td>楊卿雲</td>\n",
       "    </tr>\n",
       "    <tr>\n",
       "      <th>13</th>\n",
       "      <td>何柏萱</td>\n",
       "    </tr>\n",
       "    <tr>\n",
       "      <th>14</th>\n",
       "      <td>俞孟昀</td>\n",
       "    </tr>\n",
       "    <tr>\n",
       "      <th>15</th>\n",
       "      <td>夏婉妮</td>\n",
       "    </tr>\n",
       "    <tr>\n",
       "      <th>16</th>\n",
       "      <td>龍俞孜</td>\n",
       "    </tr>\n",
       "    <tr>\n",
       "      <th>17</th>\n",
       "      <td>吳彥儀</td>\n",
       "    </tr>\n",
       "    <tr>\n",
       "      <th>18</th>\n",
       "      <td>林邑樺</td>\n",
       "    </tr>\n",
       "    <tr>\n",
       "      <th>19</th>\n",
       "      <td>林恝糸</td>\n",
       "    </tr>\n",
       "    <tr>\n",
       "      <th>20</th>\n",
       "      <td>林璇彩</td>\n",
       "    </tr>\n",
       "    <tr>\n",
       "      <th>21</th>\n",
       "      <td>許博涵</td>\n",
       "    </tr>\n",
       "    <tr>\n",
       "      <th>22</th>\n",
       "      <td>廖翊雯</td>\n",
       "    </tr>\n",
       "    <tr>\n",
       "      <th>23</th>\n",
       "      <td>齊雅立</td>\n",
       "    </tr>\n",
       "    <tr>\n",
       "      <th>24</th>\n",
       "      <td>陳凱倪</td>\n",
       "    </tr>\n",
       "    <tr>\n",
       "      <th>25</th>\n",
       "      <td>申蕎榕</td>\n",
       "    </tr>\n",
       "    <tr>\n",
       "      <th>26</th>\n",
       "      <td>莫靄冰</td>\n",
       "    </tr>\n",
       "    <tr>\n",
       "      <th>27</th>\n",
       "      <td>Lilly</td>\n",
       "    </tr>\n",
       "    <tr>\n",
       "      <th>28</th>\n",
       "      <td>李熔熔</td>\n",
       "    </tr>\n",
       "    <tr>\n",
       "      <th>29</th>\n",
       "      <td>盧怡仁</td>\n",
       "    </tr>\n",
       "    <tr>\n",
       "      <th>30</th>\n",
       "      <td>詹弘祥</td>\n",
       "    </tr>\n",
       "    <tr>\n",
       "      <th>31</th>\n",
       "      <td>劉冠廷</td>\n",
       "    </tr>\n",
       "    <tr>\n",
       "      <th>32</th>\n",
       "      <td>鄭昕霈</td>\n",
       "    </tr>\n",
       "    <tr>\n",
       "      <th>33</th>\n",
       "      <td>李丞桓</td>\n",
       "    </tr>\n",
       "    <tr>\n",
       "      <th>34</th>\n",
       "      <td>蔡晉瑞</td>\n",
       "    </tr>\n",
       "    <tr>\n",
       "      <th>35</th>\n",
       "      <td>敬文賢</td>\n",
       "    </tr>\n",
       "    <tr>\n",
       "      <th>36</th>\n",
       "      <td>陳崑賢</td>\n",
       "    </tr>\n",
       "    <tr>\n",
       "      <th>37</th>\n",
       "      <td>Graham</td>\n",
       "    </tr>\n",
       "    <tr>\n",
       "      <th>38</th>\n",
       "      <td>葉宗昀</td>\n",
       "    </tr>\n",
       "    <tr>\n",
       "      <th>39</th>\n",
       "      <td>張少萁</td>\n",
       "    </tr>\n",
       "    <tr>\n",
       "      <th>40</th>\n",
       "      <td>黃禮佑</td>\n",
       "    </tr>\n",
       "    <tr>\n",
       "      <th>41</th>\n",
       "      <td>劉力誠</td>\n",
       "    </tr>\n",
       "    <tr>\n",
       "      <th>42</th>\n",
       "      <td>蕭佑</td>\n",
       "    </tr>\n",
       "    <tr>\n",
       "      <th>43</th>\n",
       "      <td>林欣楷</td>\n",
       "    </tr>\n",
       "    <tr>\n",
       "      <th>44</th>\n",
       "      <td>詹鈞揚</td>\n",
       "    </tr>\n",
       "  </tbody>\n",
       "</table>\n",
       "</div>"
      ],
      "text/plain": [
       "      新生名單\n",
       "0      于千惠\n",
       "1      安欣怡\n",
       "2      許傑玫\n",
       "3       瀅熙\n",
       "4      陳士祈\n",
       "5      鄭欣恬\n",
       "6      王婉薰\n",
       "7      張憶文\n",
       "8       旭奇\n",
       "9      謝語遙\n",
       "10     郭惠茹\n",
       "11      陳姮\n",
       "12     楊卿雲\n",
       "13     何柏萱\n",
       "14     俞孟昀\n",
       "15     夏婉妮\n",
       "16     龍俞孜\n",
       "17     吳彥儀\n",
       "18     林邑樺\n",
       "19     林恝糸\n",
       "20     林璇彩\n",
       "21     許博涵\n",
       "22     廖翊雯\n",
       "23     齊雅立\n",
       "24     陳凱倪\n",
       "25     申蕎榕\n",
       "26     莫靄冰\n",
       "27   Lilly\n",
       "28     李熔熔\n",
       "29     盧怡仁\n",
       "30     詹弘祥\n",
       "31     劉冠廷\n",
       "32     鄭昕霈\n",
       "33     李丞桓\n",
       "34     蔡晉瑞\n",
       "35     敬文賢\n",
       "36     陳崑賢\n",
       "37  Graham\n",
       "38     葉宗昀\n",
       "39     張少萁\n",
       "40     黃禮佑\n",
       "41     劉力誠\n",
       "42      蕭佑\n",
       "43     林欣楷\n",
       "44     詹鈞揚"
      ]
     },
     "execution_count": 7,
     "metadata": {},
     "output_type": "execute_result"
    }
   ],
   "source": [
    "cnm\n",
    "#查看其中一個的完整名單"
   ]
  },
  {
   "cell_type": "code",
   "execution_count": 8,
   "id": "35b0d82b",
   "metadata": {},
   "outputs": [
    {
     "name": "stdout",
     "output_type": "stream",
     "text": [
      "['于千惠', '安欣怡', '許傑玫', '瀅熙', '陳士祈', '鄭欣恬', '王婉薰', '張憶文', '旭奇', '謝語遙', '郭惠茹', '陳姮', '楊卿雲', '何柏萱', '俞孟昀', '夏婉妮', '龍俞孜', '吳彥儀', '林邑樺', '林恝糸', '林璇彩', '許博涵', '廖翊雯', '齊雅立', '陳凱倪', '申蕎榕', '莫靄冰', 'Lilly', '李熔熔', '盧怡仁', '詹弘祥', '劉冠廷', '鄭昕霈', '李丞桓', '蔡晉瑞', '敬文賢', '陳崑賢', 'Graham', '葉宗昀', '張少萁', '黃禮佑', '劉力誠', '蕭佑', '林欣楷', '詹鈞揚']\n",
      "['林璇彩', '吳彥儀', '李丞桓', '洪婉晴', '傅晨寧', '施博瀚', '何柏萱', '許博涵', '劉冠廷', '林恝糸', '莫靄冰', '廖翊雯', '安欣怡', '林元方', '齊雅立', '俞孟昀', '張少萁', '劉力誠', '陳姮', '王婉薰', '吳宜庭', '陳士祈', '張憶文', '瑩熙', '于千惠', '詹弘祥', '蕭佑', '陳崑賢', '謝語遙', '黃禮佑', '郭惠茹', '盧怡仁', '林邑樺', '李熔熔', '龍俞孜', '敬文賢', '許傑玫', '夏婉妮', '林欣楷', '方心慈', '鄭昕霈', '楊卿雲', '蔡晉瑞', '申蕎榕']\n",
      "['林璇彩', '吳彥儀', '李丞桓', '詹鈞揚', '何柏萱', '龍俞孜', '陳崑賢', '王家鳳', '俞孟昀', '施博瀚', '蔡晉瑞', '鄭昕霈', '林元方', '吳宜庭', '張少萁', '黃禮佑', '林欣楷', '盧怡仁', '李熔熔', '許博涵', '方心慈', '劉冠廷', '林恝糸', '王婉薰', '莫靄冰', '楊卿雲', '廖翊雯', '蕭佑', '謝語遙', '林沛瑢', '陳姮', '陳士祈', 'Marybelle Garcia']\n"
     ]
    }
   ],
   "source": [
    "cnm_df = list(cnm['新生名單'])\n",
    "print(cnm_df)\n",
    "caf_df = list(caf['試音名單'])\n",
    "print(caf_df)\n",
    "cwf_df = list(cwf['迎新名單'])\n",
    "print(cwf_df)\n",
    "#將每個表格放入串列中"
   ]
  },
  {
   "cell_type": "code",
   "execution_count": 9,
   "id": "9c7da165",
   "metadata": {},
   "outputs": [
    {
     "name": "stdout",
     "output_type": "stream",
     "text": [
      "所有活動皆參加且正式成為團內新生： {'陳姮', '楊卿雲', '謝語遙', '吳彥儀', '陳士祈', '張少萁', '龍俞孜', '莫靄冰', '李丞桓', '林欣楷', '李熔熔', '劉冠廷', '俞孟昀', '陳崑賢', '蔡晉瑞', '黃禮佑', '鄭昕霈', '林恝糸', '林璇彩', '何柏萱', '王婉薰', '盧怡仁', '蕭佑', '許博涵', '廖翊雯'}\n",
      "皆參加人數： 25\n"
     ]
    }
   ],
   "source": [
    "alljoin = set(caf_df)&set(cnm_df)&set(cwf_df) #所有活動皆參加且正式成為團內新生\n",
    "print('所有活動皆參加且正式成為團內新生：',alljoin)\n",
    "print('皆參加人數：',len(alljoin))"
   ]
  },
  {
   "cell_type": "code",
   "execution_count": 10,
   "id": "50f43db5",
   "metadata": {},
   "outputs": [
    {
     "name": "stdout",
     "output_type": "stream",
     "text": [
      "所有可能對合唱團有興趣的潛在客戶： {'陳姮', '謝語遙', '吳彥儀', '張少萁', '陳凱倪', '齊雅立', '莫靄冰', '林沛瑢', '詹弘祥', '劉冠廷', '劉力誠', '郭惠茹', '陳崑賢', '黃禮佑', '吳宜庭', '敬文賢', '林元方', '許傑玫', '蕭佑', '瀅熙', '許博涵', '廖翊雯', '楊卿雲', '洪婉晴', '陳士祈', '鄭欣恬', '龍俞孜', '葉宗昀', '李丞桓', '申蕎榕', '瑩熙', '夏婉妮', '林邑樺', '林欣楷', '王家鳳', '李熔熔', '詹鈞揚', '施博瀚', '俞孟昀', '蔡晉瑞', '傅晨寧', '鄭昕霈', '林恝糸', '林璇彩', 'Graham', '何柏萱', '王婉薰', '張憶文', 'Lilly', '盧怡仁', '旭奇', '方心慈', '安欣怡', '于千惠', 'Marybelle Garcia'}\n",
      "曾經參加人數： 55\n"
     ]
    }
   ],
   "source": [
    "allmaybe = set(caf_df)|set(cnm_df)|set(cwf_df) #所有可能對合唱團有興趣的潛在客戶\n",
    "print('所有可能對合唱團有興趣的潛在客戶：',allmaybe)\n",
    "print('曾經參加人數：',len(allmaybe))"
   ]
  },
  {
   "cell_type": "code",
   "execution_count": 11,
   "id": "8b3cb55e",
   "metadata": {},
   "outputs": [
    {
     "name": "stdout",
     "output_type": "stream",
     "text": [
      "所有行政或是個案問題： {'陳姮', '謝語遙', '吳彥儀', '洪婉晴', '陳士祈', '鄭欣恬', '張少萁', '龍俞孜', '葉宗昀', '陳凱倪', '莫靄冰', '林沛瑢', '李丞桓', '瑩熙', '王家鳳', '林欣楷', '李熔熔', '劉冠廷', '俞孟昀', '陳崑賢', '蔡晉瑞', '黃禮佑', '傅晨寧', '鄭昕霈', '林恝糸', '林璇彩', 'Graham', '何柏萱', '王婉薰', '廖翊雯', 'Lilly', '盧怡仁', '旭奇', '蕭佑', '瀅熙', '許博涵', 'Marybelle Garcia', '楊卿雲'}\n",
      "需多加注意人數： 38\n"
     ]
    }
   ],
   "source": [
    "allproblem = set(caf_df)^set(cnm_df)^set(cwf_df) #所有行政或是個案問題\n",
    "print('所有行政或是個案問題：',allproblem)\n",
    "print('需多加注意人數：',len(allproblem))"
   ]
  },
  {
   "cell_type": "code",
   "execution_count": 12,
   "id": "ec78ae42",
   "metadata": {},
   "outputs": [
    {
     "name": "stdout",
     "output_type": "stream",
     "text": [
      "可能行政疏失需要趕快補資料；或是其他因素無法參加，需要多關心： {'傅晨寧', '洪婉晴', '吳宜庭', '林元方', '方心慈', '瑩熙', '施博瀚'}\n",
      "在「試音名單」卻沒有在「新生名單」人數： 7\n"
     ]
    }
   ],
   "source": [
    "notice_1 = set(caf_df)-set(cnm_df) #可能行政疏失需要趕快補資料；或是其他因素無法參加，需要多關心。\n",
    "print('可能行政疏失需要趕快補資料；或是其他因素無法參加，需要多關心：',notice_1)\n",
    "print('在「試音名單」卻沒有在「新生名單」人數：',len(notice_1))"
   ]
  },
  {
   "cell_type": "code",
   "execution_count": 13,
   "id": "dec70124",
   "metadata": {},
   "outputs": [
    {
     "name": "stdout",
     "output_type": "stream",
     "text": [
      "後來臨時新增的，需要確定是否試音及填寫團員資料卡： {'旭奇', '鄭欣恬', 'Graham', '瀅熙', '葉宗昀', '詹鈞揚', '陳凱倪', 'Lilly'}\n",
      "在「新生名單」卻沒有在「試音名單」人數： 8\n"
     ]
    }
   ],
   "source": [
    "notice_2 = set(cnm_df)-set(caf_df) #後來臨時新增的，需要確定是否試音及填寫團員資料卡。\n",
    "print('後來臨時新增的，需要確定是否試音及填寫團員資料卡：',notice_2)\n",
    "print('在「新生名單」卻沒有在「試音名單」人數：',len(notice_2))"
   ]
  },
  {
   "cell_type": "code",
   "execution_count": 14,
   "id": "f16ce06b",
   "metadata": {},
   "outputs": [
    {
     "name": "stdout",
     "output_type": "stream",
     "text": [
      "有其他安排沒辦法參加；或是沒收到其他資訊，不知道如何加入合唱團： {'林沛瑢', '林元方', '吳宜庭', '方心慈', '王家鳳', 'Marybelle Garcia', '施博瀚'}\n",
      "在「迎新名單」卻沒有在「新生名單」人數： 7\n"
     ]
    }
   ],
   "source": [
    "notice_3 = set(cwf_df)-set(cnm_df) #有其他安排沒辦法參加；或是沒收到其他資訊，不知道如何加入合唱團。\n",
    "print('有其他安排沒辦法參加；或是沒收到其他資訊，不知道如何加入合唱團：',notice_3)\n",
    "print('在「迎新名單」卻沒有在「新生名單」人數：',len(notice_3))"
   ]
  }
 ],
 "metadata": {
  "kernelspec": {
   "display_name": "Python 3 (ipykernel)",
   "language": "python",
   "name": "python3"
  },
  "language_info": {
   "codemirror_mode": {
    "name": "ipython",
    "version": 3
   },
   "file_extension": ".py",
   "mimetype": "text/x-python",
   "name": "python",
   "nbconvert_exporter": "python",
   "pygments_lexer": "ipython3",
   "version": "3.9.12"
  }
 },
 "nbformat": 4,
 "nbformat_minor": 5
}
