{
 "cells": [
  {
   "cell_type": "code",
   "execution_count": 1,
   "id": "6ae727b2",
   "metadata": {},
   "outputs": [],
   "source": [
    "import pandas as pd\n",
    "#read fild\n",
    "\n",
    "cnm = pd.read_csv(\"cnm.csv\", encoding='ISO-8859-1')\n",
    "caf = pd.read_csv(\"caf.csv\", encoding='ISO-8859-1')\n",
    "cwf = pd.read_csv(\"cwf.csv\", encoding='ISO-8859-1')"
   ]
  },
  {
   "cell_type": "code",
   "execution_count": 2,
   "id": "fc5f6535",
   "metadata": {},
   "outputs": [
    {
     "data": {
      "text/html": [
       "<div>\n",
       "<style scoped>\n",
       "    .dataframe tbody tr th:only-of-type {\n",
       "        vertical-align: middle;\n",
       "    }\n",
       "\n",
       "    .dataframe tbody tr th {\n",
       "        vertical-align: top;\n",
       "    }\n",
       "\n",
       "    .dataframe thead th {\n",
       "        text-align: right;\n",
       "    }\n",
       "</style>\n",
       "<table border=\"1\" class=\"dataframe\">\n",
       "  <thead>\n",
       "    <tr style=\"text-align: right;\">\n",
       "      <th></th>\n",
       "      <th>ªï·s¦W³æ</th>\n",
       "    </tr>\n",
       "  </thead>\n",
       "  <tbody>\n",
       "    <tr>\n",
       "      <th>28</th>\n",
       "      <td>ÁÂ»y»»</td>\n",
       "    </tr>\n",
       "    <tr>\n",
       "      <th>29</th>\n",
       "      <td>ªL¨KâÎ</td>\n",
       "    </tr>\n",
       "    <tr>\n",
       "      <th>30</th>\n",
       "      <td>³¯Îd</td>\n",
       "    </tr>\n",
       "    <tr>\n",
       "      <th>31</th>\n",
       "      <td>³¯¤h¬è</td>\n",
       "    </tr>\n",
       "    <tr>\n",
       "      <th>32</th>\n",
       "      <td>Marybelle Garcia</td>\n",
       "    </tr>\n",
       "  </tbody>\n",
       "</table>\n",
       "</div>"
      ],
      "text/plain": [
       "            ªï·s¦W³æ\n",
       "28            ÁÂ»y»»\n",
       "29            ªL¨KâÎ\n",
       "30              ³¯Îd\n",
       "31            ³¯¤h¬è\n",
       "32  Marybelle Garcia"
      ]
     },
     "execution_count": 2,
     "metadata": {},
     "output_type": "execute_result"
    }
   ],
   "source": [
    "cnm.tail()\n",
    "caf.tail()\n",
    "cwf.tail()"
   ]
  },
  {
   "cell_type": "code",
   "execution_count": 3,
   "id": "cfc34f59",
   "metadata": {},
   "outputs": [],
   "source": [
    "import pandas as pd\n",
    "#read fild\n",
    "\n",
    "cnm = pd.read_csv(\"cnm.csv\", encoding='big5')\n",
    "caf = pd.read_csv(\"caf.csv\", encoding='big5')\n",
    "cwf = pd.read_csv(\"cwf.csv\", encoding='big5')"
   ]
  },
  {
   "cell_type": "code",
   "execution_count": 4,
   "id": "f881fbbe",
   "metadata": {},
   "outputs": [
    {
     "data": {
      "text/html": [
       "<div>\n",
       "<style scoped>\n",
       "    .dataframe tbody tr th:only-of-type {\n",
       "        vertical-align: middle;\n",
       "    }\n",
       "\n",
       "    .dataframe tbody tr th {\n",
       "        vertical-align: top;\n",
       "    }\n",
       "\n",
       "    .dataframe thead th {\n",
       "        text-align: right;\n",
       "    }\n",
       "</style>\n",
       "<table border=\"1\" class=\"dataframe\">\n",
       "  <thead>\n",
       "    <tr style=\"text-align: right;\">\n",
       "      <th></th>\n",
       "      <th>新生名單</th>\n",
       "    </tr>\n",
       "  </thead>\n",
       "  <tbody>\n",
       "    <tr>\n",
       "      <th>40</th>\n",
       "      <td>黃禮佑</td>\n",
       "    </tr>\n",
       "    <tr>\n",
       "      <th>41</th>\n",
       "      <td>劉力誠</td>\n",
       "    </tr>\n",
       "    <tr>\n",
       "      <th>42</th>\n",
       "      <td>蕭佑</td>\n",
       "    </tr>\n",
       "    <tr>\n",
       "      <th>43</th>\n",
       "      <td>林欣楷</td>\n",
       "    </tr>\n",
       "    <tr>\n",
       "      <th>44</th>\n",
       "      <td>詹鈞揚</td>\n",
       "    </tr>\n",
       "  </tbody>\n",
       "</table>\n",
       "</div>"
      ],
      "text/plain": [
       "   新生名單\n",
       "40  黃禮佑\n",
       "41  劉力誠\n",
       "42   蕭佑\n",
       "43  林欣楷\n",
       "44  詹鈞揚"
      ]
     },
     "execution_count": 4,
     "metadata": {},
     "output_type": "execute_result"
    }
   ],
   "source": [
    "cnm.tail()"
   ]
  },
  {
   "cell_type": "code",
   "execution_count": 5,
   "id": "885aa4ee",
   "metadata": {},
   "outputs": [
    {
     "data": {
      "text/html": [
       "<div>\n",
       "<style scoped>\n",
       "    .dataframe tbody tr th:only-of-type {\n",
       "        vertical-align: middle;\n",
       "    }\n",
       "\n",
       "    .dataframe tbody tr th {\n",
       "        vertical-align: top;\n",
       "    }\n",
       "\n",
       "    .dataframe thead th {\n",
       "        text-align: right;\n",
       "    }\n",
       "</style>\n",
       "<table border=\"1\" class=\"dataframe\">\n",
       "  <thead>\n",
       "    <tr style=\"text-align: right;\">\n",
       "      <th></th>\n",
       "      <th>試音名單</th>\n",
       "    </tr>\n",
       "  </thead>\n",
       "  <tbody>\n",
       "    <tr>\n",
       "      <th>39</th>\n",
       "      <td>方心慈</td>\n",
       "    </tr>\n",
       "    <tr>\n",
       "      <th>40</th>\n",
       "      <td>鄭昕霈</td>\n",
       "    </tr>\n",
       "    <tr>\n",
       "      <th>41</th>\n",
       "      <td>Britta Jahn</td>\n",
       "    </tr>\n",
       "    <tr>\n",
       "      <th>42</th>\n",
       "      <td>蔡晉瑞</td>\n",
       "    </tr>\n",
       "    <tr>\n",
       "      <th>43</th>\n",
       "      <td>申蕎榕</td>\n",
       "    </tr>\n",
       "  </tbody>\n",
       "</table>\n",
       "</div>"
      ],
      "text/plain": [
       "           試音名單\n",
       "39          方心慈\n",
       "40          鄭昕霈\n",
       "41  Britta Jahn\n",
       "42          蔡晉瑞\n",
       "43          申蕎榕"
      ]
     },
     "execution_count": 5,
     "metadata": {},
     "output_type": "execute_result"
    }
   ],
   "source": [
    "caf.tail()"
   ]
  },
  {
   "cell_type": "code",
   "execution_count": 6,
   "id": "873a8dc4",
   "metadata": {},
   "outputs": [
    {
     "data": {
      "text/html": [
       "<div>\n",
       "<style scoped>\n",
       "    .dataframe tbody tr th:only-of-type {\n",
       "        vertical-align: middle;\n",
       "    }\n",
       "\n",
       "    .dataframe tbody tr th {\n",
       "        vertical-align: top;\n",
       "    }\n",
       "\n",
       "    .dataframe thead th {\n",
       "        text-align: right;\n",
       "    }\n",
       "</style>\n",
       "<table border=\"1\" class=\"dataframe\">\n",
       "  <thead>\n",
       "    <tr style=\"text-align: right;\">\n",
       "      <th></th>\n",
       "      <th>迎新名單</th>\n",
       "    </tr>\n",
       "  </thead>\n",
       "  <tbody>\n",
       "    <tr>\n",
       "      <th>28</th>\n",
       "      <td>謝語遙</td>\n",
       "    </tr>\n",
       "    <tr>\n",
       "      <th>29</th>\n",
       "      <td>林沛瑢</td>\n",
       "    </tr>\n",
       "    <tr>\n",
       "      <th>30</th>\n",
       "      <td>陳姮</td>\n",
       "    </tr>\n",
       "    <tr>\n",
       "      <th>31</th>\n",
       "      <td>陳士祈</td>\n",
       "    </tr>\n",
       "    <tr>\n",
       "      <th>32</th>\n",
       "      <td>Marybelle Garcia</td>\n",
       "    </tr>\n",
       "  </tbody>\n",
       "</table>\n",
       "</div>"
      ],
      "text/plain": [
       "                迎新名單\n",
       "28               謝語遙\n",
       "29               林沛瑢\n",
       "30                陳姮\n",
       "31               陳士祈\n",
       "32  Marybelle Garcia"
      ]
     },
     "execution_count": 6,
     "metadata": {},
     "output_type": "execute_result"
    }
   ],
   "source": [
    "cwf.tail()"
   ]
  },
  {
   "cell_type": "code",
   "execution_count": 7,
   "id": "7fbe84d7",
   "metadata": {},
   "outputs": [
    {
     "name": "stdout",
     "output_type": "stream",
     "text": [
      "新生名單: 45 試音名單: 44 迎新名單: 33\n"
     ]
    }
   ],
   "source": [
    "print(\"新生名單:\",len(cnm),\"試音名單:\",len(caf),\"迎新名單:\",len(cwf))"
   ]
  },
  {
   "cell_type": "code",
   "execution_count": 8,
   "id": "3a9d83ad",
   "metadata": {},
   "outputs": [
    {
     "data": {
      "text/html": [
       "<div>\n",
       "<style scoped>\n",
       "    .dataframe tbody tr th:only-of-type {\n",
       "        vertical-align: middle;\n",
       "    }\n",
       "\n",
       "    .dataframe tbody tr th {\n",
       "        vertical-align: top;\n",
       "    }\n",
       "\n",
       "    .dataframe thead th {\n",
       "        text-align: right;\n",
       "    }\n",
       "</style>\n",
       "<table border=\"1\" class=\"dataframe\">\n",
       "  <thead>\n",
       "    <tr style=\"text-align: right;\">\n",
       "      <th></th>\n",
       "      <th>新生名單</th>\n",
       "    </tr>\n",
       "  </thead>\n",
       "  <tbody>\n",
       "    <tr>\n",
       "      <th>0</th>\n",
       "      <td>于千惠</td>\n",
       "    </tr>\n",
       "    <tr>\n",
       "      <th>1</th>\n",
       "      <td>安欣怡</td>\n",
       "    </tr>\n",
       "    <tr>\n",
       "      <th>2</th>\n",
       "      <td>許傑玫</td>\n",
       "    </tr>\n",
       "    <tr>\n",
       "      <th>3</th>\n",
       "      <td>瀅熙</td>\n",
       "    </tr>\n",
       "    <tr>\n",
       "      <th>4</th>\n",
       "      <td>陳士祈</td>\n",
       "    </tr>\n",
       "  </tbody>\n",
       "</table>\n",
       "</div>"
      ],
      "text/plain": [
       "  新生名單\n",
       "0  于千惠\n",
       "1  安欣怡\n",
       "2  許傑玫\n",
       "3   瀅熙\n",
       "4  陳士祈"
      ]
     },
     "execution_count": 8,
     "metadata": {},
     "output_type": "execute_result"
    }
   ],
   "source": [
    "cnm_df = cnm.drop_duplicates(subset=['新生名單'])\n",
    "cnm_df.head()"
   ]
  },
  {
   "cell_type": "code",
   "execution_count": 9,
   "id": "4598ecb5",
   "metadata": {},
   "outputs": [
    {
     "name": "stdout",
     "output_type": "stream",
     "text": [
      "新生名單: 45 試音名單: 44 迎新名單: 33\n"
     ]
    }
   ],
   "source": [
    "print(\"新生名單:\",len(cnm),\"試音名單:\",len(caf),\"迎新名單:\",len(cwf))"
   ]
  },
  {
   "cell_type": "code",
   "execution_count": 10,
   "id": "30bc3034",
   "metadata": {},
   "outputs": [
    {
     "data": {
      "text/html": [
       "<div>\n",
       "<style scoped>\n",
       "    .dataframe tbody tr th:only-of-type {\n",
       "        vertical-align: middle;\n",
       "    }\n",
       "\n",
       "    .dataframe tbody tr th {\n",
       "        vertical-align: top;\n",
       "    }\n",
       "\n",
       "    .dataframe thead th {\n",
       "        text-align: right;\n",
       "    }\n",
       "</style>\n",
       "<table border=\"1\" class=\"dataframe\">\n",
       "  <thead>\n",
       "    <tr style=\"text-align: right;\">\n",
       "      <th></th>\n",
       "      <th>迎新名單</th>\n",
       "    </tr>\n",
       "  </thead>\n",
       "  <tbody>\n",
       "    <tr>\n",
       "      <th>0</th>\n",
       "      <td>林璇彩</td>\n",
       "    </tr>\n",
       "    <tr>\n",
       "      <th>1</th>\n",
       "      <td>吳彥儀</td>\n",
       "    </tr>\n",
       "    <tr>\n",
       "      <th>2</th>\n",
       "      <td>李丞桓</td>\n",
       "    </tr>\n",
       "    <tr>\n",
       "      <th>3</th>\n",
       "      <td>詹鈞揚</td>\n",
       "    </tr>\n",
       "    <tr>\n",
       "      <th>4</th>\n",
       "      <td>何柏萱</td>\n",
       "    </tr>\n",
       "  </tbody>\n",
       "</table>\n",
       "</div>"
      ],
      "text/plain": [
       "  迎新名單\n",
       "0  林璇彩\n",
       "1  吳彥儀\n",
       "2  李丞桓\n",
       "3  詹鈞揚\n",
       "4  何柏萱"
      ]
     },
     "execution_count": 10,
     "metadata": {},
     "output_type": "execute_result"
    }
   ],
   "source": [
    "caf_df = caf.drop_duplicates(subset=['試音名單'])\n",
    "caf_df.head()\n",
    "cwf_df = cwf.drop_duplicates(subset=['迎新名單'])\n",
    "cwf_df.head()"
   ]
  },
  {
   "cell_type": "code",
   "execution_count": 11,
   "id": "61904e30",
   "metadata": {},
   "outputs": [
    {
     "data": {
      "text/html": [
       "<div>\n",
       "<style scoped>\n",
       "    .dataframe tbody tr th:only-of-type {\n",
       "        vertical-align: middle;\n",
       "    }\n",
       "\n",
       "    .dataframe tbody tr th {\n",
       "        vertical-align: top;\n",
       "    }\n",
       "\n",
       "    .dataframe thead th {\n",
       "        text-align: right;\n",
       "    }\n",
       "</style>\n",
       "<table border=\"1\" class=\"dataframe\">\n",
       "  <thead>\n",
       "    <tr style=\"text-align: right;\">\n",
       "      <th></th>\n",
       "      <th>試音名單</th>\n",
       "    </tr>\n",
       "  </thead>\n",
       "  <tbody>\n",
       "    <tr>\n",
       "      <th>0</th>\n",
       "      <td>林璇彩</td>\n",
       "    </tr>\n",
       "    <tr>\n",
       "      <th>1</th>\n",
       "      <td>吳彥儀</td>\n",
       "    </tr>\n",
       "    <tr>\n",
       "      <th>2</th>\n",
       "      <td>李丞桓</td>\n",
       "    </tr>\n",
       "    <tr>\n",
       "      <th>3</th>\n",
       "      <td>洪婉晴</td>\n",
       "    </tr>\n",
       "    <tr>\n",
       "      <th>4</th>\n",
       "      <td>傅晨寧</td>\n",
       "    </tr>\n",
       "  </tbody>\n",
       "</table>\n",
       "</div>"
      ],
      "text/plain": [
       "  試音名單\n",
       "0  林璇彩\n",
       "1  吳彥儀\n",
       "2  李丞桓\n",
       "3  洪婉晴\n",
       "4  傅晨寧"
      ]
     },
     "execution_count": 11,
     "metadata": {},
     "output_type": "execute_result"
    }
   ],
   "source": [
    "caf_df = caf.drop_duplicates(subset=['試音名單'])\n",
    "caf_df.head()"
   ]
  },
  {
   "cell_type": "code",
   "execution_count": 12,
   "id": "ae764375",
   "metadata": {},
   "outputs": [
    {
     "name": "stdout",
     "output_type": "stream",
     "text": [
      "新生名單: 45 試音名單: 44 迎新名單: 33\n"
     ]
    }
   ],
   "source": [
    "print(\"新生名單:\",len(cnm),\"試音名單:\",len(caf),\"迎新名單:\",len(cwf))"
   ]
  },
  {
   "cell_type": "code",
   "execution_count": 13,
   "id": "e818c2af",
   "metadata": {},
   "outputs": [
    {
     "data": {
      "text/html": [
       "<div>\n",
       "<style scoped>\n",
       "    .dataframe tbody tr th:only-of-type {\n",
       "        vertical-align: middle;\n",
       "    }\n",
       "\n",
       "    .dataframe tbody tr th {\n",
       "        vertical-align: top;\n",
       "    }\n",
       "\n",
       "    .dataframe thead th {\n",
       "        text-align: right;\n",
       "    }\n",
       "</style>\n",
       "<table border=\"1\" class=\"dataframe\">\n",
       "  <thead>\n",
       "    <tr style=\"text-align: right;\">\n",
       "      <th></th>\n",
       "      <th>新生名單</th>\n",
       "    </tr>\n",
       "  </thead>\n",
       "  <tbody>\n",
       "    <tr>\n",
       "      <th>0</th>\n",
       "      <td>于千惠</td>\n",
       "    </tr>\n",
       "    <tr>\n",
       "      <th>1</th>\n",
       "      <td>安欣怡</td>\n",
       "    </tr>\n",
       "    <tr>\n",
       "      <th>2</th>\n",
       "      <td>許傑玫</td>\n",
       "    </tr>\n",
       "    <tr>\n",
       "      <th>3</th>\n",
       "      <td>瀅熙</td>\n",
       "    </tr>\n",
       "    <tr>\n",
       "      <th>4</th>\n",
       "      <td>陳士祈</td>\n",
       "    </tr>\n",
       "    <tr>\n",
       "      <th>5</th>\n",
       "      <td>鄭欣恬</td>\n",
       "    </tr>\n",
       "    <tr>\n",
       "      <th>6</th>\n",
       "      <td>王婉薰</td>\n",
       "    </tr>\n",
       "    <tr>\n",
       "      <th>7</th>\n",
       "      <td>張憶文</td>\n",
       "    </tr>\n",
       "    <tr>\n",
       "      <th>8</th>\n",
       "      <td>旭奇</td>\n",
       "    </tr>\n",
       "    <tr>\n",
       "      <th>9</th>\n",
       "      <td>謝語遙</td>\n",
       "    </tr>\n",
       "    <tr>\n",
       "      <th>10</th>\n",
       "      <td>郭惠茹</td>\n",
       "    </tr>\n",
       "    <tr>\n",
       "      <th>11</th>\n",
       "      <td>陳姮</td>\n",
       "    </tr>\n",
       "    <tr>\n",
       "      <th>12</th>\n",
       "      <td>楊卿雲</td>\n",
       "    </tr>\n",
       "    <tr>\n",
       "      <th>13</th>\n",
       "      <td>何柏萱</td>\n",
       "    </tr>\n",
       "    <tr>\n",
       "      <th>14</th>\n",
       "      <td>俞孟昀</td>\n",
       "    </tr>\n",
       "    <tr>\n",
       "      <th>15</th>\n",
       "      <td>夏婉妮</td>\n",
       "    </tr>\n",
       "    <tr>\n",
       "      <th>16</th>\n",
       "      <td>龍俞孜</td>\n",
       "    </tr>\n",
       "    <tr>\n",
       "      <th>17</th>\n",
       "      <td>吳彥儀</td>\n",
       "    </tr>\n",
       "    <tr>\n",
       "      <th>18</th>\n",
       "      <td>林邑樺</td>\n",
       "    </tr>\n",
       "    <tr>\n",
       "      <th>19</th>\n",
       "      <td>林恝糸</td>\n",
       "    </tr>\n",
       "    <tr>\n",
       "      <th>20</th>\n",
       "      <td>林璇彩</td>\n",
       "    </tr>\n",
       "    <tr>\n",
       "      <th>21</th>\n",
       "      <td>許博涵</td>\n",
       "    </tr>\n",
       "    <tr>\n",
       "      <th>22</th>\n",
       "      <td>廖翊雯</td>\n",
       "    </tr>\n",
       "    <tr>\n",
       "      <th>23</th>\n",
       "      <td>齊雅立</td>\n",
       "    </tr>\n",
       "    <tr>\n",
       "      <th>24</th>\n",
       "      <td>陳凱倪</td>\n",
       "    </tr>\n",
       "    <tr>\n",
       "      <th>25</th>\n",
       "      <td>申蕎榕</td>\n",
       "    </tr>\n",
       "    <tr>\n",
       "      <th>26</th>\n",
       "      <td>莫靄冰</td>\n",
       "    </tr>\n",
       "    <tr>\n",
       "      <th>27</th>\n",
       "      <td>Lilly</td>\n",
       "    </tr>\n",
       "    <tr>\n",
       "      <th>28</th>\n",
       "      <td>李熔熔</td>\n",
       "    </tr>\n",
       "    <tr>\n",
       "      <th>29</th>\n",
       "      <td>盧怡仁</td>\n",
       "    </tr>\n",
       "    <tr>\n",
       "      <th>30</th>\n",
       "      <td>詹弘祥</td>\n",
       "    </tr>\n",
       "    <tr>\n",
       "      <th>31</th>\n",
       "      <td>劉冠廷</td>\n",
       "    </tr>\n",
       "    <tr>\n",
       "      <th>32</th>\n",
       "      <td>鄭昕霈</td>\n",
       "    </tr>\n",
       "    <tr>\n",
       "      <th>33</th>\n",
       "      <td>李丞桓</td>\n",
       "    </tr>\n",
       "    <tr>\n",
       "      <th>34</th>\n",
       "      <td>蔡晉瑞</td>\n",
       "    </tr>\n",
       "    <tr>\n",
       "      <th>35</th>\n",
       "      <td>敬文賢</td>\n",
       "    </tr>\n",
       "    <tr>\n",
       "      <th>36</th>\n",
       "      <td>陳崑賢</td>\n",
       "    </tr>\n",
       "    <tr>\n",
       "      <th>37</th>\n",
       "      <td>Graham</td>\n",
       "    </tr>\n",
       "    <tr>\n",
       "      <th>38</th>\n",
       "      <td>葉宗昀</td>\n",
       "    </tr>\n",
       "    <tr>\n",
       "      <th>39</th>\n",
       "      <td>張少萁</td>\n",
       "    </tr>\n",
       "    <tr>\n",
       "      <th>40</th>\n",
       "      <td>黃禮佑</td>\n",
       "    </tr>\n",
       "    <tr>\n",
       "      <th>41</th>\n",
       "      <td>劉力誠</td>\n",
       "    </tr>\n",
       "    <tr>\n",
       "      <th>42</th>\n",
       "      <td>蕭佑</td>\n",
       "    </tr>\n",
       "    <tr>\n",
       "      <th>43</th>\n",
       "      <td>林欣楷</td>\n",
       "    </tr>\n",
       "    <tr>\n",
       "      <th>44</th>\n",
       "      <td>詹鈞揚</td>\n",
       "    </tr>\n",
       "  </tbody>\n",
       "</table>\n",
       "</div>"
      ],
      "text/plain": [
       "      新生名單\n",
       "0      于千惠\n",
       "1      安欣怡\n",
       "2      許傑玫\n",
       "3       瀅熙\n",
       "4      陳士祈\n",
       "5      鄭欣恬\n",
       "6      王婉薰\n",
       "7      張憶文\n",
       "8       旭奇\n",
       "9      謝語遙\n",
       "10     郭惠茹\n",
       "11      陳姮\n",
       "12     楊卿雲\n",
       "13     何柏萱\n",
       "14     俞孟昀\n",
       "15     夏婉妮\n",
       "16     龍俞孜\n",
       "17     吳彥儀\n",
       "18     林邑樺\n",
       "19     林恝糸\n",
       "20     林璇彩\n",
       "21     許博涵\n",
       "22     廖翊雯\n",
       "23     齊雅立\n",
       "24     陳凱倪\n",
       "25     申蕎榕\n",
       "26     莫靄冰\n",
       "27   Lilly\n",
       "28     李熔熔\n",
       "29     盧怡仁\n",
       "30     詹弘祥\n",
       "31     劉冠廷\n",
       "32     鄭昕霈\n",
       "33     李丞桓\n",
       "34     蔡晉瑞\n",
       "35     敬文賢\n",
       "36     陳崑賢\n",
       "37  Graham\n",
       "38     葉宗昀\n",
       "39     張少萁\n",
       "40     黃禮佑\n",
       "41     劉力誠\n",
       "42      蕭佑\n",
       "43     林欣楷\n",
       "44     詹鈞揚"
      ]
     },
     "execution_count": 13,
     "metadata": {},
     "output_type": "execute_result"
    }
   ],
   "source": [
    "cnm"
   ]
  },
  {
   "cell_type": "code",
   "execution_count": 20,
   "id": "108ba28d",
   "metadata": {},
   "outputs": [
    {
     "name": "stdout",
     "output_type": "stream",
     "text": [
      "           試音名單\n",
      "0           林璇彩\n",
      "1           吳彥儀\n",
      "2           李丞桓\n",
      "3           洪婉晴\n",
      "4           傅晨寧\n",
      "5           施博瀚\n",
      "6           何柏萱\n",
      "7           許博涵\n",
      "8           劉冠廷\n",
      "9           林恝糸\n",
      "10          莫靄冰\n",
      "11          廖翊雯\n",
      "12          安欣怡\n",
      "13          林元方\n",
      "14          齊雅立\n",
      "15          俞孟昀\n",
      "16          張少萁\n",
      "17          劉力誠\n",
      "18           陳姮\n",
      "19          王婉薰\n",
      "20          吳宜庭\n",
      "21          陳士祈\n",
      "22          張憶文\n",
      "23           瑩熙\n",
      "24          于千惠\n",
      "25          詹弘祥\n",
      "26           蕭佑\n",
      "27          陳崑賢\n",
      "28          謝語遙\n",
      "29          黃禮佑\n",
      "30          郭惠茹\n",
      "31          盧怡仁\n",
      "32          林邑樺\n",
      "33          李熔熔\n",
      "34          龍俞孜\n",
      "35          敬文賢\n",
      "36          許傑玫\n",
      "37          夏婉妮\n",
      "38          林欣楷\n",
      "39          方心慈\n",
      "40          鄭昕霈\n",
      "41  Britta Jahn\n",
      "42          蔡晉瑞\n",
      "43          申蕎榕       新生名單\n",
      "0      于千惠\n",
      "1      安欣怡\n",
      "2      許傑玫\n",
      "3       瀅熙\n",
      "4      陳士祈\n",
      "5      鄭欣恬\n",
      "6      王婉薰\n",
      "7      張憶文\n",
      "8       旭奇\n",
      "9      謝語遙\n",
      "10     郭惠茹\n",
      "11      陳姮\n",
      "12     楊卿雲\n",
      "13     何柏萱\n",
      "14     俞孟昀\n",
      "15     夏婉妮\n",
      "16     龍俞孜\n",
      "17     吳彥儀\n",
      "18     林邑樺\n",
      "19     林恝糸\n",
      "20     林璇彩\n",
      "21     許博涵\n",
      "22     廖翊雯\n",
      "23     齊雅立\n",
      "24     陳凱倪\n",
      "25     申蕎榕\n",
      "26     莫靄冰\n",
      "27   Lilly\n",
      "28     李熔熔\n",
      "29     盧怡仁\n",
      "30     詹弘祥\n",
      "31     劉冠廷\n",
      "32     鄭昕霈\n",
      "33     李丞桓\n",
      "34     蔡晉瑞\n",
      "35     敬文賢\n",
      "36     陳崑賢\n",
      "37  Graham\n",
      "38     葉宗昀\n",
      "39     張少萁\n",
      "40     黃禮佑\n",
      "41     劉力誠\n",
      "42      蕭佑\n",
      "43     林欣楷\n",
      "44     詹鈞揚\n",
      "set()\n"
     ]
    }
   ],
   "source": [
    "print(caf,cnm)\n",
    "print(set(caf).intersection(set(cnm)))"
   ]
  },
  {
   "cell_type": "code",
   "execution_count": 15,
   "id": "77e9bc24",
   "metadata": {},
   "outputs": [
    {
     "data": {
      "text/plain": [
       "{'新生名單'}"
      ]
     },
     "execution_count": 15,
     "metadata": {},
     "output_type": "execute_result"
    }
   ],
   "source": [
    "set(cnm).difference(set(caf))"
   ]
  },
  {
   "cell_type": "code",
   "execution_count": 22,
   "id": "c7cdfd1b",
   "metadata": {},
   "outputs": [
    {
     "data": {
      "text/plain": [
       "['于千惠',\n",
       " '安欣怡',\n",
       " '許傑玫',\n",
       " '瀅熙',\n",
       " '陳士祈',\n",
       " '鄭欣恬',\n",
       " '王婉薰',\n",
       " '張憶文',\n",
       " '旭奇',\n",
       " '謝語遙',\n",
       " '郭惠茹',\n",
       " '陳姮',\n",
       " '楊卿雲',\n",
       " '何柏萱',\n",
       " '俞孟昀',\n",
       " '夏婉妮',\n",
       " '龍俞孜',\n",
       " '吳彥儀',\n",
       " '林邑樺',\n",
       " '林恝糸',\n",
       " '林璇彩',\n",
       " '許博涵',\n",
       " '廖翊雯',\n",
       " '齊雅立',\n",
       " '陳凱倪',\n",
       " '申蕎榕',\n",
       " '莫靄冰',\n",
       " 'Lilly',\n",
       " '李熔熔',\n",
       " '盧怡仁',\n",
       " '詹弘祥',\n",
       " '劉冠廷',\n",
       " '鄭昕霈',\n",
       " '李丞桓',\n",
       " '蔡晉瑞',\n",
       " '敬文賢',\n",
       " '陳崑賢',\n",
       " 'Graham',\n",
       " '葉宗昀',\n",
       " '張少萁',\n",
       " '黃禮佑',\n",
       " '劉力誠',\n",
       " '蕭佑',\n",
       " '林欣楷',\n",
       " '詹鈞揚']"
      ]
     },
     "execution_count": 22,
     "metadata": {},
     "output_type": "execute_result"
    }
   ],
   "source": [
    "cnm_df = list(cnm['新生名單'])\n",
    "cnm_df"
   ]
  },
  {
   "cell_type": "code",
   "execution_count": 24,
   "id": "34a94e35",
   "metadata": {},
   "outputs": [
    {
     "data": {
      "text/plain": [
       "['林璇彩',\n",
       " '吳彥儀',\n",
       " '李丞桓',\n",
       " '洪婉晴',\n",
       " '傅晨寧',\n",
       " '施博瀚',\n",
       " '何柏萱',\n",
       " '許博涵',\n",
       " '劉冠廷',\n",
       " '林恝糸',\n",
       " '莫靄冰',\n",
       " '廖翊雯',\n",
       " '安欣怡',\n",
       " '林元方',\n",
       " '齊雅立',\n",
       " '俞孟昀',\n",
       " '張少萁',\n",
       " '劉力誠',\n",
       " '陳姮',\n",
       " '王婉薰',\n",
       " '吳宜庭',\n",
       " '陳士祈',\n",
       " '張憶文',\n",
       " '瑩熙',\n",
       " '于千惠',\n",
       " '詹弘祥',\n",
       " '蕭佑',\n",
       " '陳崑賢',\n",
       " '謝語遙',\n",
       " '黃禮佑',\n",
       " '郭惠茹',\n",
       " '盧怡仁',\n",
       " '林邑樺',\n",
       " '李熔熔',\n",
       " '龍俞孜',\n",
       " '敬文賢',\n",
       " '許傑玫',\n",
       " '夏婉妮',\n",
       " '林欣楷',\n",
       " '方心慈',\n",
       " '鄭昕霈',\n",
       " 'Britta Jahn',\n",
       " '蔡晉瑞',\n",
       " '申蕎榕']"
      ]
     },
     "execution_count": 24,
     "metadata": {},
     "output_type": "execute_result"
    }
   ],
   "source": [
    "caf_df = list(caf['試音名單'])\n",
    "caf_df"
   ]
  },
  {
   "cell_type": "code",
   "execution_count": 25,
   "id": "1cb18d74",
   "metadata": {},
   "outputs": [
    {
     "data": {
      "text/plain": [
       "['林璇彩',\n",
       " '吳彥儀',\n",
       " '李丞桓',\n",
       " '詹鈞揚',\n",
       " '何柏萱',\n",
       " '龍俞孜',\n",
       " '陳崑賢',\n",
       " '王家鳳',\n",
       " '俞孟昀',\n",
       " '施博瀚',\n",
       " '蔡晉瑞',\n",
       " '鄭昕霈',\n",
       " '林元方',\n",
       " '吳宜庭',\n",
       " '張少萁',\n",
       " '黃禮佑',\n",
       " '林欣楷',\n",
       " '盧怡仁',\n",
       " '李熔熔',\n",
       " '許博涵',\n",
       " '方心慈',\n",
       " '劉冠廷',\n",
       " '林恝糸',\n",
       " '王婉薰',\n",
       " '莫靄冰',\n",
       " '楊卿雲',\n",
       " '廖翊雯',\n",
       " '蕭佑',\n",
       " '謝語遙',\n",
       " '林沛瑢',\n",
       " '陳姮',\n",
       " '陳士祈',\n",
       " 'Marybelle Garcia']"
      ]
     },
     "execution_count": 25,
     "metadata": {},
     "output_type": "execute_result"
    }
   ],
   "source": [
    "cwf_df = list(cwf['迎新名單'])\n",
    "cwf_df"
   ]
  },
  {
   "cell_type": "code",
   "execution_count": 26,
   "id": "8886be9e",
   "metadata": {},
   "outputs": [
    {
     "name": "stdout",
     "output_type": "stream",
     "text": [
      "['林璇彩', '吳彥儀', '李丞桓', '洪婉晴', '傅晨寧', '施博瀚', '何柏萱', '許博涵', '劉冠廷', '林恝糸', '莫靄冰', '廖翊雯', '安欣怡', '林元方', '齊雅立', '俞孟昀', '張少萁', '劉力誠', '陳姮', '王婉薰', '吳宜庭', '陳士祈', '張憶文', '瑩熙', '于千惠', '詹弘祥', '蕭佑', '陳崑賢', '謝語遙', '黃禮佑', '郭惠茹', '盧怡仁', '林邑樺', '李熔熔', '龍俞孜', '敬文賢', '許傑玫', '夏婉妮', '林欣楷', '方心慈', '鄭昕霈', 'Britta Jahn', '蔡晉瑞', '申蕎榕'] ['于千惠', '安欣怡', '許傑玫', '瀅熙', '陳士祈', '鄭欣恬', '王婉薰', '張憶文', '旭奇', '謝語遙', '郭惠茹', '陳姮', '楊卿雲', '何柏萱', '俞孟昀', '夏婉妮', '龍俞孜', '吳彥儀', '林邑樺', '林恝糸', '林璇彩', '許博涵', '廖翊雯', '齊雅立', '陳凱倪', '申蕎榕', '莫靄冰', 'Lilly', '李熔熔', '盧怡仁', '詹弘祥', '劉冠廷', '鄭昕霈', '李丞桓', '蔡晉瑞', '敬文賢', '陳崑賢', 'Graham', '葉宗昀', '張少萁', '黃禮佑', '劉力誠', '蕭佑', '林欣楷', '詹鈞揚']\n",
      "{'黃禮佑', '齊雅立', '鄭昕霈', '敬文賢', '盧怡仁', '俞孟昀', '王婉薰', '謝語遙', '李丞桓', '安欣怡', '劉冠廷', '郭惠茹', '李熔熔', '廖翊雯', '申蕎榕', '莫靄冰', '許傑玫', '張少萁', '林欣楷', '詹弘祥', '林恝糸', '夏婉妮', '蕭佑', '林邑樺', '劉力誠', '陳崑賢', '龍俞孜', '何柏萱', '吳彥儀', '陳姮', '于千惠', '陳士祈', '蔡晉瑞', '張憶文', '許博涵', '林璇彩'}\n"
     ]
    }
   ],
   "source": [
    "print(caf_df,cnm_df)\n",
    "print(set(caf_df).intersection(set(cnm_df)))"
   ]
  },
  {
   "cell_type": "code",
   "execution_count": 27,
   "id": "bbcdb86f",
   "metadata": {},
   "outputs": [
    {
     "name": "stdout",
     "output_type": "stream",
     "text": [
      "{'黃禮佑', '齊雅立', '鄭昕霈', '敬文賢', '盧怡仁', '俞孟昀', '王婉薰', '謝語遙', '李丞桓', '安欣怡', '劉冠廷', '郭惠茹', '李熔熔', '廖翊雯', '申蕎榕', '莫靄冰', '許傑玫', '張少萁', '林欣楷', '詹弘祥', '林恝糸', '夏婉妮', '蕭佑', '林邑樺', '劉力誠', '陳崑賢', '龍俞孜', '何柏萱', '吳彥儀', '陳姮', '于千惠', '陳士祈', '蔡晉瑞', '張憶文', '許博涵', '林璇彩'}\n"
     ]
    }
   ],
   "source": [
    "print(set(caf_df).intersection(set(cnm_df)))"
   ]
  },
  {
   "cell_type": "code",
   "execution_count": 28,
   "id": "54da240b",
   "metadata": {},
   "outputs": [
    {
     "name": "stdout",
     "output_type": "stream",
     "text": [
      "{'方心慈', '吳宜庭', '施博瀚', '洪婉晴', '林元方', 'Britta Jahn', '瑩熙', '傅晨寧'}\n"
     ]
    }
   ],
   "source": [
    "print(set(caf_df).difference(set(cnm_df)))"
   ]
  },
  {
   "cell_type": "code",
   "execution_count": 29,
   "id": "0d6a049f",
   "metadata": {},
   "outputs": [
    {
     "name": "stdout",
     "output_type": "stream",
     "text": [
      "{'詹鈞揚', '鄭欣恬', '陳凱倪', '葉宗昀', 'Lilly', '瀅熙', '旭奇', 'Graham', '楊卿雲'}\n"
     ]
    }
   ],
   "source": [
    "print(set(cnm_df).difference(set(caf_df)))"
   ]
  },
  {
   "cell_type": "code",
   "execution_count": 30,
   "id": "c8f22071",
   "metadata": {},
   "outputs": [
    {
     "name": "stdout",
     "output_type": "stream",
     "text": [
      "{'Marybelle Garcia', '方心慈', '王家鳳', '吳宜庭', '施博瀚', '林元方', '林沛瑢'}\n"
     ]
    }
   ],
   "source": [
    "print(set(cwf_df).difference(set(cnm_df)))"
   ]
  },
  {
   "cell_type": "code",
   "execution_count": null,
   "id": "03c50084",
   "metadata": {},
   "outputs": [],
   "source": []
  }
 ],
 "metadata": {
  "kernelspec": {
   "display_name": "Python 3 (ipykernel)",
   "language": "python",
   "name": "python3"
  },
  "language_info": {
   "codemirror_mode": {
    "name": "ipython",
    "version": 3
   },
   "file_extension": ".py",
   "mimetype": "text/x-python",
   "name": "python",
   "nbconvert_exporter": "python",
   "pygments_lexer": "ipython3",
   "version": "3.9.12"
  }
 },
 "nbformat": 4,
 "nbformat_minor": 5
}
