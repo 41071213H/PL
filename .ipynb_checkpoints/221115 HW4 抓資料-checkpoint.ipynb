{
 "cells": [
  {
   "cell_type": "code",
   "execution_count": 1,
   "id": "31f5ab51",
   "metadata": {},
   "outputs": [],
   "source": [
    "urls = ['https://www.facebook.com/DongJinZhong/']"
   ]
  },
  {
   "cell_type": "code",
   "execution_count": 7,
   "id": "11f78695",
   "metadata": {},
   "outputs": [
    {
     "name": "stdout",
     "output_type": "stream",
     "text": [
      "Collecting js2py\n",
      "  Downloading Js2Py-0.74-py3-none-any.whl (1.0 MB)\n",
      "\u001b[K     |████████████████████████████████| 1.0 MB 1.8 MB/s eta 0:00:01\n",
      "\u001b[?25hRequirement already satisfied: six>=1.10 in /Users/angellu/opt/anaconda3/lib/python3.9/site-packages (from js2py) (1.16.0)\n",
      "Collecting pyjsparser>=2.5.1\n",
      "  Downloading pyjsparser-2.7.1.tar.gz (24 kB)\n",
      "Collecting tzlocal>=1.2\n",
      "  Downloading tzlocal-4.2-py3-none-any.whl (19 kB)\n",
      "Collecting pytz-deprecation-shim\n",
      "  Downloading pytz_deprecation_shim-0.1.0.post0-py2.py3-none-any.whl (15 kB)\n",
      "Collecting tzdata\n",
      "  Downloading tzdata-2022.6-py2.py3-none-any.whl (338 kB)\n",
      "\u001b[K     |████████████████████████████████| 338 kB 13.5 MB/s eta 0:00:01\n",
      "\u001b[?25hBuilding wheels for collected packages: pyjsparser\n",
      "  Building wheel for pyjsparser (setup.py) ... \u001b[?25ldone\n",
      "\u001b[?25h  Created wheel for pyjsparser: filename=pyjsparser-2.7.1-py3-none-any.whl size=26000 sha256=037472b04c6235218311e97df7e21e56c880efed7c94e72764a6390c944ab840\n",
      "  Stored in directory: /Users/angellu/Library/Caches/pip/wheels/f0/70/61/f42dc45dcf0fbe8c495ce579b04730787081499bfb5b8bc60e\n",
      "Successfully built pyjsparser\n",
      "Installing collected packages: tzdata, pytz-deprecation-shim, tzlocal, pyjsparser, js2py\n",
      "Successfully installed js2py-0.74 pyjsparser-2.7.1 pytz-deprecation-shim-0.1.0.post0 tzdata-2022.6 tzlocal-4.2\n",
      "Note: you may need to restart the kernel to use updated packages.\n"
     ]
    }
   ],
   "source": [
    "pip install js2py"
   ]
  },
  {
   "cell_type": "code",
   "execution_count": 6,
   "id": "ba5fef63",
   "metadata": {
    "scrolled": true
   },
   "outputs": [
    {
     "name": "stderr",
     "output_type": "stream",
     "text": [
      "/var/folders/kr/jqz14bp50n5gp8c42p_h8rnh0000gn/T/ipykernel_12269/401858853.py:9: DeprecationWarning: use options instead of chrome_options\n",
      "  browser = webdriver.Chrome(\n"
     ]
    },
    {
     "ename": "AttributeError",
     "evalue": "'Options' object has no attribute 'execute_script'",
     "output_type": "error",
     "traceback": [
      "\u001b[0;31m---------------------------------------------------------------------------\u001b[0m",
      "\u001b[0;31mAttributeError\u001b[0m                            Traceback (most recent call last)",
      "Input \u001b[0;32mIn [6]\u001b[0m, in \u001b[0;36m<cell line: 23>\u001b[0;34m()\u001b[0m\n\u001b[1;32m     20\u001b[0m     time\u001b[38;5;241m.\u001b[39msleep(\u001b[38;5;241m2\u001b[39m)\n\u001b[1;32m     22\u001b[0m \u001b[38;5;66;03m# 呼叫scroll function，就會直接滾動頁面\u001b[39;00m\n\u001b[0;32m---> 23\u001b[0m \u001b[43mscroll\u001b[49m\u001b[43m(\u001b[49m\u001b[38;5;241;43m5\u001b[39;49m\u001b[43m)\u001b[49m\n",
      "Input \u001b[0;32mIn [6]\u001b[0m, in \u001b[0;36mscroll\u001b[0;34m(scrolltimes)\u001b[0m\n\u001b[1;32m     16\u001b[0m \u001b[38;5;28;01mfor\u001b[39;00m i \u001b[38;5;129;01min\u001b[39;00m \u001b[38;5;28mrange\u001b[39m(scrolltimes):\n\u001b[1;32m     17\u001b[0m   \u001b[38;5;66;03m# 每一次頁面滾動都是滑到網站最下方\u001b[39;00m\n\u001b[1;32m     18\u001b[0m   js \u001b[38;5;241m=\u001b[39m \u001b[38;5;124m'\u001b[39m\u001b[38;5;124mwindow.scrollTo(0, document.body.scrollHeight);\u001b[39m\u001b[38;5;124m'\u001b[39m\n\u001b[0;32m---> 19\u001b[0m   \u001b[43moptions\u001b[49m\u001b[38;5;241;43m.\u001b[39;49m\u001b[43mexecute_script\u001b[49m(js)\n\u001b[1;32m     20\u001b[0m   time\u001b[38;5;241m.\u001b[39msleep(\u001b[38;5;241m2\u001b[39m)\n",
      "\u001b[0;31mAttributeError\u001b[0m: 'Options' object has no attribute 'execute_script'"
     ]
    }
   ],
   "source": [
    "from selenium import webdriver\n",
    "from selenium.webdriver.chrome.options import Options\n",
    "from webdriver_manager.chrome import ChromeDriverManager\n",
    "from bs4 import BeautifulSoup\n",
    "\n",
    "options = Options()\n",
    "options.add_argument(\"--disable-notifications\")  # 取消所有的alert彈出視窗\n",
    " \n",
    "browser = webdriver.Chrome(\n",
    "    ChromeDriverManager().install(), chrome_options=options)\n",
    " \n",
    "browser.get(\"https://www.facebook.com/DongJinZhong/\")\n",
    " \n",
    "\n",
    "def scroll(scrolltimes):\n",
    "  for i in range(scrolltimes):\n",
    "    # 每一次頁面滾動都是滑到網站最下方\n",
    "    js = 'window.scrollTo(0, document.body.scrollHeight);'\n",
    "    options.execute_script(js)\n",
    "    time.sleep(2)\n",
    "    \n",
    "# 呼叫scroll function，就會直接滾動頁面\n",
    "scroll(5)"
   ]
  },
  {
   "cell_type": "code",
   "execution_count": null,
   "id": "3c737fa7",
   "metadata": {},
   "outputs": [],
   "source": [
    "def scroll(scrolltimes):\n",
    "  for i in range(scrolltimes):\n",
    "    # 每一次頁面滾動都是滑到網站最下方\n",
    "    js = 'window.scrollTo(0, document.body.scrollHeight);'\n",
    "    driver.execute_script(js)\n",
    "    time.sleep(2)\n",
    "    \n",
    "# 呼叫scroll function，就會直接滾動頁面\n",
    "scroll(5)"
   ]
  },
  {
   "cell_type": "code",
   "execution_count": null,
   "id": "e5ca0c16",
   "metadata": {},
   "outputs": [],
   "source": [
    "from selenium import webdriver\n",
    "options = webdriver.ChromeOptions()\n",
    "options.binary_location = \"/Applications/Google Chrome.app/Contents/MacOS/Google Chrome\"\n",
    "prefs = {'profile.default_content_setting_values':{'notifications': 2}}\n",
    "options.add_experimental_option('prefs', prefs)"
   ]
  },
  {
   "cell_type": "code",
   "execution_count": null,
   "id": "3d537c14",
   "metadata": {},
   "outputs": [],
   "source": [
    "import pandas as pd\n",
    "\n",
    "collect_comment = pd.DataFrame()\n",
    "collect_fb = pd.DataFrame()"
   ]
  },
  {
   "cell_type": "code",
   "execution_count": null,
   "id": "1002b308",
   "metadata": {},
   "outputs": [],
   "source": [
    "import os  \n",
    "from selenium import webdriver  \n",
    "from selenium.webdriver.chrome.options import Options  \n",
    "from selenium.webdriver.common.keys import Keys\n",
    "\n",
    "chrome_options = Options()\n",
    "\n",
    "chrome_options.binary_location = \"/Applications/Google\\ Chrome.app/Contents/MacOS/Google\\ Chrome\"\n",
    "\n",
    "driver = webdriver.Chrome(executable_path = os.path.abspath(\"drivers/chromedriver\") , chrome_options = chrome_options)"
   ]
  },
  {
   "cell_type": "code",
   "execution_count": null,
   "id": "624fbf68",
   "metadata": {},
   "outputs": [],
   "source": [
    "driver = webdriver.Chrome(options=options)\n",
    "driver.get('https://www.facebook.com/DongJinZhong/')\n",
    "u = urls[0]\n",
    "driver.get(u)"
   ]
  },
  {
   "cell_type": "code",
   "execution_count": null,
   "id": "1d2a8463",
   "metadata": {},
   "outputs": [],
   "source": []
  },
  {
   "cell_type": "code",
   "execution_count": null,
   "id": "bf871a0e",
   "metadata": {},
   "outputs": [],
   "source": [
    "from selenium import webdriver\n",
    "from selenium.webdriver.chrome.options import Options\n",
    "\n",
    "chrome_options = Options()\n",
    "chrome_options.add_argument('--headless')\n",
    "chrome_options.add_argument('--no-sandbox')\n",
    "chrome_options.add_argument('--disable-dev-shm-usage')\n",
    "d = webdriver.Chrome('/home/<user>/chromedriver',chrome_options=chrome_options)\n",
    "d.get('https://www.google.nl/')"
   ]
  }
 ],
 "metadata": {
  "kernelspec": {
   "display_name": "Python 3 (ipykernel)",
   "language": "python",
   "name": "python3"
  },
  "language_info": {
   "codemirror_mode": {
    "name": "ipython",
    "version": 3
   },
   "file_extension": ".py",
   "mimetype": "text/x-python",
   "name": "python",
   "nbconvert_exporter": "python",
   "pygments_lexer": "ipython3",
   "version": "3.9.12"
  }
 },
 "nbformat": 4,
 "nbformat_minor": 5
}
