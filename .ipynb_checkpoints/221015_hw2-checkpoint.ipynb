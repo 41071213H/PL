{
 "cells": [
  {
   "cell_type": "code",
   "execution_count": 1,
   "id": "68f0cf43",
   "metadata": {},
   "outputs": [],
   "source": [
    "import json"
   ]
  },
  {
   "cell_type": "code",
   "execution_count": 2,
   "id": "e9931400",
   "metadata": {},
   "outputs": [
    {
     "data": {
      "text/plain": [
       "dict"
      ]
     },
     "execution_count": 2,
     "metadata": {},
     "output_type": "execute_result"
    }
   ],
   "source": [
    "test = open('csvjson_2.json',encoding=\"utf8\")\n",
    "Data = json.load(test)\n",
    "type(Data)\n",
    "#遇到json格式錯誤，括號只能用“” 不可用‘’\n",
    "#json格式最前面括號為{} 才能顯示為dict，若是用[]會被當作list。"
   ]
  },
  {
   "cell_type": "code",
   "execution_count": 3,
   "id": "ed021b17",
   "metadata": {},
   "outputs": [
    {
     "data": {
      "text/plain": [
       "dict_items([('all', [{'State': 'Alabama', '2021Tornadoes': 100, '2021Fatalities': 7, '2020Tornadoes': 78, '2020Fatalities': 5, '2019Tornadoes': 95, '2019Fatalities': 25, '2018Tornadoes': 52, '2018Fatalities': 0, '2017Tornadoes': 65, '2017Fatalities': 0}, {'State': 'Alaska', '2021Tornadoes': 0, '2021Fatalities': 0, '2020Tornadoes': 0, '2020Fatalities': 0, '2019Tornadoes': 0, '2019Fatalities': 0, '2018Tornadoes': 0, '2018Fatalities': 0, '2017Tornadoes': 0, '2017Fatalities': 0}, {'State': 'Arizona', '2021Tornadoes': 6, '2021Fatalities': 0, '2020Tornadoes': 4, '2020Fatalities': 0, '2019Tornadoes': 10, '2019Fatalities': 0, '2018Tornadoes': 6, '2018Fatalities': 0, '2017Tornadoes': 3, '2017Fatalities': 0}, {'State': 'Arkansas', '2021Tornadoes': 41, '2021Fatalities': 2, '2020Tornadoes': 41, '2020Fatalities': 0, '2019Tornadoes': 31, '2019Fatalities': 0, '2018Tornadoes': 33, '2018Fatalities': 1, '2017Tornadoes': 26, '2017Fatalities': 0}, {'State': 'California', '2021Tornadoes': 5, '2021Fatalities': 0, '2020Tornadoes': 7, '2020Fatalities': 0, '2019Tornadoes': 16, '2019Fatalities': 0, '2018Tornadoes': 6, '2018Fatalities': 0, '2017Tornadoes': 2, '2017Fatalities': 0}, {'State': 'Colorado', '2021Tornadoes': 48, '2021Fatalities': 0, '2020Tornadoes': 34, '2020Fatalities': 0, '2019Tornadoes': 53, '2019Fatalities': 0, '2018Tornadoes': 39, '2018Fatalities': 0, '2017Tornadoes': 20, '2017Fatalities': 0}, {'State': 'Connecticut', '2021Tornadoes': 8, '2021Fatalities': 0, '2020Tornadoes': 6, '2020Fatalities': 0, '2019Tornadoes': 1, '2019Fatalities': 0, '2018Tornadoes': 8, '2018Fatalities': 0, '2017Tornadoes': 0, '2017Fatalities': 0}, {'State': 'Delaware', '2021Tornadoes': 2, '2021Fatalities': 0, '2020Tornadoes': 7, '2020Fatalities': 0, '2019Tornadoes': 1, '2019Fatalities': 0, '2018Tornadoes': 0, '2018Fatalities': 0, '2017Tornadoes': 1, '2017Fatalities': 0}, {'State': 'D.C.', '2021Tornadoes': 2, '2021Fatalities': 0, '2020Tornadoes': 0, '2020Fatalities': 0, '2019Tornadoes': 0, '2019Fatalities': 0, '2018Tornadoes': 0, '2018Fatalities': 0, '2017Tornadoes': 1, '2017Fatalities': 0}, {'State': 'Florida', '2021Tornadoes': 32, '2021Fatalities': 0, '2020Tornadoes': 65, '2020Fatalities': 0, '2019Tornadoes': 25, '2019Fatalities': 0, '2018Tornadoes': 48, '2018Fatalities': 0, '2017Tornadoes': 41, '2017Fatalities': 0}, {'State': 'Georgia', '2021Tornadoes': 57, '2021Fatalities': 0, '2020Tornadoes': 75, '2020Fatalities': 9, '2019Tornadoes': 60, '2019Fatalities': 0, '2018Tornadoes': 21, '2018Fatalities': 0, '2017Tornadoes': 131, '2017Fatalities': 16}, {'State': 'Hawaii', '2021Tornadoes': 0, '2021Fatalities': 0, '2020Tornadoes': 0, '2020Fatalities': 0, '2019Tornadoes': 0, '2019Fatalities': 0, '2018Tornadoes': 0, '2018Fatalities': 0, '2017Tornadoes': 0, '2017Fatalities': 0}, {'State': 'Idaho', '2021Tornadoes': 0, '2021Fatalities': 0, '2020Tornadoes': 0, '2020Fatalities': 0, '2019Tornadoes': 5, '2019Fatalities': 0, '2018Tornadoes': 11, '2018Fatalities': 0, '2017Tornadoes': 1, '2017Fatalities': 0}, {'State': 'Illinois', '2021Tornadoes': 80, '2021Fatalities': 6, '2020Tornadoes': 71, '2020Fatalities': 0, '2019Tornadoes': 37, '2019Fatalities': 0, '2018Tornadoes': 64, '2018Fatalities': 0, '2017Tornadoes': 65, '2017Fatalities': 3}, {'State': 'Indiana', '2021Tornadoes': 19, '2021Fatalities': 0, '2020Tornadoes': 39, '2020Fatalities': 0, '2019Tornadoes': 39, '2019Fatalities': 0, '2018Tornadoes': 16, '2018Fatalities': 0, '2017Tornadoes': 36, '2017Fatalities': 0}, {'State': 'Iowa', '2021Tornadoes': 70, '2021Fatalities': 0, '2020Tornadoes': 28, '2020Fatalities': 0, '2019Tornadoes': 53, '2019Fatalities': 1, '2018Tornadoes': 84, '2018Fatalities': 0, '2017Tornadoes': 57, '2017Fatalities': 0}, {'State': 'Kansas', '2021Tornadoes': 46, '2021Fatalities': 0, '2020Tornadoes': 27, '2020Fatalities': 0, '2019Tornadoes': 127, '2019Fatalities': 0, '2018Tornadoes': 45, '2018Fatalities': 0, '2017Tornadoes': 74, '2017Fatalities': 0}, {'State': 'Kentucky', '2021Tornadoes': 57, '2021Fatalities': 73, '2020Tornadoes': 23, '2020Fatalities': 0, '2019Tornadoes': 28, '2019Fatalities': 0, '2018Tornadoes': 41, '2018Fatalities': 1, '2017Tornadoes': 29, '2017Fatalities': 0}, {'State': 'Louisiana', '2021Tornadoes': 50, '2021Fatalities': 1, '2020Tornadoes': 55, '2020Fatalities': 5, '2019Tornadoes': 97, '2019Fatalities': 3, '2018Tornadoes': 86, '2018Fatalities': 1, '2017Tornadoes': 88, '2017Fatalities': 3}, {'State': 'Maine', '2021Tornadoes': 0, '2021Fatalities': 0, '2020Tornadoes': 2, '2020Fatalities': 0, '2019Tornadoes': 1, '2019Fatalities': 0, '2018Tornadoes': 0, '2018Fatalities': 0, '2017Tornadoes': 10, '2017Fatalities': 0}, {'State': 'Maryland', '2021Tornadoes': 11, '2021Fatalities': 0, '2020Tornadoes': 21, '2020Fatalities': 0, '2019Tornadoes': 6, '2019Fatalities': 0, '2018Tornadoes': 2, '2018Fatalities': 2, '2017Tornadoes': 4, '2017Fatalities': 0}, {'State': 'Massachusetts', '2021Tornadoes': 7, '2021Fatalities': 0, '2020Tornadoes': 3, '2020Fatalities': 0, '2019Tornadoes': 3, '2019Fatalities': 0, '2018Tornadoes': 7, '2018Fatalities': 0, '2017Tornadoes': 2, '2017Fatalities': 0}, {'State': 'Michigan', '2021Tornadoes': 17, '2021Fatalities': 0, '2020Tornadoes': 2, '2020Fatalities': 0, '2019Tornadoes': 6, '2019Fatalities': 0, '2018Tornadoes': 13, '2018Fatalities': 0, '2017Tornadoes': 11, '2017Fatalities': 0}, {'State': 'Minnesota', '2021Tornadoes': 37, '2021Fatalities': 0, '2020Tornadoes': 69, '2020Fatalities': 1, '2019Tornadoes': 54, '2019Fatalities': 0, '2018Tornadoes': 36, '2018Fatalities': 0, '2017Tornadoes': 41, '2017Fatalities': 0}, {'State': 'Mississippi', '2021Tornadoes': 92, '2021Fatalities': 1, '2020Tornadoes': 127, '2020Fatalities': 12, '2019Tornadoes': 138, '2019Fatalities': 2, '2018Tornadoes': 68, '2018Fatalities': 0, '2017Tornadoes': 81, '2017Fatalities': 5}, {'State': 'Missouri', '2021Tornadoes': 50, '2021Fatalities': 2, '2020Tornadoes': 27, '2020Fatalities': 0, '2019Tornadoes': 98, '2019Fatalities': 3, '2018Tornadoes': 48, '2018Fatalities': 1, '2017Tornadoes': 102, '2017Fatalities': 1}, {'State': 'Montana', '2021Tornadoes': 1, '2021Fatalities': 0, '2020Tornadoes': 2, '2020Fatalities': 0, '2019Tornadoes': 6, '2019Fatalities': 0, '2018Tornadoes': 10, '2018Fatalities': 0, '2017Tornadoes': 2, '2017Fatalities': 0}, {'State': 'Nebraska', '2021Tornadoes': 53, '2021Fatalities': 0, '2020Tornadoes': 35, '2020Fatalities': 0, '2019Tornadoes': 44, '2019Fatalities': 0, '2018Tornadoes': 37, '2018Fatalities': 0, '2017Tornadoes': 38, '2017Fatalities': 0}, {'State': 'Nevada', '2021Tornadoes': 3, '2021Fatalities': 0, '2020Tornadoes': 0, '2020Fatalities': 0, '2019Tornadoes': 1, '2019Fatalities': 0, '2018Tornadoes': 4, '2018Fatalities': 0, '2017Tornadoes': 0, '2017Fatalities': 0}, {'State': 'New Hampshire', '2021Tornadoes': 0, '2021Fatalities': 0, '2020Tornadoes': 0, '2020Fatalities': 0, '2019Tornadoes': 0, '2019Fatalities': 0, '2018Tornadoes': 3, '2018Fatalities': 0, '2017Tornadoes': 0, '2017Fatalities': 0}, {'State': 'New Jersey', '2021Tornadoes': 13, '2021Fatalities': 0, '2020Tornadoes': 9, '2020Fatalities': 0, '2019Tornadoes': 9, '2019Fatalities': 0, '2018Tornadoes': 0, '2018Fatalities': 0, '2017Tornadoes': 2, '2017Fatalities': 0}, {'State': 'New Mexico', '2021Tornadoes': 18, '2021Fatalities': 0, '2020Tornadoes': 21, '2020Fatalities': 0, '2019Tornadoes': 21, '2019Fatalities': 0, '2018Tornadoes': 10, '2018Fatalities': 0, '2017Tornadoes': 11, '2017Fatalities': 0}, {'State': 'New York', '2021Tornadoes': 14, '2021Fatalities': 0, '2020Tornadoes': 10, '2020Fatalities': 0, '2019Tornadoes': 4, '2019Fatalities': 0, '2018Tornadoes': 11, '2018Fatalities': 1, '2017Tornadoes': 12, '2017Fatalities': 0}, {'State': 'North Carolina', '2021Tornadoes': 19, '2021Fatalities': 3, '2020Tornadoes': 54, '2020Fatalities': 2, '2019Tornadoes': 59, '2019Fatalities': 0, '2018Tornadoes': 41, '2018Fatalities': 0, '2017Tornadoes': 34, '2017Fatalities': 0}, {'State': 'North Dakota', '2021Tornadoes': 21, '2021Fatalities': 0, '2020Tornadoes': 22, '2020Fatalities': 0, '2019Tornadoes': 14, '2019Fatalities': 0, '2018Tornadoes': 31, '2018Fatalities': 1, '2017Tornadoes': 41, '2017Fatalities': 0}, {'State': 'Ohio', '2021Tornadoes': 37, '2021Fatalities': 0, '2020Tornadoes': 19, '2020Fatalities': 0, '2019Tornadoes': 59, '2019Fatalities': 1, '2018Tornadoes': 17, '2018Fatalities': 0, '2017Tornadoes': 43, '2017Fatalities': 0}, {'State': 'Oklahoma', '2021Tornadoes': 39, '2021Fatalities': 0, '2020Tornadoes': 31, '2020Fatalities': 2, '2019Tornadoes': 99, '2019Fatalities': 0, '2018Tornadoes': 24, '2018Fatalities': 0, '2017Tornadoes': 62, '2017Fatalities': 1}, {'State': 'Oregon', '2021Tornadoes': 0, '2021Fatalities': 0, '2020Tornadoes': 3, '2020Fatalities': 0, '2019Tornadoes': 4, '2019Fatalities': 4, '2018Tornadoes': 3, '2018Fatalities': 0, '2017Tornadoes': 3, '2017Fatalities': 0}, {'State': 'Pennsylvania', '2021Tornadoes': 44, '2021Fatalities': 1, '2020Tornadoes': 6, '2020Fatalities': 0, '2019Tornadoes': 34, '2019Fatalities': 0, '2018Tornadoes': 31, '2018Fatalities': 0, '2017Tornadoes': 26, '2017Fatalities': 0}, {'State': 'Rhode Island', '2021Tornadoes': 2, '2021Fatalities': 0, '2020Tornadoes': 0, '2020Fatalities': 0, '2019Tornadoes': 1, '2019Fatalities': 0, '2018Tornadoes': 1, '2018Fatalities': 0, '2017Tornadoes': 0, '2017Fatalities': 0}, {'State': 'South Carolina', '2021Tornadoes': 24, '2021Fatalities': 0, '2020Tornadoes': 57, '2020Fatalities': 8, '2019Tornadoes': 18, '2019Fatalities': 0, '2018Tornadoes': 16, '2018Fatalities': 0, '2017Tornadoes': 51, '2017Fatalities': 1}, {'State': 'South Dakota', '2021Tornadoes': 19, '2021Fatalities': 0, '2020Tornadoes': 21, '2020Fatalities': 1, '2019Tornadoes': 23, '2019Fatalities': 0, '2018Tornadoes': 19, '2018Fatalities': 0, '2017Tornadoes': 21, '2017Fatalities': 0}, {'State': 'Tennessee', '2021Tornadoes': 66, '2021Fatalities': 4, '2020Tornadoes': 38, '2020Fatalities': 27, '2019Tornadoes': 16, '2019Fatalities': 0, '2018Tornadoes': 20, '2018Fatalities': 1, '2017Tornadoes': 35, '2017Fatalities': 0}, {'State': 'Texas', '2021Tornadoes': 118, '2021Fatalities': 1, '2020Tornadoes': 102, '2020Fatalities': 4, '2019Tornadoes': 188, '2019Fatalities': 2, '2018Tornadoes': 52, '2018Fatalities': 0, '2017Tornadoes': 176, '2017Fatalities': 4}, {'State': 'Utah', '2021Tornadoes': 4, '2021Fatalities': 0, '2020Tornadoes': 0, '2020Fatalities': 0, '2019Tornadoes': 0, '2019Fatalities': 0, '2018Tornadoes': 2, '2018Fatalities': 0, '2017Tornadoes': 0, '2017Fatalities': 0}, {'State': 'Vermont', '2021Tornadoes': 2, '2021Fatalities': 0, '2020Tornadoes': 0, '2020Fatalities': 0, '2019Tornadoes': 1, '2019Fatalities': 0, '2018Tornadoes': 0, '2018Fatalities': 0, '2017Tornadoes': 0, '2017Fatalities': 0}, {'State': 'Virginia', '2021Tornadoes': 9, '2021Fatalities': 0, '2020Tornadoes': 15, '2020Fatalities': 0, '2019Tornadoes': 24, '2019Fatalities': 0, '2018Tornadoes': 34, '2018Fatalities': 1, '2017Tornadoes': 23, '2017Fatalities': 0}, {'State': 'Washington', '2021Tornadoes': 2, '2021Fatalities': 0, '2020Tornadoes': 2, '2020Fatalities': 0, '2019Tornadoes': 2, '2019Fatalities': 0, '2018Tornadoes': 2, '2018Fatalities': 0, '2017Tornadoes': 3, '2017Fatalities': 0}, {'State': 'West Virginia', '2021Tornadoes': 2, '2021Fatalities': 0, '2020Tornadoes': 0, '2020Fatalities': 0, '2019Tornadoes': 3, '2019Fatalities': 0, '2018Tornadoes': 1, '2018Fatalities': 0, '2017Tornadoes': 5, '2017Fatalities': 0}, {'State': 'Wisconsin', '2021Tornadoes': 28, '2021Fatalities': 0, '2020Tornadoes': 22, '2020Fatalities': 0, '2019Tornadoes': 32, '2019Fatalities': 0, '2018Tornadoes': 35, '2018Fatalities': 0, '2017Tornadoes': 28, '2017Fatalities': 1}, {'State': 'Wyoming', '2021Tornadoes': 2, '2021Fatalities': 0, '2020Tornadoes': 1, '2020Fatalities': 0, '2019Tornadoes': 30, '2019Fatalities': 0, '2018Tornadoes': 31, '2018Fatalities': 0, '2017Tornadoes': 15, '2017Fatalities': 0}])])"
      ]
     },
     "execution_count": 3,
     "metadata": {},
     "output_type": "execute_result"
    }
   ],
   "source": [
    "Data.items()"
   ]
  },
  {
   "cell_type": "code",
   "execution_count": 4,
   "id": "df951e36",
   "metadata": {},
   "outputs": [
    {
     "data": {
      "text/plain": [
       "[{'State': 'Alabama',\n",
       "  '2021Tornadoes': 100,\n",
       "  '2021Fatalities': 7,\n",
       "  '2020Tornadoes': 78,\n",
       "  '2020Fatalities': 5,\n",
       "  '2019Tornadoes': 95,\n",
       "  '2019Fatalities': 25,\n",
       "  '2018Tornadoes': 52,\n",
       "  '2018Fatalities': 0,\n",
       "  '2017Tornadoes': 65,\n",
       "  '2017Fatalities': 0},\n",
       " {'State': 'Alaska',\n",
       "  '2021Tornadoes': 0,\n",
       "  '2021Fatalities': 0,\n",
       "  '2020Tornadoes': 0,\n",
       "  '2020Fatalities': 0,\n",
       "  '2019Tornadoes': 0,\n",
       "  '2019Fatalities': 0,\n",
       "  '2018Tornadoes': 0,\n",
       "  '2018Fatalities': 0,\n",
       "  '2017Tornadoes': 0,\n",
       "  '2017Fatalities': 0},\n",
       " {'State': 'Arizona',\n",
       "  '2021Tornadoes': 6,\n",
       "  '2021Fatalities': 0,\n",
       "  '2020Tornadoes': 4,\n",
       "  '2020Fatalities': 0,\n",
       "  '2019Tornadoes': 10,\n",
       "  '2019Fatalities': 0,\n",
       "  '2018Tornadoes': 6,\n",
       "  '2018Fatalities': 0,\n",
       "  '2017Tornadoes': 3,\n",
       "  '2017Fatalities': 0},\n",
       " {'State': 'Arkansas',\n",
       "  '2021Tornadoes': 41,\n",
       "  '2021Fatalities': 2,\n",
       "  '2020Tornadoes': 41,\n",
       "  '2020Fatalities': 0,\n",
       "  '2019Tornadoes': 31,\n",
       "  '2019Fatalities': 0,\n",
       "  '2018Tornadoes': 33,\n",
       "  '2018Fatalities': 1,\n",
       "  '2017Tornadoes': 26,\n",
       "  '2017Fatalities': 0},\n",
       " {'State': 'California',\n",
       "  '2021Tornadoes': 5,\n",
       "  '2021Fatalities': 0,\n",
       "  '2020Tornadoes': 7,\n",
       "  '2020Fatalities': 0,\n",
       "  '2019Tornadoes': 16,\n",
       "  '2019Fatalities': 0,\n",
       "  '2018Tornadoes': 6,\n",
       "  '2018Fatalities': 0,\n",
       "  '2017Tornadoes': 2,\n",
       "  '2017Fatalities': 0},\n",
       " {'State': 'Colorado',\n",
       "  '2021Tornadoes': 48,\n",
       "  '2021Fatalities': 0,\n",
       "  '2020Tornadoes': 34,\n",
       "  '2020Fatalities': 0,\n",
       "  '2019Tornadoes': 53,\n",
       "  '2019Fatalities': 0,\n",
       "  '2018Tornadoes': 39,\n",
       "  '2018Fatalities': 0,\n",
       "  '2017Tornadoes': 20,\n",
       "  '2017Fatalities': 0},\n",
       " {'State': 'Connecticut',\n",
       "  '2021Tornadoes': 8,\n",
       "  '2021Fatalities': 0,\n",
       "  '2020Tornadoes': 6,\n",
       "  '2020Fatalities': 0,\n",
       "  '2019Tornadoes': 1,\n",
       "  '2019Fatalities': 0,\n",
       "  '2018Tornadoes': 8,\n",
       "  '2018Fatalities': 0,\n",
       "  '2017Tornadoes': 0,\n",
       "  '2017Fatalities': 0},\n",
       " {'State': 'Delaware',\n",
       "  '2021Tornadoes': 2,\n",
       "  '2021Fatalities': 0,\n",
       "  '2020Tornadoes': 7,\n",
       "  '2020Fatalities': 0,\n",
       "  '2019Tornadoes': 1,\n",
       "  '2019Fatalities': 0,\n",
       "  '2018Tornadoes': 0,\n",
       "  '2018Fatalities': 0,\n",
       "  '2017Tornadoes': 1,\n",
       "  '2017Fatalities': 0},\n",
       " {'State': 'D.C.',\n",
       "  '2021Tornadoes': 2,\n",
       "  '2021Fatalities': 0,\n",
       "  '2020Tornadoes': 0,\n",
       "  '2020Fatalities': 0,\n",
       "  '2019Tornadoes': 0,\n",
       "  '2019Fatalities': 0,\n",
       "  '2018Tornadoes': 0,\n",
       "  '2018Fatalities': 0,\n",
       "  '2017Tornadoes': 1,\n",
       "  '2017Fatalities': 0},\n",
       " {'State': 'Florida',\n",
       "  '2021Tornadoes': 32,\n",
       "  '2021Fatalities': 0,\n",
       "  '2020Tornadoes': 65,\n",
       "  '2020Fatalities': 0,\n",
       "  '2019Tornadoes': 25,\n",
       "  '2019Fatalities': 0,\n",
       "  '2018Tornadoes': 48,\n",
       "  '2018Fatalities': 0,\n",
       "  '2017Tornadoes': 41,\n",
       "  '2017Fatalities': 0},\n",
       " {'State': 'Georgia',\n",
       "  '2021Tornadoes': 57,\n",
       "  '2021Fatalities': 0,\n",
       "  '2020Tornadoes': 75,\n",
       "  '2020Fatalities': 9,\n",
       "  '2019Tornadoes': 60,\n",
       "  '2019Fatalities': 0,\n",
       "  '2018Tornadoes': 21,\n",
       "  '2018Fatalities': 0,\n",
       "  '2017Tornadoes': 131,\n",
       "  '2017Fatalities': 16},\n",
       " {'State': 'Hawaii',\n",
       "  '2021Tornadoes': 0,\n",
       "  '2021Fatalities': 0,\n",
       "  '2020Tornadoes': 0,\n",
       "  '2020Fatalities': 0,\n",
       "  '2019Tornadoes': 0,\n",
       "  '2019Fatalities': 0,\n",
       "  '2018Tornadoes': 0,\n",
       "  '2018Fatalities': 0,\n",
       "  '2017Tornadoes': 0,\n",
       "  '2017Fatalities': 0},\n",
       " {'State': 'Idaho',\n",
       "  '2021Tornadoes': 0,\n",
       "  '2021Fatalities': 0,\n",
       "  '2020Tornadoes': 0,\n",
       "  '2020Fatalities': 0,\n",
       "  '2019Tornadoes': 5,\n",
       "  '2019Fatalities': 0,\n",
       "  '2018Tornadoes': 11,\n",
       "  '2018Fatalities': 0,\n",
       "  '2017Tornadoes': 1,\n",
       "  '2017Fatalities': 0},\n",
       " {'State': 'Illinois',\n",
       "  '2021Tornadoes': 80,\n",
       "  '2021Fatalities': 6,\n",
       "  '2020Tornadoes': 71,\n",
       "  '2020Fatalities': 0,\n",
       "  '2019Tornadoes': 37,\n",
       "  '2019Fatalities': 0,\n",
       "  '2018Tornadoes': 64,\n",
       "  '2018Fatalities': 0,\n",
       "  '2017Tornadoes': 65,\n",
       "  '2017Fatalities': 3},\n",
       " {'State': 'Indiana',\n",
       "  '2021Tornadoes': 19,\n",
       "  '2021Fatalities': 0,\n",
       "  '2020Tornadoes': 39,\n",
       "  '2020Fatalities': 0,\n",
       "  '2019Tornadoes': 39,\n",
       "  '2019Fatalities': 0,\n",
       "  '2018Tornadoes': 16,\n",
       "  '2018Fatalities': 0,\n",
       "  '2017Tornadoes': 36,\n",
       "  '2017Fatalities': 0},\n",
       " {'State': 'Iowa',\n",
       "  '2021Tornadoes': 70,\n",
       "  '2021Fatalities': 0,\n",
       "  '2020Tornadoes': 28,\n",
       "  '2020Fatalities': 0,\n",
       "  '2019Tornadoes': 53,\n",
       "  '2019Fatalities': 1,\n",
       "  '2018Tornadoes': 84,\n",
       "  '2018Fatalities': 0,\n",
       "  '2017Tornadoes': 57,\n",
       "  '2017Fatalities': 0},\n",
       " {'State': 'Kansas',\n",
       "  '2021Tornadoes': 46,\n",
       "  '2021Fatalities': 0,\n",
       "  '2020Tornadoes': 27,\n",
       "  '2020Fatalities': 0,\n",
       "  '2019Tornadoes': 127,\n",
       "  '2019Fatalities': 0,\n",
       "  '2018Tornadoes': 45,\n",
       "  '2018Fatalities': 0,\n",
       "  '2017Tornadoes': 74,\n",
       "  '2017Fatalities': 0},\n",
       " {'State': 'Kentucky',\n",
       "  '2021Tornadoes': 57,\n",
       "  '2021Fatalities': 73,\n",
       "  '2020Tornadoes': 23,\n",
       "  '2020Fatalities': 0,\n",
       "  '2019Tornadoes': 28,\n",
       "  '2019Fatalities': 0,\n",
       "  '2018Tornadoes': 41,\n",
       "  '2018Fatalities': 1,\n",
       "  '2017Tornadoes': 29,\n",
       "  '2017Fatalities': 0},\n",
       " {'State': 'Louisiana',\n",
       "  '2021Tornadoes': 50,\n",
       "  '2021Fatalities': 1,\n",
       "  '2020Tornadoes': 55,\n",
       "  '2020Fatalities': 5,\n",
       "  '2019Tornadoes': 97,\n",
       "  '2019Fatalities': 3,\n",
       "  '2018Tornadoes': 86,\n",
       "  '2018Fatalities': 1,\n",
       "  '2017Tornadoes': 88,\n",
       "  '2017Fatalities': 3},\n",
       " {'State': 'Maine',\n",
       "  '2021Tornadoes': 0,\n",
       "  '2021Fatalities': 0,\n",
       "  '2020Tornadoes': 2,\n",
       "  '2020Fatalities': 0,\n",
       "  '2019Tornadoes': 1,\n",
       "  '2019Fatalities': 0,\n",
       "  '2018Tornadoes': 0,\n",
       "  '2018Fatalities': 0,\n",
       "  '2017Tornadoes': 10,\n",
       "  '2017Fatalities': 0},\n",
       " {'State': 'Maryland',\n",
       "  '2021Tornadoes': 11,\n",
       "  '2021Fatalities': 0,\n",
       "  '2020Tornadoes': 21,\n",
       "  '2020Fatalities': 0,\n",
       "  '2019Tornadoes': 6,\n",
       "  '2019Fatalities': 0,\n",
       "  '2018Tornadoes': 2,\n",
       "  '2018Fatalities': 2,\n",
       "  '2017Tornadoes': 4,\n",
       "  '2017Fatalities': 0},\n",
       " {'State': 'Massachusetts',\n",
       "  '2021Tornadoes': 7,\n",
       "  '2021Fatalities': 0,\n",
       "  '2020Tornadoes': 3,\n",
       "  '2020Fatalities': 0,\n",
       "  '2019Tornadoes': 3,\n",
       "  '2019Fatalities': 0,\n",
       "  '2018Tornadoes': 7,\n",
       "  '2018Fatalities': 0,\n",
       "  '2017Tornadoes': 2,\n",
       "  '2017Fatalities': 0},\n",
       " {'State': 'Michigan',\n",
       "  '2021Tornadoes': 17,\n",
       "  '2021Fatalities': 0,\n",
       "  '2020Tornadoes': 2,\n",
       "  '2020Fatalities': 0,\n",
       "  '2019Tornadoes': 6,\n",
       "  '2019Fatalities': 0,\n",
       "  '2018Tornadoes': 13,\n",
       "  '2018Fatalities': 0,\n",
       "  '2017Tornadoes': 11,\n",
       "  '2017Fatalities': 0},\n",
       " {'State': 'Minnesota',\n",
       "  '2021Tornadoes': 37,\n",
       "  '2021Fatalities': 0,\n",
       "  '2020Tornadoes': 69,\n",
       "  '2020Fatalities': 1,\n",
       "  '2019Tornadoes': 54,\n",
       "  '2019Fatalities': 0,\n",
       "  '2018Tornadoes': 36,\n",
       "  '2018Fatalities': 0,\n",
       "  '2017Tornadoes': 41,\n",
       "  '2017Fatalities': 0},\n",
       " {'State': 'Mississippi',\n",
       "  '2021Tornadoes': 92,\n",
       "  '2021Fatalities': 1,\n",
       "  '2020Tornadoes': 127,\n",
       "  '2020Fatalities': 12,\n",
       "  '2019Tornadoes': 138,\n",
       "  '2019Fatalities': 2,\n",
       "  '2018Tornadoes': 68,\n",
       "  '2018Fatalities': 0,\n",
       "  '2017Tornadoes': 81,\n",
       "  '2017Fatalities': 5},\n",
       " {'State': 'Missouri',\n",
       "  '2021Tornadoes': 50,\n",
       "  '2021Fatalities': 2,\n",
       "  '2020Tornadoes': 27,\n",
       "  '2020Fatalities': 0,\n",
       "  '2019Tornadoes': 98,\n",
       "  '2019Fatalities': 3,\n",
       "  '2018Tornadoes': 48,\n",
       "  '2018Fatalities': 1,\n",
       "  '2017Tornadoes': 102,\n",
       "  '2017Fatalities': 1},\n",
       " {'State': 'Montana',\n",
       "  '2021Tornadoes': 1,\n",
       "  '2021Fatalities': 0,\n",
       "  '2020Tornadoes': 2,\n",
       "  '2020Fatalities': 0,\n",
       "  '2019Tornadoes': 6,\n",
       "  '2019Fatalities': 0,\n",
       "  '2018Tornadoes': 10,\n",
       "  '2018Fatalities': 0,\n",
       "  '2017Tornadoes': 2,\n",
       "  '2017Fatalities': 0},\n",
       " {'State': 'Nebraska',\n",
       "  '2021Tornadoes': 53,\n",
       "  '2021Fatalities': 0,\n",
       "  '2020Tornadoes': 35,\n",
       "  '2020Fatalities': 0,\n",
       "  '2019Tornadoes': 44,\n",
       "  '2019Fatalities': 0,\n",
       "  '2018Tornadoes': 37,\n",
       "  '2018Fatalities': 0,\n",
       "  '2017Tornadoes': 38,\n",
       "  '2017Fatalities': 0},\n",
       " {'State': 'Nevada',\n",
       "  '2021Tornadoes': 3,\n",
       "  '2021Fatalities': 0,\n",
       "  '2020Tornadoes': 0,\n",
       "  '2020Fatalities': 0,\n",
       "  '2019Tornadoes': 1,\n",
       "  '2019Fatalities': 0,\n",
       "  '2018Tornadoes': 4,\n",
       "  '2018Fatalities': 0,\n",
       "  '2017Tornadoes': 0,\n",
       "  '2017Fatalities': 0},\n",
       " {'State': 'New Hampshire',\n",
       "  '2021Tornadoes': 0,\n",
       "  '2021Fatalities': 0,\n",
       "  '2020Tornadoes': 0,\n",
       "  '2020Fatalities': 0,\n",
       "  '2019Tornadoes': 0,\n",
       "  '2019Fatalities': 0,\n",
       "  '2018Tornadoes': 3,\n",
       "  '2018Fatalities': 0,\n",
       "  '2017Tornadoes': 0,\n",
       "  '2017Fatalities': 0},\n",
       " {'State': 'New Jersey',\n",
       "  '2021Tornadoes': 13,\n",
       "  '2021Fatalities': 0,\n",
       "  '2020Tornadoes': 9,\n",
       "  '2020Fatalities': 0,\n",
       "  '2019Tornadoes': 9,\n",
       "  '2019Fatalities': 0,\n",
       "  '2018Tornadoes': 0,\n",
       "  '2018Fatalities': 0,\n",
       "  '2017Tornadoes': 2,\n",
       "  '2017Fatalities': 0},\n",
       " {'State': 'New Mexico',\n",
       "  '2021Tornadoes': 18,\n",
       "  '2021Fatalities': 0,\n",
       "  '2020Tornadoes': 21,\n",
       "  '2020Fatalities': 0,\n",
       "  '2019Tornadoes': 21,\n",
       "  '2019Fatalities': 0,\n",
       "  '2018Tornadoes': 10,\n",
       "  '2018Fatalities': 0,\n",
       "  '2017Tornadoes': 11,\n",
       "  '2017Fatalities': 0},\n",
       " {'State': 'New York',\n",
       "  '2021Tornadoes': 14,\n",
       "  '2021Fatalities': 0,\n",
       "  '2020Tornadoes': 10,\n",
       "  '2020Fatalities': 0,\n",
       "  '2019Tornadoes': 4,\n",
       "  '2019Fatalities': 0,\n",
       "  '2018Tornadoes': 11,\n",
       "  '2018Fatalities': 1,\n",
       "  '2017Tornadoes': 12,\n",
       "  '2017Fatalities': 0},\n",
       " {'State': 'North Carolina',\n",
       "  '2021Tornadoes': 19,\n",
       "  '2021Fatalities': 3,\n",
       "  '2020Tornadoes': 54,\n",
       "  '2020Fatalities': 2,\n",
       "  '2019Tornadoes': 59,\n",
       "  '2019Fatalities': 0,\n",
       "  '2018Tornadoes': 41,\n",
       "  '2018Fatalities': 0,\n",
       "  '2017Tornadoes': 34,\n",
       "  '2017Fatalities': 0},\n",
       " {'State': 'North Dakota',\n",
       "  '2021Tornadoes': 21,\n",
       "  '2021Fatalities': 0,\n",
       "  '2020Tornadoes': 22,\n",
       "  '2020Fatalities': 0,\n",
       "  '2019Tornadoes': 14,\n",
       "  '2019Fatalities': 0,\n",
       "  '2018Tornadoes': 31,\n",
       "  '2018Fatalities': 1,\n",
       "  '2017Tornadoes': 41,\n",
       "  '2017Fatalities': 0},\n",
       " {'State': 'Ohio',\n",
       "  '2021Tornadoes': 37,\n",
       "  '2021Fatalities': 0,\n",
       "  '2020Tornadoes': 19,\n",
       "  '2020Fatalities': 0,\n",
       "  '2019Tornadoes': 59,\n",
       "  '2019Fatalities': 1,\n",
       "  '2018Tornadoes': 17,\n",
       "  '2018Fatalities': 0,\n",
       "  '2017Tornadoes': 43,\n",
       "  '2017Fatalities': 0},\n",
       " {'State': 'Oklahoma',\n",
       "  '2021Tornadoes': 39,\n",
       "  '2021Fatalities': 0,\n",
       "  '2020Tornadoes': 31,\n",
       "  '2020Fatalities': 2,\n",
       "  '2019Tornadoes': 99,\n",
       "  '2019Fatalities': 0,\n",
       "  '2018Tornadoes': 24,\n",
       "  '2018Fatalities': 0,\n",
       "  '2017Tornadoes': 62,\n",
       "  '2017Fatalities': 1},\n",
       " {'State': 'Oregon',\n",
       "  '2021Tornadoes': 0,\n",
       "  '2021Fatalities': 0,\n",
       "  '2020Tornadoes': 3,\n",
       "  '2020Fatalities': 0,\n",
       "  '2019Tornadoes': 4,\n",
       "  '2019Fatalities': 4,\n",
       "  '2018Tornadoes': 3,\n",
       "  '2018Fatalities': 0,\n",
       "  '2017Tornadoes': 3,\n",
       "  '2017Fatalities': 0},\n",
       " {'State': 'Pennsylvania',\n",
       "  '2021Tornadoes': 44,\n",
       "  '2021Fatalities': 1,\n",
       "  '2020Tornadoes': 6,\n",
       "  '2020Fatalities': 0,\n",
       "  '2019Tornadoes': 34,\n",
       "  '2019Fatalities': 0,\n",
       "  '2018Tornadoes': 31,\n",
       "  '2018Fatalities': 0,\n",
       "  '2017Tornadoes': 26,\n",
       "  '2017Fatalities': 0},\n",
       " {'State': 'Rhode Island',\n",
       "  '2021Tornadoes': 2,\n",
       "  '2021Fatalities': 0,\n",
       "  '2020Tornadoes': 0,\n",
       "  '2020Fatalities': 0,\n",
       "  '2019Tornadoes': 1,\n",
       "  '2019Fatalities': 0,\n",
       "  '2018Tornadoes': 1,\n",
       "  '2018Fatalities': 0,\n",
       "  '2017Tornadoes': 0,\n",
       "  '2017Fatalities': 0},\n",
       " {'State': 'South Carolina',\n",
       "  '2021Tornadoes': 24,\n",
       "  '2021Fatalities': 0,\n",
       "  '2020Tornadoes': 57,\n",
       "  '2020Fatalities': 8,\n",
       "  '2019Tornadoes': 18,\n",
       "  '2019Fatalities': 0,\n",
       "  '2018Tornadoes': 16,\n",
       "  '2018Fatalities': 0,\n",
       "  '2017Tornadoes': 51,\n",
       "  '2017Fatalities': 1},\n",
       " {'State': 'South Dakota',\n",
       "  '2021Tornadoes': 19,\n",
       "  '2021Fatalities': 0,\n",
       "  '2020Tornadoes': 21,\n",
       "  '2020Fatalities': 1,\n",
       "  '2019Tornadoes': 23,\n",
       "  '2019Fatalities': 0,\n",
       "  '2018Tornadoes': 19,\n",
       "  '2018Fatalities': 0,\n",
       "  '2017Tornadoes': 21,\n",
       "  '2017Fatalities': 0},\n",
       " {'State': 'Tennessee',\n",
       "  '2021Tornadoes': 66,\n",
       "  '2021Fatalities': 4,\n",
       "  '2020Tornadoes': 38,\n",
       "  '2020Fatalities': 27,\n",
       "  '2019Tornadoes': 16,\n",
       "  '2019Fatalities': 0,\n",
       "  '2018Tornadoes': 20,\n",
       "  '2018Fatalities': 1,\n",
       "  '2017Tornadoes': 35,\n",
       "  '2017Fatalities': 0},\n",
       " {'State': 'Texas',\n",
       "  '2021Tornadoes': 118,\n",
       "  '2021Fatalities': 1,\n",
       "  '2020Tornadoes': 102,\n",
       "  '2020Fatalities': 4,\n",
       "  '2019Tornadoes': 188,\n",
       "  '2019Fatalities': 2,\n",
       "  '2018Tornadoes': 52,\n",
       "  '2018Fatalities': 0,\n",
       "  '2017Tornadoes': 176,\n",
       "  '2017Fatalities': 4},\n",
       " {'State': 'Utah',\n",
       "  '2021Tornadoes': 4,\n",
       "  '2021Fatalities': 0,\n",
       "  '2020Tornadoes': 0,\n",
       "  '2020Fatalities': 0,\n",
       "  '2019Tornadoes': 0,\n",
       "  '2019Fatalities': 0,\n",
       "  '2018Tornadoes': 2,\n",
       "  '2018Fatalities': 0,\n",
       "  '2017Tornadoes': 0,\n",
       "  '2017Fatalities': 0},\n",
       " {'State': 'Vermont',\n",
       "  '2021Tornadoes': 2,\n",
       "  '2021Fatalities': 0,\n",
       "  '2020Tornadoes': 0,\n",
       "  '2020Fatalities': 0,\n",
       "  '2019Tornadoes': 1,\n",
       "  '2019Fatalities': 0,\n",
       "  '2018Tornadoes': 0,\n",
       "  '2018Fatalities': 0,\n",
       "  '2017Tornadoes': 0,\n",
       "  '2017Fatalities': 0},\n",
       " {'State': 'Virginia',\n",
       "  '2021Tornadoes': 9,\n",
       "  '2021Fatalities': 0,\n",
       "  '2020Tornadoes': 15,\n",
       "  '2020Fatalities': 0,\n",
       "  '2019Tornadoes': 24,\n",
       "  '2019Fatalities': 0,\n",
       "  '2018Tornadoes': 34,\n",
       "  '2018Fatalities': 1,\n",
       "  '2017Tornadoes': 23,\n",
       "  '2017Fatalities': 0},\n",
       " {'State': 'Washington',\n",
       "  '2021Tornadoes': 2,\n",
       "  '2021Fatalities': 0,\n",
       "  '2020Tornadoes': 2,\n",
       "  '2020Fatalities': 0,\n",
       "  '2019Tornadoes': 2,\n",
       "  '2019Fatalities': 0,\n",
       "  '2018Tornadoes': 2,\n",
       "  '2018Fatalities': 0,\n",
       "  '2017Tornadoes': 3,\n",
       "  '2017Fatalities': 0},\n",
       " {'State': 'West Virginia',\n",
       "  '2021Tornadoes': 2,\n",
       "  '2021Fatalities': 0,\n",
       "  '2020Tornadoes': 0,\n",
       "  '2020Fatalities': 0,\n",
       "  '2019Tornadoes': 3,\n",
       "  '2019Fatalities': 0,\n",
       "  '2018Tornadoes': 1,\n",
       "  '2018Fatalities': 0,\n",
       "  '2017Tornadoes': 5,\n",
       "  '2017Fatalities': 0},\n",
       " {'State': 'Wisconsin',\n",
       "  '2021Tornadoes': 28,\n",
       "  '2021Fatalities': 0,\n",
       "  '2020Tornadoes': 22,\n",
       "  '2020Fatalities': 0,\n",
       "  '2019Tornadoes': 32,\n",
       "  '2019Fatalities': 0,\n",
       "  '2018Tornadoes': 35,\n",
       "  '2018Fatalities': 0,\n",
       "  '2017Tornadoes': 28,\n",
       "  '2017Fatalities': 1},\n",
       " {'State': 'Wyoming',\n",
       "  '2021Tornadoes': 2,\n",
       "  '2021Fatalities': 0,\n",
       "  '2020Tornadoes': 1,\n",
       "  '2020Fatalities': 0,\n",
       "  '2019Tornadoes': 30,\n",
       "  '2019Fatalities': 0,\n",
       "  '2018Tornadoes': 31,\n",
       "  '2018Fatalities': 0,\n",
       "  '2017Tornadoes': 15,\n",
       "  '2017Fatalities': 0}]"
      ]
     },
     "execution_count": 4,
     "metadata": {},
     "output_type": "execute_result"
    }
   ],
   "source": [
    "temp = Data.get('all')\n",
    "temp"
   ]
  },
  {
   "cell_type": "code",
   "execution_count": 5,
   "id": "cc1cc79b",
   "metadata": {},
   "outputs": [
    {
     "data": {
      "text/plain": [
       "list"
      ]
     },
     "execution_count": 5,
     "metadata": {},
     "output_type": "execute_result"
    }
   ],
   "source": [
    "type(temp)\n",
    "#發現需要讓他尋找的東西型態是list"
   ]
  },
  {
   "cell_type": "code",
   "execution_count": 6,
   "id": "d97c7087",
   "metadata": {},
   "outputs": [],
   "source": [
    "ask ='Kentucky'"
   ]
  },
  {
   "cell_type": "code",
   "execution_count": 7,
   "id": "50d97869",
   "metadata": {
    "scrolled": true
   },
   "outputs": [
    {
     "name": "stdout",
     "output_type": "stream",
     "text": [
      "Kentucky 龍捲風個數 57 個\n"
     ]
    }
   ],
   "source": [
    "#基礎-用名稱尋找想要尋找的資料。\n",
    "for i in temp:#這邊i的型態為dict\n",
    "    if ask == i.get('State'):#電腦很笨 一定要注意大小寫。\n",
    "        print(ask, '龍捲風個數', i.get('2021Tornadoes'), '個')  "
   ]
  },
  {
   "cell_type": "code",
   "execution_count": 8,
   "id": "a152e3dd",
   "metadata": {
    "scrolled": true
   },
   "outputs": [
    {
     "name": "stdout",
     "output_type": "stream",
     "text": [
      "輸入stateKentucky\n",
      "輸入年份及宜想搜尋的東西2021Tornadoes\n",
      "Kentucky 龍捲風個數 57 個\n"
     ]
    }
   ],
   "source": [
    "#基礎-用名稱尋找想要尋找的資料。\n",
    "#定義函數\n",
    "things = str()\n",
    "def find_you_want(state,things):\n",
    "    ask = input(\"輸入state\")\n",
    "    things = input(\"輸入年份及宜想搜尋的東西\")\n",
    "\n",
    "    for i in temp:#這邊i的型態為dict\n",
    "        if ask == i.get(state):#電腦很笨 一定要注意大小寫。\n",
    "            print(ask, '龍捲風個數', i.get(things), '個')  \n",
    "find_you_want('State',things)"
   ]
  },
  {
   "cell_type": "code",
   "execution_count": 9,
   "id": "ec8fe7fd",
   "metadata": {
    "scrolled": false
   },
   "outputs": [
    {
     "name": "stdout",
     "output_type": "stream",
     "text": [
      "輸入stateKentucky\n",
      "輸入年份及宜想搜尋的東西2021Tornadoes\n",
      "Kentucky 龍捲風個數 57 個\n"
     ]
    }
   ],
   "source": [
    "find_you_want('State','2017Tornadoes')"
   ]
  },
  {
   "cell_type": "code",
   "execution_count": 10,
   "id": "660ca0aa",
   "metadata": {},
   "outputs": [
    {
     "name": "stdout",
     "output_type": "stream",
     "text": [
      "1377\n"
     ]
    }
   ],
   "source": [
    "#計算所有地區該年的總計個數\n",
    "summ = int()\n",
    "for i in temp:\n",
    "    summ += i.get('2021Tornadoes')\n",
    "print(summ)"
   ]
  },
  {
   "cell_type": "code",
   "execution_count": 11,
   "id": "f6db2317",
   "metadata": {},
   "outputs": [
    {
     "name": "stdout",
     "output_type": "stream",
     "text": [
      "1377 Tornadoes in 2021\n"
     ]
    }
   ],
   "source": [
    "#計算所有地區該年的總計個數\n",
    "#定義函數\n",
    "def sum_the_year(year,things):\n",
    "    summ = int()\n",
    "    for i in temp:\n",
    "        summ += i.get(year+things)\n",
    "    print(summ,things,'in',year)\n",
    "sum_the_year('2021','Tornadoes')"
   ]
  },
  {
   "cell_type": "code",
   "execution_count": 12,
   "id": "36a032b1",
   "metadata": {},
   "outputs": [
    {
     "name": "stdout",
     "output_type": "stream",
     "text": [
      "1377 Tornadoes in 2021\n",
      "[1377]\n"
     ]
    }
   ],
   "source": [
    "#計算所有地區該年的總計個數\n",
    "#定義函數\n",
    "tornadoes = []\n",
    "tornadoes_year = []\n",
    "def sum_the_year(year,things):\n",
    "    summ = int()\n",
    "    for i in temp:\n",
    "        summ += i.get(year+things)\n",
    "    print(summ,things,'in',year)\n",
    "    tornadoes.append(summ)\n",
    "    tornadoes_year.append(year)\n",
    "    print(tornadoes)\n",
    "sum_the_year('2021','Tornadoes')"
   ]
  },
  {
   "cell_type": "code",
   "execution_count": 13,
   "id": "a0c16677",
   "metadata": {},
   "outputs": [
    {
     "name": "stdout",
     "output_type": "stream",
     "text": [
      "1281 Tornadoes in 2020\n",
      "[1377, 1281]\n",
      "1676 Tornadoes in 2019\n",
      "[1377, 1281, 1676]\n",
      "1169 Tornadoes in 2018\n",
      "[1377, 1281, 1676, 1169]\n",
      "1522 Tornadoes in 2017\n",
      "[1377, 1281, 1676, 1169, 1522]\n"
     ]
    }
   ],
   "source": [
    "sum_the_year('2020','Tornadoes')\n",
    "sum_the_year('2019','Tornadoes')\n",
    "sum_the_year('2018','Tornadoes')\n",
    "sum_the_year('2017','Tornadoes')"
   ]
  },
  {
   "cell_type": "code",
   "execution_count": 14,
   "id": "51e9649d",
   "metadata": {},
   "outputs": [],
   "source": [
    "tornadoes_enumerate = enumerate(tornadoes, start = 1)\n"
   ]
  },
  {
   "cell_type": "code",
   "execution_count": 15,
   "id": "287e6f6f",
   "metadata": {},
   "outputs": [
    {
     "data": {
      "text/plain": [
       "[(3, 1676), (5, 1522), (1, 1377), (2, 1281), (4, 1169)]"
      ]
     },
     "execution_count": 15,
     "metadata": {},
     "output_type": "execute_result"
    }
   ],
   "source": [
    "tornadoes_enumerate_sorted = sorted(tornadoes_enumerate, key = lambda s: s[1], reverse = True)\n",
    "tornadoes_enumerate_sorted"
   ]
  },
  {
   "cell_type": "code",
   "execution_count": 16,
   "id": "15bb69de",
   "metadata": {},
   "outputs": [
    {
     "data": {
      "text/plain": [
       "3"
      ]
     },
     "execution_count": 16,
     "metadata": {},
     "output_type": "execute_result"
    }
   ],
   "source": [
    "tornadoes_enumerate_sorted[0][0]"
   ]
  },
  {
   "cell_type": "code",
   "execution_count": 17,
   "id": "cd109b84",
   "metadata": {},
   "outputs": [
    {
     "name": "stdout",
     "output_type": "stream",
     "text": [
      "1676 in 2019\n",
      "1522 in 2017\n",
      "1377 in 2021\n",
      "1281 in 2020\n",
      "1169 in 2018\n"
     ]
    }
   ],
   "source": [
    "for i in tornadoes_enumerate_sorted:\n",
    "    j = i[0] - 1\n",
    "    print(tornadoes[j],'in',tornadoes_year[j])"
   ]
  },
  {
   "cell_type": "markdown",
   "id": "7a885ce1",
   "metadata": {},
   "source": [
    "這邊只有五年的多少比較\n",
    "=="
   ]
  },
  {
   "cell_type": "code",
   "execution_count": 18,
   "id": "d9b0553c",
   "metadata": {},
   "outputs": [
    {
     "name": "stdout",
     "output_type": "stream",
     "text": [
      "['Alabama', 'Alaska', 'Arizona', 'Arkansas', 'California', 'Colorado', 'Connecticut', 'Delaware', 'D.C.', 'Florida', 'Georgia', 'Hawaii', 'Idaho', 'Illinois', 'Indiana', 'Iowa', 'Kansas', 'Kentucky', 'Louisiana', 'Maine', 'Maryland', 'Massachusetts', 'Michigan', 'Minnesota', 'Mississippi', 'Missouri', 'Montana', 'Nebraska', 'Nevada', 'New Hampshire', 'New Jersey', 'New Mexico', 'New York', 'North Carolina', 'North Dakota', 'Ohio', 'Oklahoma', 'Oregon', 'Pennsylvania', 'Rhode Island', 'South Carolina', 'South Dakota', 'Tennessee', 'Texas', 'Utah', 'Vermont', 'Virginia', 'Washington', 'West Virginia', 'Wisconsin', 'Wyoming']\n"
     ]
    }
   ],
   "source": [
    "state = []\n",
    "for i in temp:\n",
    "    state.append(i.get('State'))\n",
    "print(state)\n"
   ]
  },
  {
   "cell_type": "code",
   "execution_count": 19,
   "id": "7a0b91c6",
   "metadata": {},
   "outputs": [
    {
     "name": "stdout",
     "output_type": "stream",
     "text": [
      "390 Tornadoes 5 years in Alabama\n",
      "0 Tornadoes 5 years in Alaska\n",
      "29 Tornadoes 5 years in Arizona\n",
      "172 Tornadoes 5 years in Arkansas\n",
      "36 Tornadoes 5 years in California\n",
      "194 Tornadoes 5 years in Colorado\n",
      "23 Tornadoes 5 years in Connecticut\n",
      "11 Tornadoes 5 years in Delaware\n",
      "3 Tornadoes 5 years in D.C.\n",
      "211 Tornadoes 5 years in Florida\n",
      "344 Tornadoes 5 years in Georgia\n",
      "0 Tornadoes 5 years in Hawaii\n",
      "17 Tornadoes 5 years in Idaho\n",
      "317 Tornadoes 5 years in Illinois\n",
      "149 Tornadoes 5 years in Indiana\n",
      "292 Tornadoes 5 years in Iowa\n",
      "319 Tornadoes 5 years in Kansas\n",
      "178 Tornadoes 5 years in Kentucky\n",
      "376 Tornadoes 5 years in Louisiana\n",
      "13 Tornadoes 5 years in Maine\n",
      "44 Tornadoes 5 years in Maryland\n",
      "22 Tornadoes 5 years in Massachusetts\n",
      "49 Tornadoes 5 years in Michigan\n",
      "237 Tornadoes 5 years in Minnesota\n",
      "506 Tornadoes 5 years in Mississippi\n",
      "325 Tornadoes 5 years in Missouri\n",
      "21 Tornadoes 5 years in Montana\n",
      "207 Tornadoes 5 years in Nebraska\n",
      "8 Tornadoes 5 years in Nevada\n",
      "3 Tornadoes 5 years in New Hampshire\n",
      "33 Tornadoes 5 years in New Jersey\n",
      "81 Tornadoes 5 years in New Mexico\n",
      "51 Tornadoes 5 years in New York\n",
      "207 Tornadoes 5 years in North Carolina\n",
      "129 Tornadoes 5 years in North Dakota\n",
      "175 Tornadoes 5 years in Ohio\n",
      "255 Tornadoes 5 years in Oklahoma\n",
      "13 Tornadoes 5 years in Oregon\n",
      "141 Tornadoes 5 years in Pennsylvania\n",
      "4 Tornadoes 5 years in Rhode Island\n",
      "166 Tornadoes 5 years in South Carolina\n",
      "103 Tornadoes 5 years in South Dakota\n",
      "175 Tornadoes 5 years in Tennessee\n",
      "636 Tornadoes 5 years in Texas\n",
      "6 Tornadoes 5 years in Utah\n",
      "3 Tornadoes 5 years in Vermont\n",
      "105 Tornadoes 5 years in Virginia\n",
      "11 Tornadoes 5 years in Washington\n",
      "11 Tornadoes 5 years in West Virginia\n",
      "145 Tornadoes 5 years in Wisconsin\n",
      "79 Tornadoes 5 years in Wyoming\n"
     ]
    }
   ],
   "source": [
    "#計算該地區五年的個數\n",
    "#定義函數\n",
    "list_tornadoes = []\n",
    "def sum_the_state(things,list):\n",
    "    summ = int()\n",
    "    num = -1\n",
    "    year = 2016\n",
    "    for i in temp :\n",
    "        num += 1\n",
    "        #五年相加\n",
    "        year = 2016\n",
    "        summ = 0\n",
    "        j=0\n",
    "        while j<5 :\n",
    "            year += 1\n",
    "            years = str(year)\n",
    "            summ += i.get(years+things)\n",
    "            j += 1\n",
    "        print(summ,things,'5 years','in',state[num])\n",
    "        list.append(summ)\n",
    "sum_the_state('Tornadoes',list_tornadoes)"
   ]
  },
  {
   "cell_type": "code",
   "execution_count": 40,
   "id": "93cf03cf",
   "metadata": {},
   "outputs": [
    {
     "name": "stdout",
     "output_type": "stream",
     "text": [
      "Mississippi\n",
      "1\n",
      "Mississippi 死亡率 0.039525691699604744\n",
      "Missouri\n",
      "1\n",
      "Missouri 死亡率 0.021538461538461538\n",
      "Montana\n",
      "1\n",
      "Montana 死亡率 0.0\n",
      "Nebraska\n",
      "1\n",
      "Nebraska 死亡率 0.0\n",
      "Nevada\n",
      "1\n",
      "Nevada 死亡率 0.0\n",
      "New Hampshire\n",
      "1\n",
      "New Hampshire 死亡率 0.0\n",
      "New Jersey\n",
      "1\n",
      "New Jersey 死亡率 0.0\n"
     ]
    }
   ],
   "source": [
    "#計算該地區五年的個數\n",
    "#定義函數\n",
    "list_tofind_rate = ['Mississippi', 'Missouri', 'Montana', 'Nebraska', 'Nevada', 'New Hampshire', 'New Jersey']\n",
    "list_tornadoes = []\n",
    "def sum_which_state(list):\n",
    "    for k in range(len(list_tofind_rate)):\n",
    "        state = list_tofind_rate[k]\n",
    "        print(state)\n",
    "        sumt = int()\n",
    "        sumf = int()\n",
    "        year = 2016\n",
    "        for i in temp:#這邊i的型態為dict\n",
    "\n",
    "            if state == i.get('State'):#電腦很笨 一定要注意大小寫。\n",
    "                #五年相加\n",
    "                print(\"1\")\n",
    "                year = 2016\n",
    "                j = 0\n",
    "                while j < 5 :\n",
    "                    year += 1\n",
    "                    years = str(year)\n",
    "                    sumt += i.get(years+'Tornadoes')\n",
    "                    sumf += i.get(years+'Fatalities')\n",
    "                    j += 1\n",
    "                print(state,'死亡率',sumf/sumt)\n",
    "                list.append(sumf/sumt)\n",
    "sum_which_state(list_tornadoes)"
   ]
  },
  {
   "cell_type": "code",
   "execution_count": 40,
   "id": "41e050bb",
   "metadata": {},
   "outputs": [
    {
     "name": "stdout",
     "output_type": "stream",
     "text": [
      "Mississippi\n",
      "1\n",
      "Mississippi 死亡率 0.039525691699604744\n",
      "Missouri\n",
      "1\n",
      "Missouri 死亡率 0.021538461538461538\n",
      "Montana\n",
      "1\n",
      "Montana 死亡率 0.0\n",
      "Nebraska\n",
      "1\n",
      "Nebraska 死亡率 0.0\n",
      "Nevada\n",
      "1\n",
      "Nevada 死亡率 0.0\n",
      "New Hampshire\n",
      "1\n",
      "New Hampshire 死亡率 0.0\n",
      "New Jersey\n",
      "1\n",
      "New Jersey 死亡率 0.0\n"
     ]
    }
   ],
   "source": [
    "#計算該地區五年的個數\n",
    "#定義函數\n",
    "list_tofind_rate = ['Mississippi', 'Missouri', 'Montana', 'Nebraska', 'Nevada', 'New Hampshire', 'New Jersey']\n",
    "list_tornadoes = []\n",
    "list_rate_sort = []\n",
    "def sum_which_state(list):\n",
    "    for k in range(len(list_tofind_rate)):\n",
    "        state = list_tofind_rate[k]\n",
    "        sumt = int()\n",
    "        sumf = int()\n",
    "        year = 2016\n",
    "        for i in temp:#這邊i的型態為dict\n",
    "            if state == i.get('State'):#電腦很笨 一定要注意大小寫。\n",
    "                #五年相加\n",
    "                year = 2016\n",
    "                j = 0\n",
    "                while j < 5 :\n",
    "                    year += 1\n",
    "                    years = str(year)\n",
    "                    sumt += i.get(years+'Tornadoes')\n",
    "                    sumf += i.get(years+'Fatalities')\n",
    "                    j += 1\n",
    "                print(state,'死亡率',sumf/sumt)\n",
    "                list.append(sumf/sumt)\n",
    "sum_which_state(list_tornadoes)\n",
    "all_enumerate(list_rate_sort,list_tornadoes)"
   ]
  },
  {
   "cell_type": "code",
   "execution_count": 41,
   "id": "a1825ef3",
   "metadata": {},
   "outputs": [
    {
     "name": "stdout",
     "output_type": "stream",
     "text": [
      "0.039525691699604744 in Alabama\n",
      "0.021538461538461538 in Alaska\n",
      "0.0 in Arizona\n",
      "0.0 in Arkansas\n",
      "0.0 in California\n",
      "0.0 in Colorado\n",
      "0.0 in Connecticut\n",
      "['Alabama', 'Alaska', 'Arizona', 'Arkansas', 'California', 'Colorado', 'Connecticut']\n"
     ]
    },
    {
     "data": {
      "text/plain": [
       "['Alabama',\n",
       " 'Alaska',\n",
       " 'Arizona',\n",
       " 'Arkansas',\n",
       " 'California',\n",
       " 'Colorado',\n",
       " 'Connecticut']"
      ]
     },
     "execution_count": 41,
     "metadata": {},
     "output_type": "execute_result"
    }
   ],
   "source": [
    "list_rate_sort = []\n",
    "all_enumerate(list_rate_sort,list_tornadoes)"
   ]
  },
  {
   "cell_type": "code",
   "execution_count": 20,
   "id": "c5128900",
   "metadata": {},
   "outputs": [
    {
     "name": "stdout",
     "output_type": "stream",
     "text": [
      "[100, 0, 6, 41, 5, 48, 8, 2, 2, 32, 57, 0, 0, 80, 19, 70, 46, 57, 50, 0, 11, 7, 17, 37, 92, 50, 1, 53, 3, 0, 13, 18, 14, 19, 21, 37, 39, 0, 44, 2, 24, 19, 66, 118, 4, 2, 9, 2, 2, 28, 2]\n"
     ]
    }
   ],
   "source": [
    "#計算該地區當年的個數\n",
    "#定義函數\n",
    "def sum_the_state_year(year,things):\n",
    "    year_things = []\n",
    "    for i in temp:\n",
    "        year_things.append(i.get(year+things))\n",
    "    print(year_things)\n",
    "sum_the_state_year(\"2021\",'Tornadoes')"
   ]
  },
  {
   "cell_type": "code",
   "execution_count": 21,
   "id": "2e76f03c",
   "metadata": {},
   "outputs": [
    {
     "name": "stdout",
     "output_type": "stream",
     "text": [
      "636 in Texas\n",
      "506 in Mississippi\n",
      "390 in Alabama\n",
      "376 in Louisiana\n",
      "344 in Georgia\n",
      "325 in Missouri\n",
      "319 in Kansas\n",
      "317 in Illinois\n",
      "292 in Iowa\n",
      "255 in Oklahoma\n",
      "['Texas', 'Mississippi', 'Alabama', 'Louisiana', 'Georgia', 'Missouri', 'Kansas', 'Illinois', 'Iowa', 'Oklahoma']\n"
     ]
    }
   ],
   "source": [
    "#五年最高的top10地區\n",
    "all_top10 = []\n",
    "list_tornadoes_enumerate = enumerate(list_tornadoes, start = 1)\n",
    "list_tornadoes_enumerate_sorted = sorted(list_tornadoes_enumerate, key = lambda s: s[1], reverse = True)\n",
    "k = 0\n",
    "for i in list_tornadoes_enumerate_sorted:\n",
    "    j = i[0] - 1\n",
    "    k += 1\n",
    "    if k >10:\n",
    "        break\n",
    "    print(list_tornadoes[j],'in',state[j])\n",
    "    all_top10.append(state[j])\n",
    "print(all_top10)"
   ]
  },
  {
   "cell_type": "code",
   "execution_count": 24,
   "id": "1535150b",
   "metadata": {},
   "outputs": [
    {
     "name": "stdout",
     "output_type": "stream",
     "text": [
      "qtop52021tor\n",
      "636 in Texas\n",
      "506 in Mississippi\n",
      "390 in Alabama\n",
      "376 in Louisiana\n",
      "344 in Georgia\n",
      "325 in Missouri\n",
      "319 in Kansas\n",
      "317 in Illinois\n",
      "292 in Iowa\n",
      "255 in Oklahoma\n",
      "['Texas', 'Mississippi', 'Alabama', 'Louisiana', 'Georgia', 'Missouri', 'Kansas', 'Illinois', 'Iowa', 'Oklahoma']\n"
     ]
    },
    {
     "data": {
      "text/plain": [
       "['Texas',\n",
       " 'Mississippi',\n",
       " 'Alabama',\n",
       " 'Louisiana',\n",
       " 'Georgia',\n",
       " 'Missouri',\n",
       " 'Kansas',\n",
       " 'Illinois',\n",
       " 'Iowa',\n",
       " 'Oklahoma']"
      ]
     },
     "execution_count": 24,
     "metadata": {},
     "output_type": "execute_result"
    }
   ],
   "source": [
    "#定義排序\n",
    "a = input(\"q\")\n",
    "a = []\n",
    "def all_enumerate(toplist,list):\n",
    "    toplist = []\n",
    "    list_enumerate = enumerate(list, start = 1)\n",
    "    list_enumerate_sorted = sorted(list_enumerate, key = lambda s: s[1], reverse = True)\n",
    "    list_enumerate_sorted\n",
    "    k = 0\n",
    "    for i in list_enumerate_sorted:\n",
    "        j = i[0] - 1\n",
    "        k += 1\n",
    "        if k >10:\n",
    "            break\n",
    "        print(list[j],'in',state[j])\n",
    "        toplist.append(state[j])\n",
    "    print(toplist)\n",
    "    return  toplist\n",
    "all_enumerate(a,list_tornadoes)"
   ]
  },
  {
   "cell_type": "code",
   "execution_count": 25,
   "id": "ff807e44",
   "metadata": {},
   "outputs": [
    {
     "ename": "NameError",
     "evalue": "name 'top52021tor' is not defined",
     "output_type": "error",
     "traceback": [
      "\u001b[0;31m---------------------------------------------------------------------------\u001b[0m",
      "\u001b[0;31mNameError\u001b[0m                                 Traceback (most recent call last)",
      "Input \u001b[0;32mIn [25]\u001b[0m, in \u001b[0;36m<cell line: 1>\u001b[0;34m()\u001b[0m\n\u001b[0;32m----> 1\u001b[0m \u001b[43mtop52021tor\u001b[49m\n",
      "\u001b[0;31mNameError\u001b[0m: name 'top52021tor' is not defined"
     ]
    }
   ],
   "source": [
    "top52021tor"
   ]
  },
  {
   "cell_type": "code",
   "execution_count": 44,
   "id": "33c00841",
   "metadata": {},
   "outputs": [
    {
     "name": "stdout",
     "output_type": "stream",
     "text": [
      "0.039525691699604744 in Mississippi\n",
      "0.021538461538461538 in Missouri\n",
      "0.0 in Montana\n",
      "0.0 in Nebraska\n",
      "0.0 in Nevada\n",
      "0.0 in New Hampshire\n",
      "0.0 in New Jersey\n",
      "['Mississippi', 'Missouri', 'Montana', 'Nebraska', 'Nevada', 'New Hampshire', 'New Jersey']\n"
     ]
    },
    {
     "data": {
      "text/plain": [
       "['Mississippi',\n",
       " 'Missouri',\n",
       " 'Montana',\n",
       " 'Nebraska',\n",
       " 'Nevada',\n",
       " 'New Hampshire',\n",
       " 'New Jersey']"
      ]
     },
     "execution_count": 44,
     "metadata": {},
     "output_type": "execute_result"
    }
   ],
   "source": [
    "#定義排序\n",
    "top52021tor = []\n",
    "def all_enumerate(toplist,list,state_list):\n",
    "    list_enumerate = enumerate(list, start = 1)\n",
    "    list_enumerate_sorted = sorted(list_enumerate, key = lambda s: s[1], reverse = True)\n",
    "    list_enumerate_sorted\n",
    "    k = 0\n",
    "    for i in list_enumerate_sorted:\n",
    "        j = i[0] - 1\n",
    "        k += 1\n",
    "        if k >10:\n",
    "            break\n",
    "        print(list[j],'in',state_list[j])\n",
    "        toplist.append(state_list[j])\n",
    "    print(toplist)\n",
    "    return  toplist\n",
    "all_enumerate(top52021tor,list_tornadoes,list_tofind_rate)"
   ]
  },
  {
   "cell_type": "code",
   "execution_count": null,
   "id": "2f060df7",
   "metadata": {},
   "outputs": [],
   "source": []
  }
 ],
 "metadata": {
  "kernelspec": {
   "display_name": "Python 3 (ipykernel)",
   "language": "python",
   "name": "python3"
  },
  "language_info": {
   "codemirror_mode": {
    "name": "ipython",
    "version": 3
   },
   "file_extension": ".py",
   "mimetype": "text/x-python",
   "name": "python",
   "nbconvert_exporter": "python",
   "pygments_lexer": "ipython3",
   "version": "3.9.12"
  }
 },
 "nbformat": 4,
 "nbformat_minor": 5
}
