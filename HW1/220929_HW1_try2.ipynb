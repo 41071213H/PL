{
 "cells": [
  {
   "cell_type": "code",
   "execution_count": 1,
   "id": "8b2fde54",
   "metadata": {},
   "outputs": [
    {
     "ename": "UnicodeDecodeError",
     "evalue": "'utf-8' codec can't decode byte 0xb7 in position 0: invalid start byte",
     "output_type": "error",
     "traceback": [
      "\u001b[0;31m---------------------------------------------------------------------------\u001b[0m",
      "\u001b[0;31mUnicodeDecodeError\u001b[0m                        Traceback (most recent call last)",
      "Input \u001b[0;32mIn [1]\u001b[0m, in \u001b[0;36m<cell line: 4>\u001b[0;34m()\u001b[0m\n\u001b[1;32m      1\u001b[0m \u001b[38;5;28;01mimport\u001b[39;00m \u001b[38;5;21;01mpandas\u001b[39;00m \u001b[38;5;28;01mas\u001b[39;00m \u001b[38;5;21;01mpd\u001b[39;00m\n\u001b[1;32m      2\u001b[0m \u001b[38;5;66;03m#read fild\u001b[39;00m\n\u001b[0;32m----> 4\u001b[0m cnm \u001b[38;5;241m=\u001b[39m \u001b[43mpd\u001b[49m\u001b[38;5;241;43m.\u001b[39;49m\u001b[43mread_csv\u001b[49m\u001b[43m(\u001b[49m\u001b[38;5;124;43m\"\u001b[39;49m\u001b[38;5;124;43mcnm.csv\u001b[39;49m\u001b[38;5;124;43m\"\u001b[39;49m\u001b[43m)\u001b[49m\n\u001b[1;32m      5\u001b[0m caf \u001b[38;5;241m=\u001b[39m pd\u001b[38;5;241m.\u001b[39mread_csv(\u001b[38;5;124m\"\u001b[39m\u001b[38;5;124mcaf.csv\u001b[39m\u001b[38;5;124m\"\u001b[39m)\n\u001b[1;32m      6\u001b[0m cwf \u001b[38;5;241m=\u001b[39m pd\u001b[38;5;241m.\u001b[39mread_csv(\u001b[38;5;124m\"\u001b[39m\u001b[38;5;124mcwf.csv\u001b[39m\u001b[38;5;124m\"\u001b[39m)\n",
      "File \u001b[0;32m~/opt/anaconda3/lib/python3.9/site-packages/pandas/util/_decorators.py:311\u001b[0m, in \u001b[0;36mdeprecate_nonkeyword_arguments.<locals>.decorate.<locals>.wrapper\u001b[0;34m(*args, **kwargs)\u001b[0m\n\u001b[1;32m    305\u001b[0m \u001b[38;5;28;01mif\u001b[39;00m \u001b[38;5;28mlen\u001b[39m(args) \u001b[38;5;241m>\u001b[39m num_allow_args:\n\u001b[1;32m    306\u001b[0m     warnings\u001b[38;5;241m.\u001b[39mwarn(\n\u001b[1;32m    307\u001b[0m         msg\u001b[38;5;241m.\u001b[39mformat(arguments\u001b[38;5;241m=\u001b[39marguments),\n\u001b[1;32m    308\u001b[0m         \u001b[38;5;167;01mFutureWarning\u001b[39;00m,\n\u001b[1;32m    309\u001b[0m         stacklevel\u001b[38;5;241m=\u001b[39mstacklevel,\n\u001b[1;32m    310\u001b[0m     )\n\u001b[0;32m--> 311\u001b[0m \u001b[38;5;28;01mreturn\u001b[39;00m \u001b[43mfunc\u001b[49m\u001b[43m(\u001b[49m\u001b[38;5;241;43m*\u001b[39;49m\u001b[43margs\u001b[49m\u001b[43m,\u001b[49m\u001b[43m \u001b[49m\u001b[38;5;241;43m*\u001b[39;49m\u001b[38;5;241;43m*\u001b[39;49m\u001b[43mkwargs\u001b[49m\u001b[43m)\u001b[49m\n",
      "File \u001b[0;32m~/opt/anaconda3/lib/python3.9/site-packages/pandas/io/parsers/readers.py:680\u001b[0m, in \u001b[0;36mread_csv\u001b[0;34m(filepath_or_buffer, sep, delimiter, header, names, index_col, usecols, squeeze, prefix, mangle_dupe_cols, dtype, engine, converters, true_values, false_values, skipinitialspace, skiprows, skipfooter, nrows, na_values, keep_default_na, na_filter, verbose, skip_blank_lines, parse_dates, infer_datetime_format, keep_date_col, date_parser, dayfirst, cache_dates, iterator, chunksize, compression, thousands, decimal, lineterminator, quotechar, quoting, doublequote, escapechar, comment, encoding, encoding_errors, dialect, error_bad_lines, warn_bad_lines, on_bad_lines, delim_whitespace, low_memory, memory_map, float_precision, storage_options)\u001b[0m\n\u001b[1;32m    665\u001b[0m kwds_defaults \u001b[38;5;241m=\u001b[39m _refine_defaults_read(\n\u001b[1;32m    666\u001b[0m     dialect,\n\u001b[1;32m    667\u001b[0m     delimiter,\n\u001b[0;32m   (...)\u001b[0m\n\u001b[1;32m    676\u001b[0m     defaults\u001b[38;5;241m=\u001b[39m{\u001b[38;5;124m\"\u001b[39m\u001b[38;5;124mdelimiter\u001b[39m\u001b[38;5;124m\"\u001b[39m: \u001b[38;5;124m\"\u001b[39m\u001b[38;5;124m,\u001b[39m\u001b[38;5;124m\"\u001b[39m},\n\u001b[1;32m    677\u001b[0m )\n\u001b[1;32m    678\u001b[0m kwds\u001b[38;5;241m.\u001b[39mupdate(kwds_defaults)\n\u001b[0;32m--> 680\u001b[0m \u001b[38;5;28;01mreturn\u001b[39;00m \u001b[43m_read\u001b[49m\u001b[43m(\u001b[49m\u001b[43mfilepath_or_buffer\u001b[49m\u001b[43m,\u001b[49m\u001b[43m \u001b[49m\u001b[43mkwds\u001b[49m\u001b[43m)\u001b[49m\n",
      "File \u001b[0;32m~/opt/anaconda3/lib/python3.9/site-packages/pandas/io/parsers/readers.py:575\u001b[0m, in \u001b[0;36m_read\u001b[0;34m(filepath_or_buffer, kwds)\u001b[0m\n\u001b[1;32m    572\u001b[0m _validate_names(kwds\u001b[38;5;241m.\u001b[39mget(\u001b[38;5;124m\"\u001b[39m\u001b[38;5;124mnames\u001b[39m\u001b[38;5;124m\"\u001b[39m, \u001b[38;5;28;01mNone\u001b[39;00m))\n\u001b[1;32m    574\u001b[0m \u001b[38;5;66;03m# Create the parser.\u001b[39;00m\n\u001b[0;32m--> 575\u001b[0m parser \u001b[38;5;241m=\u001b[39m \u001b[43mTextFileReader\u001b[49m\u001b[43m(\u001b[49m\u001b[43mfilepath_or_buffer\u001b[49m\u001b[43m,\u001b[49m\u001b[43m \u001b[49m\u001b[38;5;241;43m*\u001b[39;49m\u001b[38;5;241;43m*\u001b[39;49m\u001b[43mkwds\u001b[49m\u001b[43m)\u001b[49m\n\u001b[1;32m    577\u001b[0m \u001b[38;5;28;01mif\u001b[39;00m chunksize \u001b[38;5;129;01mor\u001b[39;00m iterator:\n\u001b[1;32m    578\u001b[0m     \u001b[38;5;28;01mreturn\u001b[39;00m parser\n",
      "File \u001b[0;32m~/opt/anaconda3/lib/python3.9/site-packages/pandas/io/parsers/readers.py:933\u001b[0m, in \u001b[0;36mTextFileReader.__init__\u001b[0;34m(self, f, engine, **kwds)\u001b[0m\n\u001b[1;32m    930\u001b[0m     \u001b[38;5;28mself\u001b[39m\u001b[38;5;241m.\u001b[39moptions[\u001b[38;5;124m\"\u001b[39m\u001b[38;5;124mhas_index_names\u001b[39m\u001b[38;5;124m\"\u001b[39m] \u001b[38;5;241m=\u001b[39m kwds[\u001b[38;5;124m\"\u001b[39m\u001b[38;5;124mhas_index_names\u001b[39m\u001b[38;5;124m\"\u001b[39m]\n\u001b[1;32m    932\u001b[0m \u001b[38;5;28mself\u001b[39m\u001b[38;5;241m.\u001b[39mhandles: IOHandles \u001b[38;5;241m|\u001b[39m \u001b[38;5;28;01mNone\u001b[39;00m \u001b[38;5;241m=\u001b[39m \u001b[38;5;28;01mNone\u001b[39;00m\n\u001b[0;32m--> 933\u001b[0m \u001b[38;5;28mself\u001b[39m\u001b[38;5;241m.\u001b[39m_engine \u001b[38;5;241m=\u001b[39m \u001b[38;5;28;43mself\u001b[39;49m\u001b[38;5;241;43m.\u001b[39;49m\u001b[43m_make_engine\u001b[49m\u001b[43m(\u001b[49m\u001b[43mf\u001b[49m\u001b[43m,\u001b[49m\u001b[43m \u001b[49m\u001b[38;5;28;43mself\u001b[39;49m\u001b[38;5;241;43m.\u001b[39;49m\u001b[43mengine\u001b[49m\u001b[43m)\u001b[49m\n",
      "File \u001b[0;32m~/opt/anaconda3/lib/python3.9/site-packages/pandas/io/parsers/readers.py:1235\u001b[0m, in \u001b[0;36mTextFileReader._make_engine\u001b[0;34m(self, f, engine)\u001b[0m\n\u001b[1;32m   1232\u001b[0m     \u001b[38;5;28;01mraise\u001b[39;00m \u001b[38;5;167;01mValueError\u001b[39;00m(msg)\n\u001b[1;32m   1234\u001b[0m \u001b[38;5;28;01mtry\u001b[39;00m:\n\u001b[0;32m-> 1235\u001b[0m     \u001b[38;5;28;01mreturn\u001b[39;00m \u001b[43mmapping\u001b[49m\u001b[43m[\u001b[49m\u001b[43mengine\u001b[49m\u001b[43m]\u001b[49m\u001b[43m(\u001b[49m\u001b[43mf\u001b[49m\u001b[43m,\u001b[49m\u001b[43m \u001b[49m\u001b[38;5;241;43m*\u001b[39;49m\u001b[38;5;241;43m*\u001b[39;49m\u001b[38;5;28;43mself\u001b[39;49m\u001b[38;5;241;43m.\u001b[39;49m\u001b[43moptions\u001b[49m\u001b[43m)\u001b[49m\n\u001b[1;32m   1236\u001b[0m \u001b[38;5;28;01mexcept\u001b[39;00m \u001b[38;5;167;01mException\u001b[39;00m:\n\u001b[1;32m   1237\u001b[0m     \u001b[38;5;28;01mif\u001b[39;00m \u001b[38;5;28mself\u001b[39m\u001b[38;5;241m.\u001b[39mhandles \u001b[38;5;129;01mis\u001b[39;00m \u001b[38;5;129;01mnot\u001b[39;00m \u001b[38;5;28;01mNone\u001b[39;00m:\n",
      "File \u001b[0;32m~/opt/anaconda3/lib/python3.9/site-packages/pandas/io/parsers/c_parser_wrapper.py:75\u001b[0m, in \u001b[0;36mCParserWrapper.__init__\u001b[0;34m(self, src, **kwds)\u001b[0m\n\u001b[1;32m     72\u001b[0m     kwds\u001b[38;5;241m.\u001b[39mpop(key, \u001b[38;5;28;01mNone\u001b[39;00m)\n\u001b[1;32m     74\u001b[0m kwds[\u001b[38;5;124m\"\u001b[39m\u001b[38;5;124mdtype\u001b[39m\u001b[38;5;124m\"\u001b[39m] \u001b[38;5;241m=\u001b[39m ensure_dtype_objs(kwds\u001b[38;5;241m.\u001b[39mget(\u001b[38;5;124m\"\u001b[39m\u001b[38;5;124mdtype\u001b[39m\u001b[38;5;124m\"\u001b[39m, \u001b[38;5;28;01mNone\u001b[39;00m))\n\u001b[0;32m---> 75\u001b[0m \u001b[38;5;28mself\u001b[39m\u001b[38;5;241m.\u001b[39m_reader \u001b[38;5;241m=\u001b[39m \u001b[43mparsers\u001b[49m\u001b[38;5;241;43m.\u001b[39;49m\u001b[43mTextReader\u001b[49m\u001b[43m(\u001b[49m\u001b[43msrc\u001b[49m\u001b[43m,\u001b[49m\u001b[43m \u001b[49m\u001b[38;5;241;43m*\u001b[39;49m\u001b[38;5;241;43m*\u001b[39;49m\u001b[43mkwds\u001b[49m\u001b[43m)\u001b[49m\n\u001b[1;32m     77\u001b[0m \u001b[38;5;28mself\u001b[39m\u001b[38;5;241m.\u001b[39munnamed_cols \u001b[38;5;241m=\u001b[39m \u001b[38;5;28mself\u001b[39m\u001b[38;5;241m.\u001b[39m_reader\u001b[38;5;241m.\u001b[39munnamed_cols\n\u001b[1;32m     79\u001b[0m \u001b[38;5;66;03m# error: Cannot determine type of 'names'\u001b[39;00m\n",
      "File \u001b[0;32m~/opt/anaconda3/lib/python3.9/site-packages/pandas/_libs/parsers.pyx:544\u001b[0m, in \u001b[0;36mpandas._libs.parsers.TextReader.__cinit__\u001b[0;34m()\u001b[0m\n",
      "File \u001b[0;32m~/opt/anaconda3/lib/python3.9/site-packages/pandas/_libs/parsers.pyx:633\u001b[0m, in \u001b[0;36mpandas._libs.parsers.TextReader._get_header\u001b[0;34m()\u001b[0m\n",
      "File \u001b[0;32m~/opt/anaconda3/lib/python3.9/site-packages/pandas/_libs/parsers.pyx:847\u001b[0m, in \u001b[0;36mpandas._libs.parsers.TextReader._tokenize_rows\u001b[0;34m()\u001b[0m\n",
      "File \u001b[0;32m~/opt/anaconda3/lib/python3.9/site-packages/pandas/_libs/parsers.pyx:1952\u001b[0m, in \u001b[0;36mpandas._libs.parsers.raise_parser_error\u001b[0;34m()\u001b[0m\n",
      "\u001b[0;31mUnicodeDecodeError\u001b[0m: 'utf-8' codec can't decode byte 0xb7 in position 0: invalid start byte"
     ]
    }
   ],
   "source": [
    "import pandas as pd\n",
    "#read fild\n",
    "\n",
    "cnm = pd.read_csv(\"cnm.csv\")\n",
    "caf = pd.read_csv(\"caf.csv\")\n",
    "cwf = pd.read_csv(\"cwf.csv\")"
   ]
  },
  {
   "cell_type": "code",
   "execution_count": 2,
   "id": "e03e538c",
   "metadata": {},
   "outputs": [],
   "source": [
    "import pandas as pd\n",
    "#read fild\n",
    "\n",
    "cnm = pd.read_csv(\"cnm.csv\", encoding='ISO-8859-1')\n",
    "caf = pd.read_csv(\"caf.csv\", encoding='ISO-8859-1')\n",
    "cwf = pd.read_csv(\"cwf.csv\", encoding='ISO-8859-1')"
   ]
  },
  {
   "cell_type": "code",
   "execution_count": 3,
   "id": "9d9ee6ea",
   "metadata": {},
   "outputs": [
    {
     "data": {
      "text/html": [
       "<div>\n",
       "<style scoped>\n",
       "    .dataframe tbody tr th:only-of-type {\n",
       "        vertical-align: middle;\n",
       "    }\n",
       "\n",
       "    .dataframe tbody tr th {\n",
       "        vertical-align: top;\n",
       "    }\n",
       "\n",
       "    .dataframe thead th {\n",
       "        text-align: right;\n",
       "    }\n",
       "</style>\n",
       "<table border=\"1\" class=\"dataframe\">\n",
       "  <thead>\n",
       "    <tr style=\"text-align: right;\">\n",
       "      <th></th>\n",
       "      <th>·s¥Í¦W³æ</th>\n",
       "    </tr>\n",
       "  </thead>\n",
       "  <tbody>\n",
       "    <tr>\n",
       "      <th>40</th>\n",
       "      <td>¶ÀÂ§¦ö</td>\n",
       "    </tr>\n",
       "    <tr>\n",
       "      <th>41</th>\n",
       "      <td>¼B¤O¸Û</td>\n",
       "    </tr>\n",
       "    <tr>\n",
       "      <th>42</th>\n",
       "      <td>¿½¦ö</td>\n",
       "    </tr>\n",
       "    <tr>\n",
       "      <th>43</th>\n",
       "      <td>ªLªY·¢</td>\n",
       "    </tr>\n",
       "    <tr>\n",
       "      <th>44</th>\n",
       "      <td>¸â¶v´­</td>\n",
       "    </tr>\n",
       "  </tbody>\n",
       "</table>\n",
       "</div>"
      ],
      "text/plain": [
       "   ·s¥Í¦W³æ\n",
       "40   ¶ÀÂ§¦ö\n",
       "41   ¼B¤O¸Û\n",
       "42     ¿½¦ö\n",
       "43   ªLªY·¢\n",
       "44   ¸â¶v´­"
      ]
     },
     "execution_count": 3,
     "metadata": {},
     "output_type": "execute_result"
    }
   ],
   "source": [
    "cnm.tail()"
   ]
  },
  {
   "cell_type": "code",
   "execution_count": 4,
   "id": "eb4988a3",
   "metadata": {},
   "outputs": [],
   "source": [
    "import pandas as pd\n",
    "#read fild\n",
    "\n",
    "cnm = pd.read_csv(\"cnm.csv\", encoding='big5')\n",
    "caf = pd.read_csv(\"caf.csv\", encoding='big5')\n",
    "cwf = pd.read_csv(\"cwf.csv\", encoding='big5')"
   ]
  },
  {
   "cell_type": "code",
   "execution_count": 5,
   "id": "1f36af83",
   "metadata": {},
   "outputs": [
    {
     "data": {
      "text/html": [
       "<div>\n",
       "<style scoped>\n",
       "    .dataframe tbody tr th:only-of-type {\n",
       "        vertical-align: middle;\n",
       "    }\n",
       "\n",
       "    .dataframe tbody tr th {\n",
       "        vertical-align: top;\n",
       "    }\n",
       "\n",
       "    .dataframe thead th {\n",
       "        text-align: right;\n",
       "    }\n",
       "</style>\n",
       "<table border=\"1\" class=\"dataframe\">\n",
       "  <thead>\n",
       "    <tr style=\"text-align: right;\">\n",
       "      <th></th>\n",
       "      <th>新生名單</th>\n",
       "    </tr>\n",
       "  </thead>\n",
       "  <tbody>\n",
       "    <tr>\n",
       "      <th>40</th>\n",
       "      <td>黃禮佑</td>\n",
       "    </tr>\n",
       "    <tr>\n",
       "      <th>41</th>\n",
       "      <td>劉力誠</td>\n",
       "    </tr>\n",
       "    <tr>\n",
       "      <th>42</th>\n",
       "      <td>蕭佑</td>\n",
       "    </tr>\n",
       "    <tr>\n",
       "      <th>43</th>\n",
       "      <td>林欣楷</td>\n",
       "    </tr>\n",
       "    <tr>\n",
       "      <th>44</th>\n",
       "      <td>詹鈞揚</td>\n",
       "    </tr>\n",
       "  </tbody>\n",
       "</table>\n",
       "</div>"
      ],
      "text/plain": [
       "   新生名單\n",
       "40  黃禮佑\n",
       "41  劉力誠\n",
       "42   蕭佑\n",
       "43  林欣楷\n",
       "44  詹鈞揚"
      ]
     },
     "execution_count": 5,
     "metadata": {},
     "output_type": "execute_result"
    }
   ],
   "source": [
    "cnm.tail()"
   ]
  },
  {
   "cell_type": "code",
   "execution_count": 6,
   "id": "2f4c25d9",
   "metadata": {},
   "outputs": [
    {
     "name": "stdout",
     "output_type": "stream",
     "text": [
      "   新生名單\n",
      "40  黃禮佑\n",
      "41  劉力誠\n",
      "42   蕭佑\n",
      "43  林欣楷\n",
      "44  詹鈞揚\n",
      "   試音名單\n",
      "39  方心慈\n",
      "40  鄭昕霈\n",
      "41  楊卿雲\n",
      "42  蔡晉瑞\n",
      "43  申蕎榕\n",
      "                迎新名單\n",
      "28               謝語遙\n",
      "29               林沛瑢\n",
      "30                陳姮\n",
      "31               陳士祈\n",
      "32  Marybelle Garcia\n"
     ]
    }
   ],
   "source": [
    "print(cnm.tail())\n",
    "print(caf.tail())\n",
    "print(cwf.tail())"
   ]
  },
  {
   "cell_type": "code",
   "execution_count": 7,
   "id": "7d6c50b0",
   "metadata": {},
   "outputs": [
    {
     "name": "stdout",
     "output_type": "stream",
     "text": [
      "新生名單: 45 試音名單: 44 迎新名單: 33\n"
     ]
    }
   ],
   "source": [
    "print(\"新生名單:\",len(cnm),\"試音名單:\",len(caf),\"迎新名單:\",len(cwf))"
   ]
  },
  {
   "cell_type": "code",
   "execution_count": 8,
   "id": "7babba41",
   "metadata": {},
   "outputs": [
    {
     "name": "stdout",
     "output_type": "stream",
     "text": [
      "  新生名單\n",
      "0  于千惠\n",
      "1  安欣怡\n",
      "2  許傑玫\n",
      "3   瀅熙\n",
      "4  陳士祈\n",
      "  試音名單\n",
      "0  林璇彩\n",
      "1  吳彥儀\n",
      "2  李丞桓\n",
      "3  洪婉晴\n",
      "4  傅晨寧\n",
      "  迎新名單\n",
      "0  林璇彩\n",
      "1  吳彥儀\n",
      "2  李丞桓\n",
      "3  詹鈞揚\n",
      "4  何柏萱\n"
     ]
    }
   ],
   "source": [
    "cnm_df = cnm.drop_duplicates(subset=['新生名單'])\n",
    "print(cnm_df.head())\n",
    "caf_df = caf.drop_duplicates(subset=['試音名單'])\n",
    "print(caf_df.head())\n",
    "cwf_df = cwf.drop_duplicates(subset=['迎新名單'])\n",
    "print(cwf_df.head())"
   ]
  },
  {
   "cell_type": "code",
   "execution_count": 9,
   "id": "7ea90837",
   "metadata": {},
   "outputs": [
    {
     "name": "stdout",
     "output_type": "stream",
     "text": [
      "新生名單: 45 試音名單: 44 迎新名單: 33\n"
     ]
    }
   ],
   "source": [
    "print(\"新生名單:\",len(cnm),\"試音名單:\",len(caf),\"迎新名單:\",len(cwf))"
   ]
  },
  {
   "cell_type": "code",
   "execution_count": 10,
   "id": "4030abd5",
   "metadata": {},
   "outputs": [
    {
     "data": {
      "text/html": [
       "<div>\n",
       "<style scoped>\n",
       "    .dataframe tbody tr th:only-of-type {\n",
       "        vertical-align: middle;\n",
       "    }\n",
       "\n",
       "    .dataframe tbody tr th {\n",
       "        vertical-align: top;\n",
       "    }\n",
       "\n",
       "    .dataframe thead th {\n",
       "        text-align: right;\n",
       "    }\n",
       "</style>\n",
       "<table border=\"1\" class=\"dataframe\">\n",
       "  <thead>\n",
       "    <tr style=\"text-align: right;\">\n",
       "      <th></th>\n",
       "      <th>新生名單</th>\n",
       "    </tr>\n",
       "  </thead>\n",
       "  <tbody>\n",
       "    <tr>\n",
       "      <th>0</th>\n",
       "      <td>于千惠</td>\n",
       "    </tr>\n",
       "    <tr>\n",
       "      <th>1</th>\n",
       "      <td>安欣怡</td>\n",
       "    </tr>\n",
       "    <tr>\n",
       "      <th>2</th>\n",
       "      <td>許傑玫</td>\n",
       "    </tr>\n",
       "    <tr>\n",
       "      <th>3</th>\n",
       "      <td>瀅熙</td>\n",
       "    </tr>\n",
       "    <tr>\n",
       "      <th>4</th>\n",
       "      <td>陳士祈</td>\n",
       "    </tr>\n",
       "    <tr>\n",
       "      <th>5</th>\n",
       "      <td>鄭欣恬</td>\n",
       "    </tr>\n",
       "    <tr>\n",
       "      <th>6</th>\n",
       "      <td>王婉薰</td>\n",
       "    </tr>\n",
       "    <tr>\n",
       "      <th>7</th>\n",
       "      <td>張憶文</td>\n",
       "    </tr>\n",
       "    <tr>\n",
       "      <th>8</th>\n",
       "      <td>旭奇</td>\n",
       "    </tr>\n",
       "    <tr>\n",
       "      <th>9</th>\n",
       "      <td>謝語遙</td>\n",
       "    </tr>\n",
       "    <tr>\n",
       "      <th>10</th>\n",
       "      <td>郭惠茹</td>\n",
       "    </tr>\n",
       "    <tr>\n",
       "      <th>11</th>\n",
       "      <td>陳姮</td>\n",
       "    </tr>\n",
       "    <tr>\n",
       "      <th>12</th>\n",
       "      <td>楊卿雲</td>\n",
       "    </tr>\n",
       "    <tr>\n",
       "      <th>13</th>\n",
       "      <td>何柏萱</td>\n",
       "    </tr>\n",
       "    <tr>\n",
       "      <th>14</th>\n",
       "      <td>俞孟昀</td>\n",
       "    </tr>\n",
       "    <tr>\n",
       "      <th>15</th>\n",
       "      <td>夏婉妮</td>\n",
       "    </tr>\n",
       "    <tr>\n",
       "      <th>16</th>\n",
       "      <td>龍俞孜</td>\n",
       "    </tr>\n",
       "    <tr>\n",
       "      <th>17</th>\n",
       "      <td>吳彥儀</td>\n",
       "    </tr>\n",
       "    <tr>\n",
       "      <th>18</th>\n",
       "      <td>林邑樺</td>\n",
       "    </tr>\n",
       "    <tr>\n",
       "      <th>19</th>\n",
       "      <td>林恝糸</td>\n",
       "    </tr>\n",
       "    <tr>\n",
       "      <th>20</th>\n",
       "      <td>林璇彩</td>\n",
       "    </tr>\n",
       "    <tr>\n",
       "      <th>21</th>\n",
       "      <td>許博涵</td>\n",
       "    </tr>\n",
       "    <tr>\n",
       "      <th>22</th>\n",
       "      <td>廖翊雯</td>\n",
       "    </tr>\n",
       "    <tr>\n",
       "      <th>23</th>\n",
       "      <td>齊雅立</td>\n",
       "    </tr>\n",
       "    <tr>\n",
       "      <th>24</th>\n",
       "      <td>陳凱倪</td>\n",
       "    </tr>\n",
       "    <tr>\n",
       "      <th>25</th>\n",
       "      <td>申蕎榕</td>\n",
       "    </tr>\n",
       "    <tr>\n",
       "      <th>26</th>\n",
       "      <td>莫靄冰</td>\n",
       "    </tr>\n",
       "    <tr>\n",
       "      <th>27</th>\n",
       "      <td>Lilly</td>\n",
       "    </tr>\n",
       "    <tr>\n",
       "      <th>28</th>\n",
       "      <td>李熔熔</td>\n",
       "    </tr>\n",
       "    <tr>\n",
       "      <th>29</th>\n",
       "      <td>盧怡仁</td>\n",
       "    </tr>\n",
       "    <tr>\n",
       "      <th>30</th>\n",
       "      <td>詹弘祥</td>\n",
       "    </tr>\n",
       "    <tr>\n",
       "      <th>31</th>\n",
       "      <td>劉冠廷</td>\n",
       "    </tr>\n",
       "    <tr>\n",
       "      <th>32</th>\n",
       "      <td>鄭昕霈</td>\n",
       "    </tr>\n",
       "    <tr>\n",
       "      <th>33</th>\n",
       "      <td>李丞桓</td>\n",
       "    </tr>\n",
       "    <tr>\n",
       "      <th>34</th>\n",
       "      <td>蔡晉瑞</td>\n",
       "    </tr>\n",
       "    <tr>\n",
       "      <th>35</th>\n",
       "      <td>敬文賢</td>\n",
       "    </tr>\n",
       "    <tr>\n",
       "      <th>36</th>\n",
       "      <td>陳崑賢</td>\n",
       "    </tr>\n",
       "    <tr>\n",
       "      <th>37</th>\n",
       "      <td>Graham</td>\n",
       "    </tr>\n",
       "    <tr>\n",
       "      <th>38</th>\n",
       "      <td>葉宗昀</td>\n",
       "    </tr>\n",
       "    <tr>\n",
       "      <th>39</th>\n",
       "      <td>張少萁</td>\n",
       "    </tr>\n",
       "    <tr>\n",
       "      <th>40</th>\n",
       "      <td>黃禮佑</td>\n",
       "    </tr>\n",
       "    <tr>\n",
       "      <th>41</th>\n",
       "      <td>劉力誠</td>\n",
       "    </tr>\n",
       "    <tr>\n",
       "      <th>42</th>\n",
       "      <td>蕭佑</td>\n",
       "    </tr>\n",
       "    <tr>\n",
       "      <th>43</th>\n",
       "      <td>林欣楷</td>\n",
       "    </tr>\n",
       "    <tr>\n",
       "      <th>44</th>\n",
       "      <td>詹鈞揚</td>\n",
       "    </tr>\n",
       "  </tbody>\n",
       "</table>\n",
       "</div>"
      ],
      "text/plain": [
       "      新生名單\n",
       "0      于千惠\n",
       "1      安欣怡\n",
       "2      許傑玫\n",
       "3       瀅熙\n",
       "4      陳士祈\n",
       "5      鄭欣恬\n",
       "6      王婉薰\n",
       "7      張憶文\n",
       "8       旭奇\n",
       "9      謝語遙\n",
       "10     郭惠茹\n",
       "11      陳姮\n",
       "12     楊卿雲\n",
       "13     何柏萱\n",
       "14     俞孟昀\n",
       "15     夏婉妮\n",
       "16     龍俞孜\n",
       "17     吳彥儀\n",
       "18     林邑樺\n",
       "19     林恝糸\n",
       "20     林璇彩\n",
       "21     許博涵\n",
       "22     廖翊雯\n",
       "23     齊雅立\n",
       "24     陳凱倪\n",
       "25     申蕎榕\n",
       "26     莫靄冰\n",
       "27   Lilly\n",
       "28     李熔熔\n",
       "29     盧怡仁\n",
       "30     詹弘祥\n",
       "31     劉冠廷\n",
       "32     鄭昕霈\n",
       "33     李丞桓\n",
       "34     蔡晉瑞\n",
       "35     敬文賢\n",
       "36     陳崑賢\n",
       "37  Graham\n",
       "38     葉宗昀\n",
       "39     張少萁\n",
       "40     黃禮佑\n",
       "41     劉力誠\n",
       "42      蕭佑\n",
       "43     林欣楷\n",
       "44     詹鈞揚"
      ]
     },
     "execution_count": 10,
     "metadata": {},
     "output_type": "execute_result"
    }
   ],
   "source": [
    "cnm"
   ]
  },
  {
   "cell_type": "code",
   "execution_count": 11,
   "id": "d67c6be1",
   "metadata": {},
   "outputs": [
    {
     "name": "stdout",
     "output_type": "stream",
     "text": [
      "   試音名單\n",
      "0   林璇彩\n",
      "1   吳彥儀\n",
      "2   李丞桓\n",
      "3   洪婉晴\n",
      "4   傅晨寧\n",
      "5   施博瀚\n",
      "6   何柏萱\n",
      "7   許博涵\n",
      "8   劉冠廷\n",
      "9   林恝糸\n",
      "10  莫靄冰\n",
      "11  廖翊雯\n",
      "12  安欣怡\n",
      "13  林元方\n",
      "14  齊雅立\n",
      "15  俞孟昀\n",
      "16  張少萁\n",
      "17  劉力誠\n",
      "18   陳姮\n",
      "19  王婉薰\n",
      "20  吳宜庭\n",
      "21  陳士祈\n",
      "22  張憶文\n",
      "23   瑩熙\n",
      "24  于千惠\n",
      "25  詹弘祥\n",
      "26   蕭佑\n",
      "27  陳崑賢\n",
      "28  謝語遙\n",
      "29  黃禮佑\n",
      "30  郭惠茹\n",
      "31  盧怡仁\n",
      "32  林邑樺\n",
      "33  李熔熔\n",
      "34  龍俞孜\n",
      "35  敬文賢\n",
      "36  許傑玫\n",
      "37  夏婉妮\n",
      "38  林欣楷\n",
      "39  方心慈\n",
      "40  鄭昕霈\n",
      "41  楊卿雲\n",
      "42  蔡晉瑞\n",
      "43  申蕎榕       新生名單\n",
      "0      于千惠\n",
      "1      安欣怡\n",
      "2      許傑玫\n",
      "3       瀅熙\n",
      "4      陳士祈\n",
      "5      鄭欣恬\n",
      "6      王婉薰\n",
      "7      張憶文\n",
      "8       旭奇\n",
      "9      謝語遙\n",
      "10     郭惠茹\n",
      "11      陳姮\n",
      "12     楊卿雲\n",
      "13     何柏萱\n",
      "14     俞孟昀\n",
      "15     夏婉妮\n",
      "16     龍俞孜\n",
      "17     吳彥儀\n",
      "18     林邑樺\n",
      "19     林恝糸\n",
      "20     林璇彩\n",
      "21     許博涵\n",
      "22     廖翊雯\n",
      "23     齊雅立\n",
      "24     陳凱倪\n",
      "25     申蕎榕\n",
      "26     莫靄冰\n",
      "27   Lilly\n",
      "28     李熔熔\n",
      "29     盧怡仁\n",
      "30     詹弘祥\n",
      "31     劉冠廷\n",
      "32     鄭昕霈\n",
      "33     李丞桓\n",
      "34     蔡晉瑞\n",
      "35     敬文賢\n",
      "36     陳崑賢\n",
      "37  Graham\n",
      "38     葉宗昀\n",
      "39     張少萁\n",
      "40     黃禮佑\n",
      "41     劉力誠\n",
      "42      蕭佑\n",
      "43     林欣楷\n",
      "44     詹鈞揚\n",
      "set()\n"
     ]
    }
   ],
   "source": [
    "print(caf,cnm)\n",
    "print(set(caf).intersection(set(cnm)))"
   ]
  },
  {
   "cell_type": "code",
   "execution_count": 12,
   "id": "e456c0f3",
   "metadata": {},
   "outputs": [
    {
     "name": "stdout",
     "output_type": "stream",
     "text": [
      "{'新生名單'}\n"
     ]
    }
   ],
   "source": [
    "print(set(cnm).difference(set(caf)))"
   ]
  },
  {
   "cell_type": "code",
   "execution_count": 13,
   "id": "293eea85",
   "metadata": {},
   "outputs": [
    {
     "data": {
      "text/plain": [
       "['于千惠',\n",
       " '安欣怡',\n",
       " '許傑玫',\n",
       " '瀅熙',\n",
       " '陳士祈',\n",
       " '鄭欣恬',\n",
       " '王婉薰',\n",
       " '張憶文',\n",
       " '旭奇',\n",
       " '謝語遙',\n",
       " '郭惠茹',\n",
       " '陳姮',\n",
       " '楊卿雲',\n",
       " '何柏萱',\n",
       " '俞孟昀',\n",
       " '夏婉妮',\n",
       " '龍俞孜',\n",
       " '吳彥儀',\n",
       " '林邑樺',\n",
       " '林恝糸',\n",
       " '林璇彩',\n",
       " '許博涵',\n",
       " '廖翊雯',\n",
       " '齊雅立',\n",
       " '陳凱倪',\n",
       " '申蕎榕',\n",
       " '莫靄冰',\n",
       " 'Lilly',\n",
       " '李熔熔',\n",
       " '盧怡仁',\n",
       " '詹弘祥',\n",
       " '劉冠廷',\n",
       " '鄭昕霈',\n",
       " '李丞桓',\n",
       " '蔡晉瑞',\n",
       " '敬文賢',\n",
       " '陳崑賢',\n",
       " 'Graham',\n",
       " '葉宗昀',\n",
       " '張少萁',\n",
       " '黃禮佑',\n",
       " '劉力誠',\n",
       " '蕭佑',\n",
       " '林欣楷',\n",
       " '詹鈞揚']"
      ]
     },
     "execution_count": 13,
     "metadata": {},
     "output_type": "execute_result"
    }
   ],
   "source": [
    "cnm_df = list(cnm['新生名單'])\n",
    "cnm_df"
   ]
  },
  {
   "cell_type": "code",
   "execution_count": 14,
   "id": "97705143",
   "metadata": {},
   "outputs": [
    {
     "name": "stdout",
     "output_type": "stream",
     "text": [
      "['林璇彩', '吳彥儀', '李丞桓', '洪婉晴', '傅晨寧', '施博瀚', '何柏萱', '許博涵', '劉冠廷', '林恝糸', '莫靄冰', '廖翊雯', '安欣怡', '林元方', '齊雅立', '俞孟昀', '張少萁', '劉力誠', '陳姮', '王婉薰', '吳宜庭', '陳士祈', '張憶文', '瑩熙', '于千惠', '詹弘祥', '蕭佑', '陳崑賢', '謝語遙', '黃禮佑', '郭惠茹', '盧怡仁', '林邑樺', '李熔熔', '龍俞孜', '敬文賢', '許傑玫', '夏婉妮', '林欣楷', '方心慈', '鄭昕霈', '楊卿雲', '蔡晉瑞', '申蕎榕']\n",
      "['林璇彩', '吳彥儀', '李丞桓', '詹鈞揚', '何柏萱', '龍俞孜', '陳崑賢', '王家鳳', '俞孟昀', '施博瀚', '蔡晉瑞', '鄭昕霈', '林元方', '吳宜庭', '張少萁', '黃禮佑', '林欣楷', '盧怡仁', '李熔熔', '許博涵', '方心慈', '劉冠廷', '林恝糸', '王婉薰', '莫靄冰', '楊卿雲', '廖翊雯', '蕭佑', '謝語遙', '林沛瑢', '陳姮', '陳士祈', 'Marybelle Garcia']\n"
     ]
    }
   ],
   "source": [
    "caf_df = list(caf['試音名單'])\n",
    "print(caf_df)\n",
    "cwf_df = list(cwf['迎新名單'])\n",
    "print(cwf_df)"
   ]
  },
  {
   "cell_type": "code",
   "execution_count": 15,
   "id": "d2e69a7c",
   "metadata": {},
   "outputs": [
    {
     "name": "stdout",
     "output_type": "stream",
     "text": [
      "{'郭惠茹', '劉冠廷', '申蕎榕', '陳士祈', '蔡晉瑞', '林璇彩', '林欣楷', '王婉薰', '敬文賢', '齊雅立', '謝語遙', '張少萁', '許傑玫', '吳彥儀', '廖翊雯', '陳崑賢', '夏婉妮', '俞孟昀', '陳姮', '蕭佑', '何柏萱', '詹弘祥', '安欣怡', '莫靄冰', '黃禮佑', '李丞桓', '林邑樺', '盧怡仁', '于千惠', '林恝糸', '李熔熔', '龍俞孜', '張憶文', '鄭昕霈', '許博涵', '楊卿雲', '劉力誠'}\n"
     ]
    }
   ],
   "source": [
    "print(set(caf_df).intersection(set(cnm_df)))"
   ]
  },
  {
   "cell_type": "code",
   "execution_count": 16,
   "id": "1944e28e",
   "metadata": {},
   "outputs": [
    {
     "name": "stdout",
     "output_type": "stream",
     "text": [
      "{'林元方', '林璇彩', '旭奇', '張少萁', '許傑玫', '廖翊雯', '陳崑賢', '夏婉妮', '陳姮', '蕭佑', '詹鈞揚', '傅晨寧', '李丞桓', '林邑樺', '林恝糸', '方心慈', '李熔熔', '陳凱倪', '鄭欣恬', '許博涵', '楊卿雲', '郭惠茹', '劉冠廷', '申蕎榕', '陳士祈', '施博瀚', '蔡晉瑞', '林欣楷', '王婉薰', '敬文賢', '齊雅立', '謝語遙', '吳彥儀', '俞孟昀', 'Graham', '吳宜庭', 'Lilly', '何柏萱', '詹弘祥', '安欣怡', '莫靄冰', '黃禮佑', '葉宗昀', '洪婉晴', '盧怡仁', '于千惠', '瀅熙', '龍俞孜', '張憶文', '鄭昕霈', '瑩熙', '劉力誠'}\n"
     ]
    }
   ],
   "source": [
    "print(set(caf_df).union(set(cnm_df)))"
   ]
  },
  {
   "cell_type": "code",
   "execution_count": 18,
   "id": "27ce862c",
   "metadata": {},
   "outputs": [
    {
     "name": "stdout",
     "output_type": "stream",
     "text": [
      "{'林元方', '旭奇', '施博瀚', 'Graham', 'Lilly', '吳宜庭', '詹鈞揚', '傅晨寧', '葉宗昀', '洪婉晴', '方心慈', '瀅熙', '陳凱倪', '鄭欣恬', '瑩熙'}\n"
     ]
    }
   ],
   "source": [
    "print(set(caf_df).symmetric_difference(set(cnm_df)))"
   ]
  },
  {
   "cell_type": "code",
   "execution_count": 19,
   "id": "552ea91d",
   "metadata": {},
   "outputs": [
    {
     "name": "stdout",
     "output_type": "stream",
     "text": [
      "{'林元方', '施博瀚', '洪婉晴', '吳宜庭', '瑩熙', '傅晨寧', '方心慈'}\n"
     ]
    }
   ],
   "source": [
    "print(set(caf_df).difference(set(cnm_df)))"
   ]
  },
  {
   "cell_type": "code",
   "execution_count": 20,
   "id": "895c1069",
   "metadata": {},
   "outputs": [
    {
     "name": "stdout",
     "output_type": "stream",
     "text": [
      "{'劉冠廷', '陳士祈', '蔡晉瑞', '林璇彩', '林欣楷', '王婉薰', '謝語遙', '張少萁', '吳彥儀', '廖翊雯', '陳崑賢', '俞孟昀', '蕭佑', '陳姮', '何柏萱', '莫靄冰', '黃禮佑', '李丞桓', '盧怡仁', '林恝糸', '李熔熔', '龍俞孜', '鄭昕霈', '許博涵', '楊卿雲'}\n"
     ]
    }
   ],
   "source": [
    "print(set(caf_df)&set(cnm_df)&set(cwf_df))"
   ]
  },
  {
   "cell_type": "code",
   "execution_count": 21,
   "id": "644c8741",
   "metadata": {},
   "outputs": [
    {
     "name": "stdout",
     "output_type": "stream",
     "text": [
      "{'林元方', '林璇彩', '旭奇', '張少萁', '許傑玫', '廖翊雯', '陳崑賢', '夏婉妮', '陳姮', '蕭佑', '詹鈞揚', '傅晨寧', 'Marybelle Garcia', '李丞桓', '林邑樺', '林恝糸', '方心慈', '李熔熔', '陳凱倪', '鄭欣恬', '王家鳳', '許博涵', '楊卿雲', '郭惠茹', '劉冠廷', '申蕎榕', '陳士祈', '施博瀚', '蔡晉瑞', '林欣楷', '王婉薰', '敬文賢', '齊雅立', '謝語遙', '吳彥儀', '林沛瑢', '俞孟昀', 'Graham', '吳宜庭', 'Lilly', '何柏萱', '詹弘祥', '安欣怡', '莫靄冰', '黃禮佑', '葉宗昀', '洪婉晴', '盧怡仁', '于千惠', '瀅熙', '龍俞孜', '張憶文', '鄭昕霈', '瑩熙', '劉力誠'}\n"
     ]
    }
   ],
   "source": [
    "print(set(caf_df)|set(cnm_df)|set(cwf_df))"
   ]
  },
  {
   "cell_type": "code",
   "execution_count": 22,
   "id": "922217fe",
   "metadata": {},
   "outputs": [
    {
     "name": "stdout",
     "output_type": "stream",
     "text": [
      "{'劉冠廷', '陳士祈', '林璇彩', '蔡晉瑞', '旭奇', '林欣楷', '王婉薰', '謝語遙', '張少萁', '吳彥儀', '廖翊雯', '陳崑賢', '林沛瑢', '俞孟昀', 'Graham', '蕭佑', '陳姮', 'Lilly', '何柏萱', '傅晨寧', 'Marybelle Garcia', '莫靄冰', '黃禮佑', '葉宗昀', '李丞桓', '洪婉晴', '盧怡仁', '林恝糸', '瀅熙', '李熔熔', '陳凱倪', '鄭欣恬', '龍俞孜', '王家鳳', '鄭昕霈', '許博涵', '瑩熙', '楊卿雲'}\n"
     ]
    }
   ],
   "source": [
    "print(set(caf_df)^set(cnm_df)^set(cwf_df))"
   ]
  },
  {
   "cell_type": "code",
   "execution_count": 23,
   "id": "2587801f",
   "metadata": {},
   "outputs": [
    {
     "name": "stdout",
     "output_type": "stream",
     "text": [
      "{'瑩熙', '傅晨寧', '洪婉晴'}\n"
     ]
    }
   ],
   "source": [
    "print(set(caf_df)-set(cnm_df)-set(cwf_df))"
   ]
  },
  {
   "cell_type": "code",
   "execution_count": 24,
   "id": "abde1398",
   "metadata": {},
   "outputs": [
    {
     "name": "stdout",
     "output_type": "stream",
     "text": [
      "{'陳凱倪', '鄭欣恬', '葉宗昀', 'Graham', '旭奇', 'Lilly', '瀅熙'}\n"
     ]
    }
   ],
   "source": [
    "print(set(cnm_df)-set(caf_df)-set(cwf_df))"
   ]
  },
  {
   "cell_type": "code",
   "execution_count": 25,
   "id": "7b51fa97",
   "metadata": {},
   "outputs": [
    {
     "name": "stdout",
     "output_type": "stream",
     "text": [
      "{'劉冠廷', '陳士祈', '林璇彩', '蔡晉瑞', '旭奇', '林欣楷', '王婉薰', '謝語遙', '張少萁', '吳彥儀', '廖翊雯', '陳崑賢', '林沛瑢', '俞孟昀', 'Graham', '蕭佑', '陳姮', 'Lilly', '何柏萱', '傅晨寧', 'Marybelle Garcia', '莫靄冰', '黃禮佑', '葉宗昀', '李丞桓', '洪婉晴', '盧怡仁', '林恝糸', '瀅熙', '李熔熔', '陳凱倪', '鄭欣恬', '龍俞孜', '王家鳳', '鄭昕霈', '許博涵', '瑩熙', '楊卿雲'}\n"
     ]
    }
   ],
   "source": [
    "print(set(cnm_df)^set(caf_df)^set(cwf_df))"
   ]
  },
  {
   "cell_type": "code",
   "execution_count": null,
   "id": "aa9e44a7",
   "metadata": {},
   "outputs": [],
   "source": []
  }
 ],
 "metadata": {
  "kernelspec": {
   "display_name": "Python 3 (ipykernel)",
   "language": "python",
   "name": "python3"
  },
  "language_info": {
   "codemirror_mode": {
    "name": "ipython",
    "version": 3
   },
   "file_extension": ".py",
   "mimetype": "text/x-python",
   "name": "python",
   "nbconvert_exporter": "python",
   "pygments_lexer": "ipython3",
   "version": "3.9.12"
  }
 },
 "nbformat": 4,
 "nbformat_minor": 5
}
