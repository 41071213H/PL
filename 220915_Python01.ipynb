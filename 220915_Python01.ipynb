{
 "cells": [
  {
   "cell_type": "code",
   "execution_count": 1,
   "id": "2ab103ba",
   "metadata": {},
   "outputs": [],
   "source": [
    "#小練習\n",
    "str1='因過失傷害人，處有期徒刑參月，如易科罰金，以參佰元折算壹日'#str練習\n",
    "money=300\n",
    "month=3"
   ]
  },
  {
   "cell_type": "code",
   "execution_count": 2,
   "id": "3af854a2",
   "metadata": {},
   "outputs": [
    {
     "name": "stdout",
     "output_type": "stream",
     "text": [
      "因過失傷害人，處有期徒刑參月，如易科罰金，以參佰元折算壹日\n"
     ]
    }
   ],
   "source": [
    "print(str1)"
   ]
  },
  {
   "cell_type": "code",
   "execution_count": 3,
   "id": "69308075",
   "metadata": {},
   "outputs": [
    {
     "name": "stdout",
     "output_type": "stream",
     "text": [
      "300\n"
     ]
    }
   ],
   "source": [
    "print(money)"
   ]
  },
  {
   "cell_type": "code",
   "execution_count": 4,
   "id": "376310a0",
   "metadata": {},
   "outputs": [
    {
     "name": "stdout",
     "output_type": "stream",
     "text": [
      "3\n"
     ]
    }
   ],
   "source": [
    "print(month)"
   ]
  },
  {
   "cell_type": "code",
   "execution_count": 5,
   "id": "f54071e0",
   "metadata": {},
   "outputs": [],
   "source": [
    "#練習一\n",
    "str2='在一個行車糾紛中，雙方都有違規，所以雙方皆有過失責任，判決結果為雙方一判賠比例賠償，判賠比例為7:3（被告：原告），而一開始的賠償總額為25688元'"
   ]
  },
  {
   "cell_type": "code",
   "execution_count": 6,
   "id": "a2796782",
   "metadata": {},
   "outputs": [],
   "source": [
    "allmoney = 25688\n",
    "a = allmoney*0.7\n",
    "b = allmoney*0.3"
   ]
  },
  {
   "cell_type": "code",
   "execution_count": 7,
   "id": "8e12fe41",
   "metadata": {},
   "outputs": [
    {
     "name": "stdout",
     "output_type": "stream",
     "text": [
      "<class 'float'>\n"
     ]
    }
   ],
   "source": [
    "print(type(a))#float練習"
   ]
  },
  {
   "cell_type": "code",
   "execution_count": 8,
   "id": "579ef728",
   "metadata": {},
   "outputs": [
    {
     "name": "stdout",
     "output_type": "stream",
     "text": [
      "事件: 在一個行車糾紛中，雙方都有違規，所以雙方皆有過失責任，判決結果為雙方一判賠比例賠償，判賠比例為7:3（被告：原告），而一開始的賠償總額為25688元\n",
      "被告罰款為: 17981 元\n",
      "原告罰款為: 7706 元\n"
     ]
    }
   ],
   "source": [
    "print(\"事件:\",str2)\n",
    "print(\"被告罰款為:\",int(a),\"元\")#int練習\n",
    "print(\"原告罰款為:\",int(b),\"元\")"
   ]
  },
  {
   "cell_type": "code",
   "execution_count": 9,
   "id": "a0786e65",
   "metadata": {},
   "outputs": [
    {
     "name": "stdout",
     "output_type": "stream",
     "text": [
      "原告50%,被告50%\n",
      "被告賠100%\n",
      "原告多,被告少\n",
      "原告50%,被告50%\n",
      "被告賠100%\n",
      "原告多,被告少\n",
      "被告賠100%\n",
      "請填入有效訊息\n",
      "原告多,被告少\n",
      "請填入有效訊息\n"
     ]
    }
   ],
   "source": [
    "#練習三 boolean\n",
    "light_list=[\"被告原告皆闖紅燈\",\"被告闖紅燈\",\"原告闖紅燈\",\"被告原告皆闖紅燈\",\"被告闖紅燈\",\"原告闖紅燈\",\"被告闖紅燈\",\"\",\"原告闖紅燈\",\"wow\"]\n",
    "for event in light_list:\n",
    "    if event == \"被告闖紅燈\":\n",
    "        print(\"被告賠100%\")\n",
    "    elif event==\"原告闖紅燈\":\n",
    "        print(\"原告多,被告少\")\n",
    "    elif event==\"被告原告皆闖紅燈\":\n",
    "        print(\"原告50%,被告50%\") \n",
    "    else :\n",
    "        print(\"請填入有效訊息\")\n",
    "#boolean_list=[event]"
   ]
  },
  {
   "cell_type": "code",
   "execution_count": null,
   "id": "3eee0f64",
   "metadata": {},
   "outputs": [],
   "source": [
    "#練習二\n"
   ]
  }
 ],
 "metadata": {
  "kernelspec": {
   "display_name": "Python 3 (ipykernel)",
   "language": "python",
   "name": "python3"
  },
  "language_info": {
   "codemirror_mode": {
    "name": "ipython",
    "version": 3
   },
   "file_extension": ".py",
   "mimetype": "text/x-python",
   "name": "python",
   "nbconvert_exporter": "python",
   "pygments_lexer": "ipython3",
   "version": "3.9.12"
  }
 },
 "nbformat": 4,
 "nbformat_minor": 5
}
