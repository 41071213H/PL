{
 "cells": [
  {
   "cell_type": "code",
   "execution_count": 8,
   "id": "f9613b5a",
   "metadata": {},
   "outputs": [
    {
     "name": "stdout",
     "output_type": "stream",
     "text": [
      "['爸爸', '媽媽']\n",
      "[['50', '70', '170'], ['49', '75', '174']]\n",
      "170\n"
     ]
    }
   ],
   "source": [
    "d = {\"爸爸\":[\"50\",\"70\",\"170\"],\"媽媽\":[\"49\",\"75\",\"174\"]}\n",
    "l1 = list(d.keys())\n",
    "print(l1)\n",
    "l2 = list(d.values())\n",
    "print(l2)\n",
    "\n",
    "print(d[\"爸爸\"][2])"
   ]
  },
  {
   "cell_type": "code",
   "execution_count": null,
   "id": "40783269",
   "metadata": {},
   "outputs": [],
   "source": []
  }
 ],
 "metadata": {
  "kernelspec": {
   "display_name": "Python 3 (ipykernel)",
   "language": "python",
   "name": "python3"
  },
  "language_info": {
   "codemirror_mode": {
    "name": "ipython",
    "version": 3
   },
   "file_extension": ".py",
   "mimetype": "text/x-python",
   "name": "python",
   "nbconvert_exporter": "python",
   "pygments_lexer": "ipython3",
   "version": "3.9.12"
  }
 },
 "nbformat": 4,
 "nbformat_minor": 5
}
