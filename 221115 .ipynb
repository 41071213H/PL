{
 "cells": [
  {
   "cell_type": "code",
   "execution_count": 1,
   "id": "2edd604f",
   "metadata": {
    "scrolled": true
   },
   "outputs": [
    {
     "name": "stdout",
     "output_type": "stream",
     "text": [
      "Requirement already satisfied: beautifulsoup4 in /Users/angellu/opt/anaconda3/lib/python3.9/site-packages (4.11.1)\n",
      "Requirement already satisfied: soupsieve>1.2 in /Users/angellu/opt/anaconda3/lib/python3.9/site-packages (from beautifulsoup4) (2.3.1)\n",
      "Note: you may need to restart the kernel to use updated packages.\n"
     ]
    }
   ],
   "source": [
    "pip install beautifulsoup4"
   ]
  },
  {
   "cell_type": "code",
   "execution_count": 3,
   "id": "68af514f",
   "metadata": {},
   "outputs": [
    {
     "ename": "NameError",
     "evalue": "name 'driver' is not defined",
     "output_type": "error",
     "traceback": [
      "\u001b[0;31m---------------------------------------------------------------------------\u001b[0m",
      "\u001b[0;31mNameError\u001b[0m                                 Traceback (most recent call last)",
      "Input \u001b[0;32mIn [3]\u001b[0m, in \u001b[0;36m<cell line: 17>\u001b[0;34m()\u001b[0m\n\u001b[1;32m     14\u001b[0m     time\u001b[38;5;241m.\u001b[39msleep(\u001b[38;5;241m2\u001b[39m)\n\u001b[1;32m     16\u001b[0m \u001b[38;5;66;03m# 呼叫scroll function，就會直接滾動頁面\u001b[39;00m\n\u001b[0;32m---> 17\u001b[0m \u001b[43mscroll\u001b[49m\u001b[43m(\u001b[49m\u001b[38;5;241;43m5\u001b[39;49m\u001b[43m)\u001b[49m\n\u001b[1;32m     19\u001b[0m \u001b[38;5;28;01mwith\u001b[39;00m req\u001b[38;5;241m.\u001b[39murlopen(request) \u001b[38;5;28;01mas\u001b[39;00m response: \n\u001b[1;32m     20\u001b[0m \u001b[38;5;66;03m#用request去開啟網頁\u001b[39;00m\n\u001b[1;32m     21\u001b[0m     data \u001b[38;5;241m=\u001b[39m response\u001b[38;5;241m.\u001b[39mread()\n",
      "Input \u001b[0;32mIn [3]\u001b[0m, in \u001b[0;36mscroll\u001b[0;34m(scrolltimes)\u001b[0m\n\u001b[1;32m     10\u001b[0m \u001b[38;5;28;01mfor\u001b[39;00m i \u001b[38;5;129;01min\u001b[39;00m \u001b[38;5;28mrange\u001b[39m(scrolltimes):\n\u001b[1;32m     11\u001b[0m   \u001b[38;5;66;03m# 每一次頁面滾動都是滑到網站最下方\u001b[39;00m\n\u001b[1;32m     12\u001b[0m   js \u001b[38;5;241m=\u001b[39m \u001b[38;5;124m'\u001b[39m\u001b[38;5;124mwindow.scrollTo(0, document.body.scrollHeight);\u001b[39m\u001b[38;5;124m'\u001b[39m\n\u001b[0;32m---> 13\u001b[0m   \u001b[43mdriver\u001b[49m\u001b[38;5;241m.\u001b[39mexecute_script(js)\n\u001b[1;32m     14\u001b[0m   time\u001b[38;5;241m.\u001b[39msleep(\u001b[38;5;241m2\u001b[39m)\n",
      "\u001b[0;31mNameError\u001b[0m: name 'driver' is not defined"
     ]
    }
   ],
   "source": [
    "import urllib.request as req\n",
    "\n",
    "\n",
    "url = \"https://www.facebook.com/DongJinZhong/\"#\n",
    "#讓機器看起來更像人類\n",
    "request = req.Request(url, headers = {\n",
    "    \"User-Agent\":\"Mozilla/5.0 (Macintosh; Intel Mac OS X 10_15_7) AppleWebKit/537.36 (KHTML, like Gecko) Chrome/106.0.0.0 Safari/537.36\"})\n",
    "\n",
    "def scroll(scrolltimes):\n",
    "  for i in range(scrolltimes):\n",
    "    # 每一次頁面滾動都是滑到網站最下方\n",
    "    js = 'window.scrollTo(0, document.body.scrollHeight);'\n",
    "    driver.execute_script(js)\n",
    "    time.sleep(2)\n",
    "    \n",
    "# 呼叫scroll function，就會直接滾動頁面\n",
    "scroll(5)\n",
    "\n",
    "with req.urlopen(request) as response: \n",
    "#用request去開啟網頁\n",
    "    data = response.read()\n",
    "print(data)"
   ]
  },
  {
   "cell_type": "code",
   "execution_count": null,
   "id": "89846280",
   "metadata": {},
   "outputs": [],
   "source": [
    "import re\n",
    "import json\n",
    "import bs4\n",
    "url_list = [] #幫等等的url先建list\n",
    "\n",
    "root = bs4.BeautifulSoup(data,\"html.parser\")\n",
    "path1 = root.find_all(class_=\"x1ja2u2z xh8yej3 x1n2onr6 x1yztbdb\") # 尋找所有在 div 標籤內 class=\"zIH PC4 XiG\" \n",
    "print(path1)\n",
    "\n",
    "\n",
    "def Find(string): #抓取str裡面的url #來自網路上\n",
    "  \n",
    "    # findall() has been used \n",
    "    # with valid conditions for urls in string\n",
    "    regex = r\"(?i)\\b((?:https?://|www\\d{0,3}[.]|[a-z0-9.\\-]+[.][a-z]{2,4}/)(?:[^\\s()<>]+|\\(([^\\s()<>]+|(\\([^\\s()<>]+\\)))*\\))+(?:\\(([^\\s()<>]+|(\\([^\\s()<>]+\\)))*\\)|[^\\s`!()\\[\\]{};:'\\\".,<>?«»“”‘’]))\"\n",
    "    url = re.findall(regex,string)      \n",
    "    return [x[0] for x in url]\n",
    "\n",
    "for path2 in path1:\n",
    "    # 尋找style(跟「class」同階層的）裡面的資料\n",
    "    finish = path2.get('style',['description', 'price-label body-3','price title-5',\\\n",
    "                                    'score orange big']) \n",
    "    print(\"finish : \",finish)\n",
    "    print(\"Find(finish) : \",Find(finish))\n",
    "    print(\"   \")\n",
    "    url_list.append(Find(finish))\n",
    "\n",
    "print(\"url_list : \",url_list)\n",
    "print(\"type(url_list) : \",type(url_list))\n"
   ]
  },
  {
   "cell_type": "code",
   "execution_count": null,
   "id": "d67abebb",
   "metadata": {},
   "outputs": [],
   "source": []
  }
 ],
 "metadata": {
  "kernelspec": {
   "display_name": "Python 3 (ipykernel)",
   "language": "python",
   "name": "python3"
  },
  "language_info": {
   "codemirror_mode": {
    "name": "ipython",
    "version": 3
   },
   "file_extension": ".py",
   "mimetype": "text/x-python",
   "name": "python",
   "nbconvert_exporter": "python",
   "pygments_lexer": "ipython3",
   "version": "3.9.12"
  }
 },
 "nbformat": 4,
 "nbformat_minor": 5
}
